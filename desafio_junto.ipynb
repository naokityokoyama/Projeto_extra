{
  "nbformat": 4,
  "nbformat_minor": 0,
  "metadata": {
    "colab": {
      "name": "desafio_junto.ipynb",
      "provenance": [],
      "collapsed_sections": [],
      "authorship_tag": "ABX9TyPda8htSk+pct+7d275kQqi",
      "include_colab_link": true
    },
    "kernelspec": {
      "display_name": "Python 3",
      "name": "python3"
    },
    "language_info": {
      "name": "python"
    }
  },
  "cells": [
    {
      "cell_type": "markdown",
      "metadata": {
        "id": "view-in-github",
        "colab_type": "text"
      },
      "source": [
        "<a href=\"https://colab.research.google.com/github/naokityokoyama/Projeto_extra_desafios/blob/main/desafio_junto.ipynb\" target=\"_parent\"><img src=\"https://colab.research.google.com/assets/colab-badge.svg\" alt=\"Open In Colab\"/></a>"
      ]
    },
    {
      "cell_type": "code",
      "metadata": {
        "colab": {
          "base_uri": "https://localhost:8080/"
        },
        "id": "wysjmYzUZLWG",
        "outputId": "8046dbbc-a643-417b-8a2d-45643faaa840"
      },
      "source": [
        "! pip install shap"
      ],
      "execution_count": null,
      "outputs": [
        {
          "output_type": "stream",
          "text": [
            "Collecting shap\n",
            "\u001b[?25l  Downloading https://files.pythonhosted.org/packages/b9/f4/c5b95cddae15be80f8e58b25edceca105aa83c0b8c86a1edad24a6af80d3/shap-0.39.0.tar.gz (356kB)\n",
            "\u001b[K     |████████████████████████████████| 358kB 6.5MB/s \n",
            "\u001b[?25hRequirement already satisfied: numpy in /usr/local/lib/python3.7/dist-packages (from shap) (1.19.5)\n",
            "Requirement already satisfied: scipy in /usr/local/lib/python3.7/dist-packages (from shap) (1.4.1)\n",
            "Requirement already satisfied: scikit-learn in /usr/local/lib/python3.7/dist-packages (from shap) (0.22.2.post1)\n",
            "Requirement already satisfied: pandas in /usr/local/lib/python3.7/dist-packages (from shap) (1.1.5)\n",
            "Requirement already satisfied: tqdm>4.25.0 in /usr/local/lib/python3.7/dist-packages (from shap) (4.41.1)\n",
            "Collecting slicer==0.0.7\n",
            "  Downloading https://files.pythonhosted.org/packages/78/c2/b3f55dfdb8af9812fdb9baf70cacf3b9e82e505b2bd4324d588888b81202/slicer-0.0.7-py3-none-any.whl\n",
            "Requirement already satisfied: numba in /usr/local/lib/python3.7/dist-packages (from shap) (0.51.2)\n",
            "Requirement already satisfied: cloudpickle in /usr/local/lib/python3.7/dist-packages (from shap) (1.3.0)\n",
            "Requirement already satisfied: joblib>=0.11 in /usr/local/lib/python3.7/dist-packages (from scikit-learn->shap) (1.0.1)\n",
            "Requirement already satisfied: pytz>=2017.2 in /usr/local/lib/python3.7/dist-packages (from pandas->shap) (2018.9)\n",
            "Requirement already satisfied: python-dateutil>=2.7.3 in /usr/local/lib/python3.7/dist-packages (from pandas->shap) (2.8.1)\n",
            "Requirement already satisfied: setuptools in /usr/local/lib/python3.7/dist-packages (from numba->shap) (56.1.0)\n",
            "Requirement already satisfied: llvmlite<0.35,>=0.34.0.dev0 in /usr/local/lib/python3.7/dist-packages (from numba->shap) (0.34.0)\n",
            "Requirement already satisfied: six>=1.5 in /usr/local/lib/python3.7/dist-packages (from python-dateutil>=2.7.3->pandas->shap) (1.15.0)\n",
            "Building wheels for collected packages: shap\n",
            "  Building wheel for shap (setup.py) ... \u001b[?25l\u001b[?25hdone\n",
            "  Created wheel for shap: filename=shap-0.39.0-cp37-cp37m-linux_x86_64.whl size=491632 sha256=e34d1440093607895782e790b032e00f0229f7d974a3547bf5f552bc06eb18a2\n",
            "  Stored in directory: /root/.cache/pip/wheels/15/27/f5/a8ab9da52fd159aae6477b5ede6eaaec69fd130fa0fa59f283\n",
            "Successfully built shap\n",
            "Installing collected packages: slicer, shap\n",
            "Successfully installed shap-0.39.0 slicer-0.0.7\n"
          ],
          "name": "stdout"
        }
      ]
    },
    {
      "cell_type": "markdown",
      "metadata": {
        "id": "-nXP6gka-hoH"
      },
      "source": [
        "![download.jpeg](data:image/jpeg;base64,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)"
      ]
    },
    {
      "cell_type": "markdown",
      "metadata": {
        "id": "3BWZpIWwZMUw"
      },
      "source": [
        "## Desafio Vaga Cientista de Dados\n",
        "\n",
        "## Autor: Naoki Yokoyama\n",
        "\n",
        "## Data 20/05/2021"
      ]
    },
    {
      "cell_type": "markdown",
      "metadata": {
        "id": "7gwves2QZxyC"
      },
      "source": [
        "**Contexto**\n",
        "\n",
        "De acordo com a Organização Mundial da Saúde (OMS), o AVC é a 2ª causa de morte no mundo, responsável por aproximadamente 11% do total de mortes.\n",
        "Este conjunto de dados é usado para prever se um paciente tem probabilidade de desenvolver AVC com base nos parâmetros de entrada como sexo, idade, várias doenças e tabagismo. Cada linha dos dados fornece informações relevantes sobre o paciente.\n",
        "\n",
        "**Informação de Atributo**\n",
        "\n",
        "1) id: identificador único\n",
        "\n",
        "2) sexo: \"Masculino\", \"Feminino\" ou \"Outro\"\n",
        "\n",
        "3) idade: idade do paciente\n",
        "\n",
        "4) hipertensão: 0 se o paciente não tiver hipertensão, 1 se o paciente tiver hipertensão\n",
        "\n",
        "5 ) doença cardiaca: 0 se o paciente não tiver nenhuma doença cardíaca, 1 se o paciente tiver uma doença cardíaca\n",
        "\n",
        "6) casado: \"Não\" ou \"Sim\"\n",
        "\n",
        "7) tipo trabalho: \"filhos\", \"Govt_jov\", \"Never_worked\", \"Particular\" ou \"Autônomo\"\n",
        "\n",
        "8) tipo residencia: \"Rural\" ou \"Urbano\"\n",
        "\n",
        "9) glicose media: nível médio de glicose no sangue\n",
        "\n",
        "10) bmi: índice de massa corporal\n",
        "\n",
        "11) fumante: \"anteriormente fumado\", \"nunca fumado\", \"fuma\"ou \"Desconhecido\" *\n",
        "\n",
        "12) AVC: 1 se o paciente teve um AVC ou 0 se não\n",
        "* Nota: \"Desconhecido\" em smoking_status significa que a informação não está disponível para este paciente\n",
        "\n",
        "**Reconhecimentos**\n",
        "\n",
        "(Fonte confidencial) - Use apenas para fins educacionais.\n",
        "Se você usar este conjunto de dados em sua pesquisa, dê os créditos ao autor."
      ]
    },
    {
      "cell_type": "markdown",
      "metadata": {
        "id": "lDcRSlz_elpf"
      },
      "source": [
        "### 1- Insert database\n",
        "<a id='priemira'></a>"
      ]
    },
    {
      "cell_type": "markdown",
      "metadata": {
        "id": "04ugRtztkzLq"
      },
      "source": [
        "Bibliotecas"
      ]
    },
    {
      "cell_type": "code",
      "metadata": {
        "id": "LMZ9ltEmk06O"
      },
      "source": [
        "import pandas as pd\n",
        "import numpy as np\n",
        "import seaborn as sns\n",
        "import matplotlib.pyplot as plt\n",
        "from sklearn.decomposition import PCA\n",
        "from sklearn.preprocessing import LabelEncoder\n",
        "from sklearn.preprocessing import StandardScaler\n",
        "from sklearn.model_selection import train_test_split\n",
        "from sklearn.linear_model import LinearRegression\n",
        "from sklearn.ensemble import RandomForestRegressor\n",
        "from sklearn.dummy import DummyRegressor\n",
        "from sklearn.tree import DecisionTreeClassifier\n",
        "from sklearn.ensemble import GradientBoostingClassifier\n",
        "from sklearn.model_selection import cross_validate\n",
        "from sklearn.model_selection import KFold\n",
        "from sklearn.metrics import accuracy_score\n",
        "from sklearn.metrics import recall_score\n",
        "from sklearn.metrics import confusion_matrix\n",
        "import pickle\n",
        "from imblearn.over_sampling import SMOTE\n",
        "from sklearn.metrics import classification_report"
      ],
      "execution_count": null,
      "outputs": []
    },
    {
      "cell_type": "markdown",
      "metadata": {
        "id": "mOHC0YsHepmC"
      },
      "source": [
        "### 2- analise exploratoria"
      ]
    },
    {
      "cell_type": "code",
      "metadata": {
        "id": "DR52gu8jf4GO"
      },
      "source": [
        "df = pd.read_csv('https://raw.githubusercontent.com/naokityokoyama/Projeto_extra/main/dados_avc.csv')"
      ],
      "execution_count": null,
      "outputs": []
    },
    {
      "cell_type": "code",
      "metadata": {
        "colab": {
          "base_uri": "https://localhost:8080/",
          "height": 204
        },
        "id": "zaWVBq8beMKk",
        "outputId": "de3f94d1-0d2f-431d-eda5-9606ad9c5fff"
      },
      "source": [
        "df.head()"
      ],
      "execution_count": null,
      "outputs": [
        {
          "output_type": "execute_result",
          "data": {
            "text/html": [
              "<div>\n",
              "<style scoped>\n",
              "    .dataframe tbody tr th:only-of-type {\n",
              "        vertical-align: middle;\n",
              "    }\n",
              "\n",
              "    .dataframe tbody tr th {\n",
              "        vertical-align: top;\n",
              "    }\n",
              "\n",
              "    .dataframe thead th {\n",
              "        text-align: right;\n",
              "    }\n",
              "</style>\n",
              "<table border=\"1\" class=\"dataframe\">\n",
              "  <thead>\n",
              "    <tr style=\"text-align: right;\">\n",
              "      <th></th>\n",
              "      <th>id</th>\n",
              "      <th>gender</th>\n",
              "      <th>age</th>\n",
              "      <th>hypertension</th>\n",
              "      <th>heart_disease</th>\n",
              "      <th>ever_married</th>\n",
              "      <th>work_type</th>\n",
              "      <th>Residence_type</th>\n",
              "      <th>avg_glucose_level</th>\n",
              "      <th>bmi</th>\n",
              "      <th>smoking_status</th>\n",
              "      <th>stroke</th>\n",
              "    </tr>\n",
              "  </thead>\n",
              "  <tbody>\n",
              "    <tr>\n",
              "      <th>0</th>\n",
              "      <td>9046</td>\n",
              "      <td>Male</td>\n",
              "      <td>67.0</td>\n",
              "      <td>0</td>\n",
              "      <td>1</td>\n",
              "      <td>Yes</td>\n",
              "      <td>Private</td>\n",
              "      <td>Urban</td>\n",
              "      <td>228.69</td>\n",
              "      <td>36.6</td>\n",
              "      <td>formerly smoked</td>\n",
              "      <td>1</td>\n",
              "    </tr>\n",
              "    <tr>\n",
              "      <th>1</th>\n",
              "      <td>51676</td>\n",
              "      <td>Female</td>\n",
              "      <td>61.0</td>\n",
              "      <td>0</td>\n",
              "      <td>0</td>\n",
              "      <td>Yes</td>\n",
              "      <td>Self-employed</td>\n",
              "      <td>Rural</td>\n",
              "      <td>202.21</td>\n",
              "      <td>NaN</td>\n",
              "      <td>never smoked</td>\n",
              "      <td>1</td>\n",
              "    </tr>\n",
              "    <tr>\n",
              "      <th>2</th>\n",
              "      <td>31112</td>\n",
              "      <td>Male</td>\n",
              "      <td>80.0</td>\n",
              "      <td>0</td>\n",
              "      <td>1</td>\n",
              "      <td>Yes</td>\n",
              "      <td>Private</td>\n",
              "      <td>Rural</td>\n",
              "      <td>105.92</td>\n",
              "      <td>32.5</td>\n",
              "      <td>never smoked</td>\n",
              "      <td>1</td>\n",
              "    </tr>\n",
              "    <tr>\n",
              "      <th>3</th>\n",
              "      <td>60182</td>\n",
              "      <td>Female</td>\n",
              "      <td>49.0</td>\n",
              "      <td>0</td>\n",
              "      <td>0</td>\n",
              "      <td>Yes</td>\n",
              "      <td>Private</td>\n",
              "      <td>Urban</td>\n",
              "      <td>171.23</td>\n",
              "      <td>34.4</td>\n",
              "      <td>smokes</td>\n",
              "      <td>1</td>\n",
              "    </tr>\n",
              "    <tr>\n",
              "      <th>4</th>\n",
              "      <td>1665</td>\n",
              "      <td>Female</td>\n",
              "      <td>79.0</td>\n",
              "      <td>1</td>\n",
              "      <td>0</td>\n",
              "      <td>Yes</td>\n",
              "      <td>Self-employed</td>\n",
              "      <td>Rural</td>\n",
              "      <td>174.12</td>\n",
              "      <td>24.0</td>\n",
              "      <td>never smoked</td>\n",
              "      <td>1</td>\n",
              "    </tr>\n",
              "  </tbody>\n",
              "</table>\n",
              "</div>"
            ],
            "text/plain": [
              "      id  gender   age  ...   bmi   smoking_status stroke\n",
              "0   9046    Male  67.0  ...  36.6  formerly smoked      1\n",
              "1  51676  Female  61.0  ...   NaN     never smoked      1\n",
              "2  31112    Male  80.0  ...  32.5     never smoked      1\n",
              "3  60182  Female  49.0  ...  34.4           smokes      1\n",
              "4   1665  Female  79.0  ...  24.0     never smoked      1\n",
              "\n",
              "[5 rows x 12 columns]"
            ]
          },
          "metadata": {
            "tags": []
          },
          "execution_count": 3
        }
      ]
    },
    {
      "cell_type": "code",
      "metadata": {
        "colab": {
          "base_uri": "https://localhost:8080/"
        },
        "id": "jliRfC4CeM46",
        "outputId": "13d8ed11-d8b2-4551-c02d-4de90e0c5183"
      },
      "source": [
        "df.shape"
      ],
      "execution_count": null,
      "outputs": [
        {
          "output_type": "execute_result",
          "data": {
            "text/plain": [
              "(5110, 12)"
            ]
          },
          "metadata": {
            "tags": []
          },
          "execution_count": 9
        }
      ]
    },
    {
      "cell_type": "code",
      "metadata": {
        "colab": {
          "base_uri": "https://localhost:8080/"
        },
        "id": "rcMM5VoWewRh",
        "outputId": "dbf941da-f7e8-4044-ec14-c96c24868c96"
      },
      "source": [
        "df.isnull().sum()"
      ],
      "execution_count": null,
      "outputs": [
        {
          "output_type": "execute_result",
          "data": {
            "text/plain": [
              "id                   0\n",
              "gender               0\n",
              "age                  0\n",
              "hypertension         0\n",
              "heart_disease        0\n",
              "ever_married         0\n",
              "work_type            0\n",
              "Residence_type       0\n",
              "avg_glucose_level    0\n",
              "bmi                  0\n",
              "smoking_status       0\n",
              "stroke               0\n",
              "dtype: int64"
            ]
          },
          "metadata": {
            "tags": []
          },
          "execution_count": 71
        }
      ]
    },
    {
      "cell_type": "code",
      "metadata": {
        "colab": {
          "base_uri": "https://localhost:8080/",
          "height": 297
        },
        "id": "1dfuzfFHjOkF",
        "outputId": "2a974fea-3da4-4ea8-f1da-dd12bd068be2"
      },
      "source": [
        "df.describe()"
      ],
      "execution_count": null,
      "outputs": [
        {
          "output_type": "execute_result",
          "data": {
            "text/html": [
              "<div>\n",
              "<style scoped>\n",
              "    .dataframe tbody tr th:only-of-type {\n",
              "        vertical-align: middle;\n",
              "    }\n",
              "\n",
              "    .dataframe tbody tr th {\n",
              "        vertical-align: top;\n",
              "    }\n",
              "\n",
              "    .dataframe thead th {\n",
              "        text-align: right;\n",
              "    }\n",
              "</style>\n",
              "<table border=\"1\" class=\"dataframe\">\n",
              "  <thead>\n",
              "    <tr style=\"text-align: right;\">\n",
              "      <th></th>\n",
              "      <th>id</th>\n",
              "      <th>age</th>\n",
              "      <th>hypertension</th>\n",
              "      <th>heart_disease</th>\n",
              "      <th>avg_glucose_level</th>\n",
              "      <th>bmi</th>\n",
              "      <th>stroke</th>\n",
              "    </tr>\n",
              "  </thead>\n",
              "  <tbody>\n",
              "    <tr>\n",
              "      <th>count</th>\n",
              "      <td>5110.000000</td>\n",
              "      <td>5110.000000</td>\n",
              "      <td>5110.000000</td>\n",
              "      <td>5110.000000</td>\n",
              "      <td>5110.000000</td>\n",
              "      <td>4909.000000</td>\n",
              "      <td>5110.000000</td>\n",
              "    </tr>\n",
              "    <tr>\n",
              "      <th>mean</th>\n",
              "      <td>36517.829354</td>\n",
              "      <td>43.226614</td>\n",
              "      <td>0.097456</td>\n",
              "      <td>0.054012</td>\n",
              "      <td>106.147677</td>\n",
              "      <td>28.893237</td>\n",
              "      <td>0.048728</td>\n",
              "    </tr>\n",
              "    <tr>\n",
              "      <th>std</th>\n",
              "      <td>21161.721625</td>\n",
              "      <td>22.612647</td>\n",
              "      <td>0.296607</td>\n",
              "      <td>0.226063</td>\n",
              "      <td>45.283560</td>\n",
              "      <td>7.854067</td>\n",
              "      <td>0.215320</td>\n",
              "    </tr>\n",
              "    <tr>\n",
              "      <th>min</th>\n",
              "      <td>67.000000</td>\n",
              "      <td>0.080000</td>\n",
              "      <td>0.000000</td>\n",
              "      <td>0.000000</td>\n",
              "      <td>55.120000</td>\n",
              "      <td>10.300000</td>\n",
              "      <td>0.000000</td>\n",
              "    </tr>\n",
              "    <tr>\n",
              "      <th>25%</th>\n",
              "      <td>17741.250000</td>\n",
              "      <td>25.000000</td>\n",
              "      <td>0.000000</td>\n",
              "      <td>0.000000</td>\n",
              "      <td>77.245000</td>\n",
              "      <td>23.500000</td>\n",
              "      <td>0.000000</td>\n",
              "    </tr>\n",
              "    <tr>\n",
              "      <th>50%</th>\n",
              "      <td>36932.000000</td>\n",
              "      <td>45.000000</td>\n",
              "      <td>0.000000</td>\n",
              "      <td>0.000000</td>\n",
              "      <td>91.885000</td>\n",
              "      <td>28.100000</td>\n",
              "      <td>0.000000</td>\n",
              "    </tr>\n",
              "    <tr>\n",
              "      <th>75%</th>\n",
              "      <td>54682.000000</td>\n",
              "      <td>61.000000</td>\n",
              "      <td>0.000000</td>\n",
              "      <td>0.000000</td>\n",
              "      <td>114.090000</td>\n",
              "      <td>33.100000</td>\n",
              "      <td>0.000000</td>\n",
              "    </tr>\n",
              "    <tr>\n",
              "      <th>max</th>\n",
              "      <td>72940.000000</td>\n",
              "      <td>82.000000</td>\n",
              "      <td>1.000000</td>\n",
              "      <td>1.000000</td>\n",
              "      <td>271.740000</td>\n",
              "      <td>97.600000</td>\n",
              "      <td>1.000000</td>\n",
              "    </tr>\n",
              "  </tbody>\n",
              "</table>\n",
              "</div>"
            ],
            "text/plain": [
              "                 id          age  ...          bmi       stroke\n",
              "count   5110.000000  5110.000000  ...  4909.000000  5110.000000\n",
              "mean   36517.829354    43.226614  ...    28.893237     0.048728\n",
              "std    21161.721625    22.612647  ...     7.854067     0.215320\n",
              "min       67.000000     0.080000  ...    10.300000     0.000000\n",
              "25%    17741.250000    25.000000  ...    23.500000     0.000000\n",
              "50%    36932.000000    45.000000  ...    28.100000     0.000000\n",
              "75%    54682.000000    61.000000  ...    33.100000     0.000000\n",
              "max    72940.000000    82.000000  ...    97.600000     1.000000\n",
              "\n",
              "[8 rows x 7 columns]"
            ]
          },
          "metadata": {
            "tags": []
          },
          "execution_count": 11
        }
      ]
    },
    {
      "cell_type": "code",
      "metadata": {
        "id": "oOisBhNMm0-K"
      },
      "source": [
        "lista = ['age','hypertension', 'heart_disease', 'avg_glucose_level', 'bmi', 'stroke']"
      ],
      "execution_count": null,
      "outputs": []
    },
    {
      "cell_type": "code",
      "metadata": {
        "colab": {
          "base_uri": "https://localhost:8080/",
          "height": 620
        },
        "id": "boq-qTaFnFKS",
        "outputId": "50f76e2e-5c96-4793-cc9e-dcf2527f6ec2"
      },
      "source": [
        "plt.figure(figsize=(20,10))\n",
        "for i, j in enumerate(lista):\n",
        "\n",
        "  plt.subplot(2,3,i+1)\n",
        "  sns.histplot(df[j])\n",
        "  plt.title(j)\n",
        "  "
      ],
      "execution_count": null,
      "outputs": [
        {
          "output_type": "display_data",
          "data": {
            "image/png": "[encoded data removed]",
            "text/plain": [
              "<Figure size 1440x720 with 6 Axes>"
            ]
          },
          "metadata": {
            "tags": []
          }
        }
      ]
    },
    {
      "cell_type": "code",
      "metadata": {
        "colab": {
          "base_uri": "https://localhost:8080/",
          "height": 742
        },
        "id": "NHUqt2TWq1Wd",
        "outputId": "45edb11c-2a3a-4415-e2e2-1ebee5c87b1c"
      },
      "source": [
        "plt.figure(figsize=(20,10))\n",
        "for i, j in enumerate(lista):\n",
        "\n",
        "  plt.subplot(2,3,i+1)\n",
        "  sns.boxplot(df[j])\n",
        "  plt.title(j)"
      ],
      "execution_count": null,
      "outputs": [
        {
          "output_type": "stream",
          "text": [
            "Pass the following variable as a keyword arg: x. From version 0.12, the only valid positional argument will be `data`, and passing other arguments without an explicit keyword will result in an error or misinterpretation.\n",
            "Pass the following variable as a keyword arg: x. From version 0.12, the only valid positional argument will be `data`, and passing other arguments without an explicit keyword will result in an error or misinterpretation.\n",
            "Pass the following variable as a keyword arg: x. From version 0.12, the only valid positional argument will be `data`, and passing other arguments without an explicit keyword will result in an error or misinterpretation.\n",
            "Pass the following variable as a keyword arg: x. From version 0.12, the only valid positional argument will be `data`, and passing other arguments without an explicit keyword will result in an error or misinterpretation.\n",
            "Pass the following variable as a keyword arg: x. From version 0.12, the only valid positional argument will be `data`, and passing other arguments without an explicit keyword will result in an error or misinterpretation.\n",
            "Pass the following variable as a keyword arg: x. From version 0.12, the only valid positional argument will be `data`, and passing other arguments without an explicit keyword will result in an error or misinterpretation.\n"
          ],
          "name": "stderr"
        },
        {
          "output_type": "display_data",
          "data": {
            "image/png": "[encoded data removed]",
            "text/plain": [
              "<Figure size 1440x720 with 6 Axes>"
            ]
          },
          "metadata": {
            "tags": []
          }
        }
      ]
    },
    {
      "cell_type": "code",
      "metadata": {
        "colab": {
          "base_uri": "https://localhost:8080/",
          "height": 419
        },
        "id": "cudQUVvTkBeG",
        "outputId": "3235ade5-8b1c-49ce-8b24-584bf12bac59"
      },
      "source": [
        "df_categoricas = df[['gender', 'ever_married', 'work_type', 'Residence_type', 'smoking_status']]\n",
        "df_categoricas"
      ],
      "execution_count": null,
      "outputs": [
        {
          "output_type": "execute_result",
          "data": {
            "text/html": [
              "<div>\n",
              "<style scoped>\n",
              "    .dataframe tbody tr th:only-of-type {\n",
              "        vertical-align: middle;\n",
              "    }\n",
              "\n",
              "    .dataframe tbody tr th {\n",
              "        vertical-align: top;\n",
              "    }\n",
              "\n",
              "    .dataframe thead th {\n",
              "        text-align: right;\n",
              "    }\n",
              "</style>\n",
              "<table border=\"1\" class=\"dataframe\">\n",
              "  <thead>\n",
              "    <tr style=\"text-align: right;\">\n",
              "      <th></th>\n",
              "      <th>gender</th>\n",
              "      <th>ever_married</th>\n",
              "      <th>work_type</th>\n",
              "      <th>Residence_type</th>\n",
              "      <th>smoking_status</th>\n",
              "    </tr>\n",
              "  </thead>\n",
              "  <tbody>\n",
              "    <tr>\n",
              "      <th>0</th>\n",
              "      <td>Male</td>\n",
              "      <td>Yes</td>\n",
              "      <td>Private</td>\n",
              "      <td>Urban</td>\n",
              "      <td>formerly smoked</td>\n",
              "    </tr>\n",
              "    <tr>\n",
              "      <th>1</th>\n",
              "      <td>Female</td>\n",
              "      <td>Yes</td>\n",
              "      <td>Self-employed</td>\n",
              "      <td>Rural</td>\n",
              "      <td>never smoked</td>\n",
              "    </tr>\n",
              "    <tr>\n",
              "      <th>2</th>\n",
              "      <td>Male</td>\n",
              "      <td>Yes</td>\n",
              "      <td>Private</td>\n",
              "      <td>Rural</td>\n",
              "      <td>never smoked</td>\n",
              "    </tr>\n",
              "    <tr>\n",
              "      <th>3</th>\n",
              "      <td>Female</td>\n",
              "      <td>Yes</td>\n",
              "      <td>Private</td>\n",
              "      <td>Urban</td>\n",
              "      <td>smokes</td>\n",
              "    </tr>\n",
              "    <tr>\n",
              "      <th>4</th>\n",
              "      <td>Female</td>\n",
              "      <td>Yes</td>\n",
              "      <td>Self-employed</td>\n",
              "      <td>Rural</td>\n",
              "      <td>never smoked</td>\n",
              "    </tr>\n",
              "    <tr>\n",
              "      <th>...</th>\n",
              "      <td>...</td>\n",
              "      <td>...</td>\n",
              "      <td>...</td>\n",
              "      <td>...</td>\n",
              "      <td>...</td>\n",
              "    </tr>\n",
              "    <tr>\n",
              "      <th>5105</th>\n",
              "      <td>Female</td>\n",
              "      <td>Yes</td>\n",
              "      <td>Private</td>\n",
              "      <td>Urban</td>\n",
              "      <td>never smoked</td>\n",
              "    </tr>\n",
              "    <tr>\n",
              "      <th>5106</th>\n",
              "      <td>Female</td>\n",
              "      <td>Yes</td>\n",
              "      <td>Self-employed</td>\n",
              "      <td>Urban</td>\n",
              "      <td>never smoked</td>\n",
              "    </tr>\n",
              "    <tr>\n",
              "      <th>5107</th>\n",
              "      <td>Female</td>\n",
              "      <td>Yes</td>\n",
              "      <td>Self-employed</td>\n",
              "      <td>Rural</td>\n",
              "      <td>never smoked</td>\n",
              "    </tr>\n",
              "    <tr>\n",
              "      <th>5108</th>\n",
              "      <td>Male</td>\n",
              "      <td>Yes</td>\n",
              "      <td>Private</td>\n",
              "      <td>Rural</td>\n",
              "      <td>formerly smoked</td>\n",
              "    </tr>\n",
              "    <tr>\n",
              "      <th>5109</th>\n",
              "      <td>Female</td>\n",
              "      <td>Yes</td>\n",
              "      <td>Govt_job</td>\n",
              "      <td>Urban</td>\n",
              "      <td>Unknown</td>\n",
              "    </tr>\n",
              "  </tbody>\n",
              "</table>\n",
              "<p>5110 rows × 5 columns</p>\n",
              "</div>"
            ],
            "text/plain": [
              "      gender ever_married      work_type Residence_type   smoking_status\n",
              "0       Male          Yes        Private          Urban  formerly smoked\n",
              "1     Female          Yes  Self-employed          Rural     never smoked\n",
              "2       Male          Yes        Private          Rural     never smoked\n",
              "3     Female          Yes        Private          Urban           smokes\n",
              "4     Female          Yes  Self-employed          Rural     never smoked\n",
              "...      ...          ...            ...            ...              ...\n",
              "5105  Female          Yes        Private          Urban     never smoked\n",
              "5106  Female          Yes  Self-employed          Urban     never smoked\n",
              "5107  Female          Yes  Self-employed          Rural     never smoked\n",
              "5108    Male          Yes        Private          Rural  formerly smoked\n",
              "5109  Female          Yes       Govt_job          Urban          Unknown\n",
              "\n",
              "[5110 rows x 5 columns]"
            ]
          },
          "metadata": {
            "tags": []
          },
          "execution_count": 13
        }
      ]
    },
    {
      "cell_type": "code",
      "metadata": {
        "id": "PGyMYnhgoUq0"
      },
      "source": [
        "lista2 = ['gender', 'ever_married', 'Residence_type', 'work_type', 'smoking_status']"
      ],
      "execution_count": null,
      "outputs": []
    },
    {
      "cell_type": "code",
      "metadata": {
        "colab": {
          "base_uri": "https://localhost:8080/",
          "height": 725
        },
        "id": "jWgre7rEohxw",
        "outputId": "2acf95f7-809f-4ae6-a144-a93e71a1f99f"
      },
      "source": [
        "plt.figure(figsize=(20,10))\n",
        "for i, j in enumerate(lista2):\n",
        "  plt.subplot(2,3,i+1)\n",
        "  sns.countplot(df[j], hue=df['gender'])\n",
        "  plt.title(j)"
      ],
      "execution_count": null,
      "outputs": [
        {
          "output_type": "stream",
          "text": [
            "Pass the following variable as a keyword arg: x. From version 0.12, the only valid positional argument will be `data`, and passing other arguments without an explicit keyword will result in an error or misinterpretation.\n",
            "Pass the following variable as a keyword arg: x. From version 0.12, the only valid positional argument will be `data`, and passing other arguments without an explicit keyword will result in an error or misinterpretation.\n",
            "Pass the following variable as a keyword arg: x. From version 0.12, the only valid positional argument will be `data`, and passing other arguments without an explicit keyword will result in an error or misinterpretation.\n",
            "Pass the following variable as a keyword arg: x. From version 0.12, the only valid positional argument will be `data`, and passing other arguments without an explicit keyword will result in an error or misinterpretation.\n",
            "Pass the following variable as a keyword arg: x. From version 0.12, the only valid positional argument will be `data`, and passing other arguments without an explicit keyword will result in an error or misinterpretation.\n"
          ],
          "name": "stderr"
        },
        {
          "output_type": "display_data",
          "data": {
            "image/png": "[encoded data removed]",
            "text/plain": [
              "<Figure size 1440x720 with 5 Axes>"
            ]
          },
          "metadata": {
            "tags": []
          }
        }
      ]
    },
    {
      "cell_type": "markdown",
      "metadata": {
        "id": "3eNHqDjojm-B"
      },
      "source": [
        "### Resumo de analise exploratoria\n",
        "*    Base de dados desbalanceada (temos 4861 pessoas não tiveram AVC e 249 tiveram AVC)\n",
        "\n",
        "*    Tambem desbalanceamento na coluna hypertension e heart_disease\n",
        "\n",
        "*    Poucos dados faltantes \n",
        "\n",
        "*    Tamanho da base com 5110 instancias e 12 variaveis (sendo uma alvo e outra ID)\n",
        "\n",
        "*    Base da dados com informação de genero, idade e local de moradia (rural e urbano)\n",
        "\n",
        "*    Temos muito outliers nas colunas (avg_glucose_level e bmi) \n",
        "\n",
        "*    coluna idade tende a normal \n",
        "\n",
        "\n",
        "\n",
        "\n",
        "\n"
      ]
    },
    {
      "cell_type": "markdown",
      "metadata": {
        "id": "pc2aIOo-MKW3"
      },
      "source": [
        "Substituindo dados Faltantes\n",
        "vamos fazer uma regressao para substituir os dados faltantes"
      ]
    },
    {
      "cell_type": "code",
      "metadata": {
        "id": "t9h17y3yME5q"
      },
      "source": [
        "ever_married = {'Yes':1, 'No':0}\n",
        "df_dropna = df.dropna()\n",
        "df_dropna = df_dropna.drop('id', axis=1)"
      ],
      "execution_count": null,
      "outputs": []
    },
    {
      "cell_type": "code",
      "metadata": {
        "id": "lVDTbQtHO6KK"
      },
      "source": [
        "df_dropna['ever_married'] = df_dropna['ever_married'].map(ever_married)"
      ],
      "execution_count": null,
      "outputs": []
    },
    {
      "cell_type": "code",
      "metadata": {
        "colab": {
          "base_uri": "https://localhost:8080/",
          "height": 204
        },
        "id": "qaAvoOVTQdFa",
        "outputId": "db89edd4-61fc-4833-aa25-efe0de079622"
      },
      "source": [
        "df_dropna.head()"
      ],
      "execution_count": null,
      "outputs": [
        {
          "output_type": "execute_result",
          "data": {
            "text/html": [
              "<div>\n",
              "<style scoped>\n",
              "    .dataframe tbody tr th:only-of-type {\n",
              "        vertical-align: middle;\n",
              "    }\n",
              "\n",
              "    .dataframe tbody tr th {\n",
              "        vertical-align: top;\n",
              "    }\n",
              "\n",
              "    .dataframe thead th {\n",
              "        text-align: right;\n",
              "    }\n",
              "</style>\n",
              "<table border=\"1\" class=\"dataframe\">\n",
              "  <thead>\n",
              "    <tr style=\"text-align: right;\">\n",
              "      <th></th>\n",
              "      <th>gender</th>\n",
              "      <th>age</th>\n",
              "      <th>hypertension</th>\n",
              "      <th>heart_disease</th>\n",
              "      <th>ever_married</th>\n",
              "      <th>work_type</th>\n",
              "      <th>Residence_type</th>\n",
              "      <th>avg_glucose_level</th>\n",
              "      <th>bmi</th>\n",
              "      <th>smoking_status</th>\n",
              "      <th>stroke</th>\n",
              "    </tr>\n",
              "  </thead>\n",
              "  <tbody>\n",
              "    <tr>\n",
              "      <th>0</th>\n",
              "      <td>Male</td>\n",
              "      <td>67.0</td>\n",
              "      <td>0</td>\n",
              "      <td>1</td>\n",
              "      <td>1</td>\n",
              "      <td>Private</td>\n",
              "      <td>Urban</td>\n",
              "      <td>228.69</td>\n",
              "      <td>36.6</td>\n",
              "      <td>formerly smoked</td>\n",
              "      <td>1</td>\n",
              "    </tr>\n",
              "    <tr>\n",
              "      <th>2</th>\n",
              "      <td>Male</td>\n",
              "      <td>80.0</td>\n",
              "      <td>0</td>\n",
              "      <td>1</td>\n",
              "      <td>1</td>\n",
              "      <td>Private</td>\n",
              "      <td>Rural</td>\n",
              "      <td>105.92</td>\n",
              "      <td>32.5</td>\n",
              "      <td>never smoked</td>\n",
              "      <td>1</td>\n",
              "    </tr>\n",
              "    <tr>\n",
              "      <th>3</th>\n",
              "      <td>Female</td>\n",
              "      <td>49.0</td>\n",
              "      <td>0</td>\n",
              "      <td>0</td>\n",
              "      <td>1</td>\n",
              "      <td>Private</td>\n",
              "      <td>Urban</td>\n",
              "      <td>171.23</td>\n",
              "      <td>34.4</td>\n",
              "      <td>smokes</td>\n",
              "      <td>1</td>\n",
              "    </tr>\n",
              "    <tr>\n",
              "      <th>4</th>\n",
              "      <td>Female</td>\n",
              "      <td>79.0</td>\n",
              "      <td>1</td>\n",
              "      <td>0</td>\n",
              "      <td>1</td>\n",
              "      <td>Self-employed</td>\n",
              "      <td>Rural</td>\n",
              "      <td>174.12</td>\n",
              "      <td>24.0</td>\n",
              "      <td>never smoked</td>\n",
              "      <td>1</td>\n",
              "    </tr>\n",
              "    <tr>\n",
              "      <th>5</th>\n",
              "      <td>Male</td>\n",
              "      <td>81.0</td>\n",
              "      <td>0</td>\n",
              "      <td>0</td>\n",
              "      <td>1</td>\n",
              "      <td>Private</td>\n",
              "      <td>Urban</td>\n",
              "      <td>186.21</td>\n",
              "      <td>29.0</td>\n",
              "      <td>formerly smoked</td>\n",
              "      <td>1</td>\n",
              "    </tr>\n",
              "  </tbody>\n",
              "</table>\n",
              "</div>"
            ],
            "text/plain": [
              "   gender   age  hypertension  ...   bmi   smoking_status stroke\n",
              "0    Male  67.0             0  ...  36.6  formerly smoked      1\n",
              "2    Male  80.0             0  ...  32.5     never smoked      1\n",
              "3  Female  49.0             0  ...  34.4           smokes      1\n",
              "4  Female  79.0             1  ...  24.0     never smoked      1\n",
              "5    Male  81.0             0  ...  29.0  formerly smoked      1\n",
              "\n",
              "[5 rows x 11 columns]"
            ]
          },
          "metadata": {
            "tags": []
          },
          "execution_count": 6
        }
      ]
    },
    {
      "cell_type": "code",
      "metadata": {
        "id": "bu42CLGKPHeJ"
      },
      "source": [
        "label = LabelEncoder()\n",
        "df_dropna['work_type'] = label.fit_transform(df_dropna['work_type'])\n",
        "df_dropna['smoking_status'] = label.fit_transform(df_dropna['smoking_status'])\n",
        "df_dropna['Residence_type'] = label.fit_transform(df_dropna['Residence_type'])\n",
        "df_dropna['gender'] = label.fit_transform(df_dropna['gender'])"
      ],
      "execution_count": null,
      "outputs": []
    },
    {
      "cell_type": "code",
      "metadata": {
        "colab": {
          "base_uri": "https://localhost:8080/",
          "height": 204
        },
        "id": "7eY92WzIRC8C",
        "outputId": "257fdfd5-e53e-4a94-a207-4ffa64dc9aa5"
      },
      "source": [
        "df_dropna.head()"
      ],
      "execution_count": null,
      "outputs": [
        {
          "output_type": "execute_result",
          "data": {
            "text/html": [
              "<div>\n",
              "<style scoped>\n",
              "    .dataframe tbody tr th:only-of-type {\n",
              "        vertical-align: middle;\n",
              "    }\n",
              "\n",
              "    .dataframe tbody tr th {\n",
              "        vertical-align: top;\n",
              "    }\n",
              "\n",
              "    .dataframe thead th {\n",
              "        text-align: right;\n",
              "    }\n",
              "</style>\n",
              "<table border=\"1\" class=\"dataframe\">\n",
              "  <thead>\n",
              "    <tr style=\"text-align: right;\">\n",
              "      <th></th>\n",
              "      <th>gender</th>\n",
              "      <th>age</th>\n",
              "      <th>hypertension</th>\n",
              "      <th>heart_disease</th>\n",
              "      <th>ever_married</th>\n",
              "      <th>work_type</th>\n",
              "      <th>Residence_type</th>\n",
              "      <th>avg_glucose_level</th>\n",
              "      <th>bmi</th>\n",
              "      <th>smoking_status</th>\n",
              "      <th>stroke</th>\n",
              "    </tr>\n",
              "  </thead>\n",
              "  <tbody>\n",
              "    <tr>\n",
              "      <th>0</th>\n",
              "      <td>1</td>\n",
              "      <td>67.0</td>\n",
              "      <td>0</td>\n",
              "      <td>1</td>\n",
              "      <td>1</td>\n",
              "      <td>2</td>\n",
              "      <td>1</td>\n",
              "      <td>228.69</td>\n",
              "      <td>36.6</td>\n",
              "      <td>1</td>\n",
              "      <td>1</td>\n",
              "    </tr>\n",
              "    <tr>\n",
              "      <th>2</th>\n",
              "      <td>1</td>\n",
              "      <td>80.0</td>\n",
              "      <td>0</td>\n",
              "      <td>1</td>\n",
              "      <td>1</td>\n",
              "      <td>2</td>\n",
              "      <td>0</td>\n",
              "      <td>105.92</td>\n",
              "      <td>32.5</td>\n",
              "      <td>2</td>\n",
              "      <td>1</td>\n",
              "    </tr>\n",
              "    <tr>\n",
              "      <th>3</th>\n",
              "      <td>0</td>\n",
              "      <td>49.0</td>\n",
              "      <td>0</td>\n",
              "      <td>0</td>\n",
              "      <td>1</td>\n",
              "      <td>2</td>\n",
              "      <td>1</td>\n",
              "      <td>171.23</td>\n",
              "      <td>34.4</td>\n",
              "      <td>3</td>\n",
              "      <td>1</td>\n",
              "    </tr>\n",
              "    <tr>\n",
              "      <th>4</th>\n",
              "      <td>0</td>\n",
              "      <td>79.0</td>\n",
              "      <td>1</td>\n",
              "      <td>0</td>\n",
              "      <td>1</td>\n",
              "      <td>3</td>\n",
              "      <td>0</td>\n",
              "      <td>174.12</td>\n",
              "      <td>24.0</td>\n",
              "      <td>2</td>\n",
              "      <td>1</td>\n",
              "    </tr>\n",
              "    <tr>\n",
              "      <th>5</th>\n",
              "      <td>1</td>\n",
              "      <td>81.0</td>\n",
              "      <td>0</td>\n",
              "      <td>0</td>\n",
              "      <td>1</td>\n",
              "      <td>2</td>\n",
              "      <td>1</td>\n",
              "      <td>186.21</td>\n",
              "      <td>29.0</td>\n",
              "      <td>1</td>\n",
              "      <td>1</td>\n",
              "    </tr>\n",
              "  </tbody>\n",
              "</table>\n",
              "</div>"
            ],
            "text/plain": [
              "   gender   age  hypertension  ...   bmi  smoking_status  stroke\n",
              "0       1  67.0             0  ...  36.6               1       1\n",
              "2       1  80.0             0  ...  32.5               2       1\n",
              "3       0  49.0             0  ...  34.4               3       1\n",
              "4       0  79.0             1  ...  24.0               2       1\n",
              "5       1  81.0             0  ...  29.0               1       1\n",
              "\n",
              "[5 rows x 11 columns]"
            ]
          },
          "metadata": {
            "tags": []
          },
          "execution_count": 8
        }
      ]
    },
    {
      "cell_type": "code",
      "metadata": {
        "id": "30AgXVluRGZa"
      },
      "source": [
        "X_dropna = df_dropna.drop('bmi', axis=1)\n",
        "y_dropna = df_dropna.bmi"
      ],
      "execution_count": null,
      "outputs": []
    },
    {
      "cell_type": "code",
      "metadata": {
        "id": "vWK0Gb1rRdZn"
      },
      "source": [
        "X_train_, X_test_, y_train_, y_test_ = train_test_split(X_dropna, y_dropna, test_size=0.2, random_state=42)"
      ],
      "execution_count": null,
      "outputs": []
    },
    {
      "cell_type": "code",
      "metadata": {
        "id": "ZkeoEj1NW8Mp"
      },
      "source": [
        "def regressao(estimador):\n",
        "  modelo = estimador\n",
        "  modelo.fit(X_train_, y_train_)\n",
        "  return modelo.score(X_train_, y_train_), modelo.score(X_test_, y_test_)"
      ],
      "execution_count": null,
      "outputs": []
    },
    {
      "cell_type": "code",
      "metadata": {
        "colab": {
          "base_uri": "https://localhost:8080/"
        },
        "id": "lQeGVAtCXWH1",
        "outputId": "844a705b-bbee-4ce0-b1f6-96ebe3457577"
      },
      "source": [
        "print (f'o Random Forest foi {regressao(RandomForestRegressor())}')\n",
        "print (f'a Regressao Linear foi {regressao(LinearRegression())}')\n",
        "print (f'o modelo Dummy foi {regressao(DummyRegressor())}')"
      ],
      "execution_count": null,
      "outputs": [
        {
          "output_type": "stream",
          "text": [
            "o Random Forest foi (0.8850334109115012, 0.17702175321774516)\n",
            "a Regressao Linear foi (0.20030929327023406, 0.16332311564596036)\n",
            "o modelo Dummy foi (0.0, -0.0016457153756548326)\n"
          ],
          "name": "stdout"
        }
      ]
    },
    {
      "cell_type": "markdown",
      "metadata": {
        "id": "l1qs0OvyWmzf"
      },
      "source": [
        "Mas podemos observa que mesmo a base desbalanceada usar o Random Forest foi mais acertivo do que apenas substituir pela media pois o modelo Dummy ficou bem ruim o resultado"
      ]
    },
    {
      "cell_type": "code",
      "metadata": {
        "colab": {
          "base_uri": "https://localhost:8080/"
        },
        "id": "6_pRKb5zSuTO",
        "outputId": "60d94e02-6b39-4d6b-d7d7-606438d20ab2"
      },
      "source": [
        "#inserindo a predição nos valores faltantes BMI\n",
        "df_faltante = df[df['bmi'].isnull()]\n",
        "\n",
        "ever_married = {'Yes':1, 'No':0}\n",
        "df_faltante['ever_married'] = df_faltante['ever_married'].map(ever_married)\n",
        "df_faltante['work_type'] = label.fit_transform(df_faltante['work_type'])\n",
        "df_faltante['smoking_status'] = label.fit_transform(df_faltante['smoking_status'])\n",
        "df_faltante['Residence_type'] = label.fit_transform(df_faltante['Residence_type'])\n",
        "df_faltante['gender'] = label.fit_transform(df_faltante['gender'])\n",
        "df_faltante = df_faltante.drop(['id', 'bmi'], axis=1)"
      ],
      "execution_count": null,
      "outputs": [
        {
          "output_type": "stream",
          "text": [
            "/usr/local/lib/python3.7/dist-packages/ipykernel_launcher.py:5: SettingWithCopyWarning: \n",
            "A value is trying to be set on a copy of a slice from a DataFrame.\n",
            "Try using .loc[row_indexer,col_indexer] = value instead\n",
            "\n",
            "See the caveats in the documentation: https://pandas.pydata.org/pandas-docs/stable/user_guide/indexing.html#returning-a-view-versus-a-copy\n",
            "  \"\"\"\n",
            "/usr/local/lib/python3.7/dist-packages/ipykernel_launcher.py:6: SettingWithCopyWarning: \n",
            "A value is trying to be set on a copy of a slice from a DataFrame.\n",
            "Try using .loc[row_indexer,col_indexer] = value instead\n",
            "\n",
            "See the caveats in the documentation: https://pandas.pydata.org/pandas-docs/stable/user_guide/indexing.html#returning-a-view-versus-a-copy\n",
            "  \n",
            "/usr/local/lib/python3.7/dist-packages/ipykernel_launcher.py:7: SettingWithCopyWarning: \n",
            "A value is trying to be set on a copy of a slice from a DataFrame.\n",
            "Try using .loc[row_indexer,col_indexer] = value instead\n",
            "\n",
            "See the caveats in the documentation: https://pandas.pydata.org/pandas-docs/stable/user_guide/indexing.html#returning-a-view-versus-a-copy\n",
            "  import sys\n",
            "/usr/local/lib/python3.7/dist-packages/ipykernel_launcher.py:8: SettingWithCopyWarning: \n",
            "A value is trying to be set on a copy of a slice from a DataFrame.\n",
            "Try using .loc[row_indexer,col_indexer] = value instead\n",
            "\n",
            "See the caveats in the documentation: https://pandas.pydata.org/pandas-docs/stable/user_guide/indexing.html#returning-a-view-versus-a-copy\n",
            "  \n",
            "/usr/local/lib/python3.7/dist-packages/ipykernel_launcher.py:9: SettingWithCopyWarning: \n",
            "A value is trying to be set on a copy of a slice from a DataFrame.\n",
            "Try using .loc[row_indexer,col_indexer] = value instead\n",
            "\n",
            "See the caveats in the documentation: https://pandas.pydata.org/pandas-docs/stable/user_guide/indexing.html#returning-a-view-versus-a-copy\n",
            "  if __name__ == '__main__':\n"
          ],
          "name": "stderr"
        }
      ]
    },
    {
      "cell_type": "code",
      "metadata": {
        "id": "5EeMdn2fTm1K"
      },
      "source": [
        "#predição\n",
        "random = RandomForestRegressor()\n",
        "random.fit(X_train_, y_train_)\n",
        "random_pred = random.predict(df_faltante)\n",
        "df_faltante_index = df_faltante.index"
      ],
      "execution_count": null,
      "outputs": []
    },
    {
      "cell_type": "code",
      "metadata": {
        "colab": {
          "base_uri": "https://localhost:8080/"
        },
        "id": "k7AX7xDJUjnb",
        "outputId": "8400e143-ff80-44a7-b789-af13d66b8e6c"
      },
      "source": [
        "#substituindo a predição por dados faltantes\n",
        "for i , j in zip(range(len(random_pred)), df_faltante_index):\n",
        "  df['bmi'][j] = random_pred[i]"
      ],
      "execution_count": null,
      "outputs": [
        {
          "output_type": "stream",
          "text": [
            "/usr/local/lib/python3.7/dist-packages/ipykernel_launcher.py:3: SettingWithCopyWarning: \n",
            "A value is trying to be set on a copy of a slice from a DataFrame\n",
            "\n",
            "See the caveats in the documentation: https://pandas.pydata.org/pandas-docs/stable/user_guide/indexing.html#returning-a-view-versus-a-copy\n",
            "  This is separate from the ipykernel package so we can avoid doing imports until\n"
          ],
          "name": "stderr"
        }
      ]
    },
    {
      "cell_type": "markdown",
      "metadata": {
        "id": "rzBn1DzHVW8x"
      },
      "source": [
        "Convertendo a base para modelagem "
      ]
    },
    {
      "cell_type": "code",
      "metadata": {
        "id": "S9P3ezprZfNN"
      },
      "source": [
        "X1 = df"
      ],
      "execution_count": null,
      "outputs": []
    },
    {
      "cell_type": "code",
      "metadata": {
        "id": "TFz78tGpI-sT"
      },
      "source": [
        "X1 = pd.get_dummies(X1['gender'])"
      ],
      "execution_count": null,
      "outputs": []
    },
    {
      "cell_type": "code",
      "metadata": {
        "id": "hSHJB_qZJMOq"
      },
      "source": [
        "X1 = X1.drop('Other', axis=1)"
      ],
      "execution_count": null,
      "outputs": []
    },
    {
      "cell_type": "code",
      "metadata": {
        "colab": {
          "base_uri": "https://localhost:8080/",
          "height": 487
        },
        "id": "ccN6xH3lJbEx",
        "outputId": "f1aab742-4f9e-4200-b8d1-cc01f3e36bc2"
      },
      "source": [
        "X1 = pd.concat([df, X1], axis=1)\n",
        "X1"
      ],
      "execution_count": null,
      "outputs": [
        {
          "output_type": "execute_result",
          "data": {
            "text/html": [
              "<div>\n",
              "<style scoped>\n",
              "    .dataframe tbody tr th:only-of-type {\n",
              "        vertical-align: middle;\n",
              "    }\n",
              "\n",
              "    .dataframe tbody tr th {\n",
              "        vertical-align: top;\n",
              "    }\n",
              "\n",
              "    .dataframe thead th {\n",
              "        text-align: right;\n",
              "    }\n",
              "</style>\n",
              "<table border=\"1\" class=\"dataframe\">\n",
              "  <thead>\n",
              "    <tr style=\"text-align: right;\">\n",
              "      <th></th>\n",
              "      <th>id</th>\n",
              "      <th>gender</th>\n",
              "      <th>age</th>\n",
              "      <th>hypertension</th>\n",
              "      <th>heart_disease</th>\n",
              "      <th>ever_married</th>\n",
              "      <th>work_type</th>\n",
              "      <th>Residence_type</th>\n",
              "      <th>avg_glucose_level</th>\n",
              "      <th>bmi</th>\n",
              "      <th>smoking_status</th>\n",
              "      <th>stroke</th>\n",
              "      <th>Female</th>\n",
              "      <th>Male</th>\n",
              "    </tr>\n",
              "  </thead>\n",
              "  <tbody>\n",
              "    <tr>\n",
              "      <th>0</th>\n",
              "      <td>9046</td>\n",
              "      <td>Male</td>\n",
              "      <td>67.0</td>\n",
              "      <td>0</td>\n",
              "      <td>1</td>\n",
              "      <td>Yes</td>\n",
              "      <td>Private</td>\n",
              "      <td>Urban</td>\n",
              "      <td>228.69</td>\n",
              "      <td>36.600</td>\n",
              "      <td>formerly smoked</td>\n",
              "      <td>1</td>\n",
              "      <td>0</td>\n",
              "      <td>1</td>\n",
              "    </tr>\n",
              "    <tr>\n",
              "      <th>1</th>\n",
              "      <td>51676</td>\n",
              "      <td>Female</td>\n",
              "      <td>61.0</td>\n",
              "      <td>0</td>\n",
              "      <td>0</td>\n",
              "      <td>Yes</td>\n",
              "      <td>Self-employed</td>\n",
              "      <td>Rural</td>\n",
              "      <td>202.21</td>\n",
              "      <td>36.319</td>\n",
              "      <td>never smoked</td>\n",
              "      <td>1</td>\n",
              "      <td>1</td>\n",
              "      <td>0</td>\n",
              "    </tr>\n",
              "    <tr>\n",
              "      <th>2</th>\n",
              "      <td>31112</td>\n",
              "      <td>Male</td>\n",
              "      <td>80.0</td>\n",
              "      <td>0</td>\n",
              "      <td>1</td>\n",
              "      <td>Yes</td>\n",
              "      <td>Private</td>\n",
              "      <td>Rural</td>\n",
              "      <td>105.92</td>\n",
              "      <td>32.500</td>\n",
              "      <td>never smoked</td>\n",
              "      <td>1</td>\n",
              "      <td>0</td>\n",
              "      <td>1</td>\n",
              "    </tr>\n",
              "    <tr>\n",
              "      <th>3</th>\n",
              "      <td>60182</td>\n",
              "      <td>Female</td>\n",
              "      <td>49.0</td>\n",
              "      <td>0</td>\n",
              "      <td>0</td>\n",
              "      <td>Yes</td>\n",
              "      <td>Private</td>\n",
              "      <td>Urban</td>\n",
              "      <td>171.23</td>\n",
              "      <td>34.400</td>\n",
              "      <td>smokes</td>\n",
              "      <td>1</td>\n",
              "      <td>1</td>\n",
              "      <td>0</td>\n",
              "    </tr>\n",
              "    <tr>\n",
              "      <th>4</th>\n",
              "      <td>1665</td>\n",
              "      <td>Female</td>\n",
              "      <td>79.0</td>\n",
              "      <td>1</td>\n",
              "      <td>0</td>\n",
              "      <td>Yes</td>\n",
              "      <td>Self-employed</td>\n",
              "      <td>Rural</td>\n",
              "      <td>174.12</td>\n",
              "      <td>24.000</td>\n",
              "      <td>never smoked</td>\n",
              "      <td>1</td>\n",
              "      <td>1</td>\n",
              "      <td>0</td>\n",
              "    </tr>\n",
              "    <tr>\n",
              "      <th>...</th>\n",
              "      <td>...</td>\n",
              "      <td>...</td>\n",
              "      <td>...</td>\n",
              "      <td>...</td>\n",
              "      <td>...</td>\n",
              "      <td>...</td>\n",
              "      <td>...</td>\n",
              "      <td>...</td>\n",
              "      <td>...</td>\n",
              "      <td>...</td>\n",
              "      <td>...</td>\n",
              "      <td>...</td>\n",
              "      <td>...</td>\n",
              "      <td>...</td>\n",
              "    </tr>\n",
              "    <tr>\n",
              "      <th>5105</th>\n",
              "      <td>18234</td>\n",
              "      <td>Female</td>\n",
              "      <td>80.0</td>\n",
              "      <td>1</td>\n",
              "      <td>0</td>\n",
              "      <td>Yes</td>\n",
              "      <td>Private</td>\n",
              "      <td>Urban</td>\n",
              "      <td>83.75</td>\n",
              "      <td>27.653</td>\n",
              "      <td>never smoked</td>\n",
              "      <td>0</td>\n",
              "      <td>1</td>\n",
              "      <td>0</td>\n",
              "    </tr>\n",
              "    <tr>\n",
              "      <th>5106</th>\n",
              "      <td>44873</td>\n",
              "      <td>Female</td>\n",
              "      <td>81.0</td>\n",
              "      <td>0</td>\n",
              "      <td>0</td>\n",
              "      <td>Yes</td>\n",
              "      <td>Self-employed</td>\n",
              "      <td>Urban</td>\n",
              "      <td>125.20</td>\n",
              "      <td>40.000</td>\n",
              "      <td>never smoked</td>\n",
              "      <td>0</td>\n",
              "      <td>1</td>\n",
              "      <td>0</td>\n",
              "    </tr>\n",
              "    <tr>\n",
              "      <th>5107</th>\n",
              "      <td>19723</td>\n",
              "      <td>Female</td>\n",
              "      <td>35.0</td>\n",
              "      <td>0</td>\n",
              "      <td>0</td>\n",
              "      <td>Yes</td>\n",
              "      <td>Self-employed</td>\n",
              "      <td>Rural</td>\n",
              "      <td>82.99</td>\n",
              "      <td>30.600</td>\n",
              "      <td>never smoked</td>\n",
              "      <td>0</td>\n",
              "      <td>1</td>\n",
              "      <td>0</td>\n",
              "    </tr>\n",
              "    <tr>\n",
              "      <th>5108</th>\n",
              "      <td>37544</td>\n",
              "      <td>Male</td>\n",
              "      <td>51.0</td>\n",
              "      <td>0</td>\n",
              "      <td>0</td>\n",
              "      <td>Yes</td>\n",
              "      <td>Private</td>\n",
              "      <td>Rural</td>\n",
              "      <td>166.29</td>\n",
              "      <td>25.600</td>\n",
              "      <td>formerly smoked</td>\n",
              "      <td>0</td>\n",
              "      <td>0</td>\n",
              "      <td>1</td>\n",
              "    </tr>\n",
              "    <tr>\n",
              "      <th>5109</th>\n",
              "      <td>44679</td>\n",
              "      <td>Female</td>\n",
              "      <td>44.0</td>\n",
              "      <td>0</td>\n",
              "      <td>0</td>\n",
              "      <td>Yes</td>\n",
              "      <td>Govt_job</td>\n",
              "      <td>Urban</td>\n",
              "      <td>85.28</td>\n",
              "      <td>26.200</td>\n",
              "      <td>Unknown</td>\n",
              "      <td>0</td>\n",
              "      <td>1</td>\n",
              "      <td>0</td>\n",
              "    </tr>\n",
              "  </tbody>\n",
              "</table>\n",
              "<p>5110 rows × 14 columns</p>\n",
              "</div>"
            ],
            "text/plain": [
              "         id  gender   age  hypertension  ...   smoking_status stroke Female Male\n",
              "0      9046    Male  67.0             0  ...  formerly smoked      1      0    1\n",
              "1     51676  Female  61.0             0  ...     never smoked      1      1    0\n",
              "2     31112    Male  80.0             0  ...     never smoked      1      0    1\n",
              "3     60182  Female  49.0             0  ...           smokes      1      1    0\n",
              "4      1665  Female  79.0             1  ...     never smoked      1      1    0\n",
              "...     ...     ...   ...           ...  ...              ...    ...    ...  ...\n",
              "5105  18234  Female  80.0             1  ...     never smoked      0      1    0\n",
              "5106  44873  Female  81.0             0  ...     never smoked      0      1    0\n",
              "5107  19723  Female  35.0             0  ...     never smoked      0      1    0\n",
              "5108  37544    Male  51.0             0  ...  formerly smoked      0      0    1\n",
              "5109  44679  Female  44.0             0  ...          Unknown      0      1    0\n",
              "\n",
              "[5110 rows x 14 columns]"
            ]
          },
          "metadata": {
            "tags": []
          },
          "execution_count": 18
        }
      ]
    },
    {
      "cell_type": "code",
      "metadata": {
        "id": "d4ZfGyU_KeoQ"
      },
      "source": [
        "X1 = X1.drop(['id', 'gender', 'stroke'], axis=1)"
      ],
      "execution_count": null,
      "outputs": []
    },
    {
      "cell_type": "markdown",
      "metadata": {
        "id": "wYgR4yi8vxEw"
      },
      "source": [
        "### 3 - A Variavel Alvo é quem teve ou nao AVC"
      ]
    },
    {
      "cell_type": "code",
      "metadata": {
        "id": "zAqR7qvszwN7"
      },
      "source": [
        "y = df['stroke']"
      ],
      "execution_count": null,
      "outputs": []
    },
    {
      "cell_type": "markdown",
      "metadata": {
        "id": "egFNaLn1sUjy"
      },
      "source": [
        "Transformando a base em numerica"
      ]
    },
    {
      "cell_type": "code",
      "metadata": {
        "id": "hm_VIaJDZF2S"
      },
      "source": [
        "ever_married = {'Yes':1, 'No':0}\n",
        "X1['ever_married'] = X1['ever_married'].map(ever_married)\n",
        "\n",
        "X1['work_type'] = label.fit_transform(X1['work_type'])\n",
        "X1['smoking_status'] = label.fit_transform(X1['smoking_status'])\n",
        "X1['Residence_type'] = label.fit_transform(X1['Residence_type'])\n"
      ],
      "execution_count": null,
      "outputs": []
    },
    {
      "cell_type": "code",
      "metadata": {
        "id": "Dd656jJaZpjE"
      },
      "source": [
        "X = X1"
      ],
      "execution_count": null,
      "outputs": []
    },
    {
      "cell_type": "markdown",
      "metadata": {
        "id": "w9MP_YJp02Ok"
      },
      "source": [
        "### 4- Grafico de Dispersão com as variavel AVC sendo 1 vermelho e 0 azul"
      ]
    },
    {
      "cell_type": "code",
      "metadata": {
        "id": "K8CVSj3cLMXx"
      },
      "source": [
        "pca = PCA(n_components=2)\n",
        "pcaX = pca.fit_transform(X)"
      ],
      "execution_count": null,
      "outputs": []
    },
    {
      "cell_type": "code",
      "metadata": {
        "id": "ho5erfwYMANU"
      },
      "source": [
        "pdy = pd.DataFrame(y)\n",
        "pdy = pdy.reset_index()"
      ],
      "execution_count": null,
      "outputs": []
    },
    {
      "cell_type": "code",
      "metadata": {
        "id": "S8An9LsVMYjO"
      },
      "source": [
        "pdx = pd.DataFrame(pcaX)"
      ],
      "execution_count": null,
      "outputs": []
    },
    {
      "cell_type": "code",
      "metadata": {
        "colab": {
          "base_uri": "https://localhost:8080/",
          "height": 419
        },
        "id": "kxaar6iKTmHf",
        "outputId": "d62cdb95-9b7d-4bda-9171-73a05663aea5"
      },
      "source": [
        "df_PCA = pd.concat([pdx, pdy], axis=1).drop('index', axis=1)\n",
        "df_PCA = df_PCA.rename(columns={0:'primeira', 1:'segunda', 'stroke':'avc'})\n",
        "df_PCA"
      ],
      "execution_count": null,
      "outputs": [
        {
          "output_type": "execute_result",
          "data": {
            "text/html": [
              "<div>\n",
              "<style scoped>\n",
              "    .dataframe tbody tr th:only-of-type {\n",
              "        vertical-align: middle;\n",
              "    }\n",
              "\n",
              "    .dataframe tbody tr th {\n",
              "        vertical-align: top;\n",
              "    }\n",
              "\n",
              "    .dataframe thead th {\n",
              "        text-align: right;\n",
              "    }\n",
              "</style>\n",
              "<table border=\"1\" class=\"dataframe\">\n",
              "  <thead>\n",
              "    <tr style=\"text-align: right;\">\n",
              "      <th></th>\n",
              "      <th>primeira</th>\n",
              "      <th>segunda</th>\n",
              "      <th>avc</th>\n",
              "    </tr>\n",
              "  </thead>\n",
              "  <tbody>\n",
              "    <tr>\n",
              "      <th>0</th>\n",
              "      <td>124.935317</td>\n",
              "      <td>-4.944946</td>\n",
              "      <td>1</td>\n",
              "    </tr>\n",
              "    <tr>\n",
              "      <th>1</th>\n",
              "      <td>97.853080</td>\n",
              "      <td>-3.179234</td>\n",
              "      <td>1</td>\n",
              "    </tr>\n",
              "    <tr>\n",
              "      <th>2</th>\n",
              "      <td>5.561660</td>\n",
              "      <td>-36.516297</td>\n",
              "      <td>1</td>\n",
              "    </tr>\n",
              "    <tr>\n",
              "      <th>3</th>\n",
              "      <td>65.351334</td>\n",
              "      <td>3.912537</td>\n",
              "      <td>1</td>\n",
              "    </tr>\n",
              "    <tr>\n",
              "      <th>4</th>\n",
              "      <td>72.443392</td>\n",
              "      <td>-23.856027</td>\n",
              "      <td>1</td>\n",
              "    </tr>\n",
              "    <tr>\n",
              "      <th>...</th>\n",
              "      <td>...</td>\n",
              "      <td>...</td>\n",
              "      <td>...</td>\n",
              "    </tr>\n",
              "    <tr>\n",
              "      <th>5105</th>\n",
              "      <td>-16.504715</td>\n",
              "      <td>-39.452941</td>\n",
              "      <td>0</td>\n",
              "    </tr>\n",
              "    <tr>\n",
              "      <th>5106</th>\n",
              "      <td>25.018727</td>\n",
              "      <td>-35.298890</td>\n",
              "      <td>0</td>\n",
              "    </tr>\n",
              "    <tr>\n",
              "      <th>5107</th>\n",
              "      <td>-24.073982</td>\n",
              "      <td>4.251986</td>\n",
              "      <td>0</td>\n",
              "    </tr>\n",
              "    <tr>\n",
              "      <th>5108</th>\n",
              "      <td>60.462226</td>\n",
              "      <td>2.195991</td>\n",
              "      <td>0</td>\n",
              "    </tr>\n",
              "    <tr>\n",
              "      <th>5109</th>\n",
              "      <td>-20.584760</td>\n",
              "      <td>-3.748593</td>\n",
              "      <td>0</td>\n",
              "    </tr>\n",
              "  </tbody>\n",
              "</table>\n",
              "<p>5110 rows × 3 columns</p>\n",
              "</div>"
            ],
            "text/plain": [
              "        primeira    segunda  avc\n",
              "0     124.935317  -4.944946    1\n",
              "1      97.853080  -3.179234    1\n",
              "2       5.561660 -36.516297    1\n",
              "3      65.351334   3.912537    1\n",
              "4      72.443392 -23.856027    1\n",
              "...          ...        ...  ...\n",
              "5105  -16.504715 -39.452941    0\n",
              "5106   25.018727 -35.298890    0\n",
              "5107  -24.073982   4.251986    0\n",
              "5108   60.462226   2.195991    0\n",
              "5109  -20.584760  -3.748593    0\n",
              "\n",
              "[5110 rows x 3 columns]"
            ]
          },
          "metadata": {
            "tags": []
          },
          "execution_count": 26
        }
      ]
    },
    {
      "cell_type": "code",
      "metadata": {
        "colab": {
          "base_uri": "https://localhost:8080/",
          "height": 530
        },
        "id": "Bjyb-55mUu3Y",
        "outputId": "bf26ac3d-f79d-4511-96a9-80897debec98"
      },
      "source": [
        "plt.figure(figsize=(10,8))\n",
        "palette ={0: \"blue\", 1: 'red'}\n",
        "sns.scatterplot(data=df_PCA,x='primeira', y='segunda', hue='avc', palette=palette)\n",
        "plt.title('Grafico de dispercao');"
      ],
      "execution_count": null,
      "outputs": [
        {
          "output_type": "execute_result",
          "data": {
            "text/plain": [
              "Text(0.5, 1.0, 'Grafico de dispercao')"
            ]
          },
          "metadata": {
            "tags": []
          },
          "execution_count": 27
        },
        {
          "output_type": "display_data",
          "data": {
            "image/png": "[encoded data removed]",
            "text/plain": [
              "<Figure size 720x576 with 1 Axes>"
            ]
          },
          "metadata": {
            "tags": [],
            "needs_background": "light"
          }
        }
      ]
    },
    {
      "cell_type": "markdown",
      "metadata": {
        "id": "515tJ_goPU1A"
      },
      "source": [
        "Colando a base na mesma escala"
      ]
    },
    {
      "cell_type": "code",
      "metadata": {
        "id": "2NXfxdzCPW9e"
      },
      "source": [
        "stand = StandardScaler()\n",
        "X = stand.fit_transform(X)"
      ],
      "execution_count": null,
      "outputs": []
    },
    {
      "cell_type": "markdown",
      "metadata": {
        "id": "T73o9NH0PbFT"
      },
      "source": [
        "Balanceando a base"
      ]
    },
    {
      "cell_type": "code",
      "metadata": {
        "colab": {
          "base_uri": "https://localhost:8080/"
        },
        "id": "cPheFvO5Pd4K",
        "outputId": "74721403-5105-49b1-c87a-24f935b2dbfc"
      },
      "source": [
        "sm = SMOTE(random_state=0)\n",
        "X_res, y_res = sm.fit_resample(X, y)"
      ],
      "execution_count": null,
      "outputs": [
        {
          "output_type": "stream",
          "text": [
            "/usr/local/lib/python3.7/dist-packages/sklearn/utils/deprecation.py:87: FutureWarning: Function safe_indexing is deprecated; safe_indexing is deprecated in version 0.22 and will be removed in version 0.24.\n",
            "  warnings.warn(msg, category=FutureWarning)\n"
          ],
          "name": "stderr"
        }
      ]
    },
    {
      "cell_type": "markdown",
      "metadata": {
        "id": "XcJSZVSg1J2D"
      },
      "source": [
        "### 5 - decision tree"
      ]
    },
    {
      "cell_type": "markdown",
      "metadata": {
        "id": "WdTSwfCAsnNB"
      },
      "source": [
        "Treino e test separando com hold out"
      ]
    },
    {
      "cell_type": "code",
      "metadata": {
        "id": "7s45FzQ9aMBt"
      },
      "source": [
        "X_train, X_test , y_train, y_test = train_test_split(X_res, y_res, test_size=0.25, random_state=42)"
      ],
      "execution_count": null,
      "outputs": []
    },
    {
      "cell_type": "markdown",
      "metadata": {
        "id": "cyhkMfHZsrWS"
      },
      "source": [
        "Modelagem arvore"
      ]
    },
    {
      "cell_type": "code",
      "metadata": {
        "colab": {
          "base_uri": "https://localhost:8080/"
        },
        "id": "s-Zm9n6Vaij-",
        "outputId": "e5062a57-6250-4206-81cf-c9305d836f84"
      },
      "source": [
        "tree = DecisionTreeClassifier()\n",
        "tree.fit(X_train, y_train)\n",
        "\n",
        "print (f'A acuracia da arvore de decisão do treino foi de {tree.score(X_train, y_train)} e de teste foi de {tree.score(X_test, y_test):.2f} ')"
      ],
      "execution_count": null,
      "outputs": [
        {
          "output_type": "stream",
          "text": [
            "A acuracia da arvore de decisão do treino foi de 1.0 e de teste foi de 0.91 \n"
          ],
          "name": "stdout"
        }
      ]
    },
    {
      "cell_type": "code",
      "metadata": {
        "colab": {
          "base_uri": "https://localhost:8080/"
        },
        "id": "FyZnWxhOsUiA",
        "outputId": "742475d8-84f5-4471-ba20-8ee71417d676"
      },
      "source": [
        "y_pred_tree = tree.predict(X_test)\n",
        "recall_tree = recall_score(y_test, y_pred_tree)\n",
        "acuracia_tree = accuracy_score(y_test,y_pred_tree)\n",
        "print (f'O Recall da arvore foi de {recall_tree:.2f}')\n",
        "print (f'A Acuracia da arvore foi de {acuracia_tree:.2f}')"
      ],
      "execution_count": null,
      "outputs": [
        {
          "output_type": "stream",
          "text": [
            "O Recall da arvore foi de 0.92\n",
            "A Acuracia da arvore foi de 0.91\n"
          ],
          "name": "stdout"
        }
      ]
    },
    {
      "cell_type": "code",
      "metadata": {
        "colab": {
          "base_uri": "https://localhost:8080/"
        },
        "id": "suYVojecSmJS",
        "outputId": "75e910ec-3776-4a6d-e7b8-b7f9cee8d921"
      },
      "source": [
        "np.unique(y_pred_tree, return_counts=True)"
      ],
      "execution_count": null,
      "outputs": [
        {
          "output_type": "execute_result",
          "data": {
            "text/plain": [
              "(array([0, 1]), array([1195, 1236]))"
            ]
          },
          "metadata": {
            "tags": []
          },
          "execution_count": 35
        }
      ]
    },
    {
      "cell_type": "markdown",
      "metadata": {
        "id": "oA0tEBbi1IEV"
      },
      "source": [
        "### 6- Rede Neural Classifier\n",
        "\n",
        "Como é uma questão de binaria usaremos a funcao de ativação Sigmoid pois ela funciona muito bem em casos binarios e usaremos a funcao de ativação Relu nas camadas ocultas \n",
        "Tambem faremos uma rede toda conectada e *sequencial*"
      ]
    },
    {
      "cell_type": "code",
      "metadata": {
        "id": "BWTQsrLZbI--"
      },
      "source": [
        "import keras\n",
        "from keras.models import Sequential\n",
        "from keras.layers import Dense"
      ],
      "execution_count": null,
      "outputs": []
    },
    {
      "cell_type": "markdown",
      "metadata": {
        "id": "1sfo87L3dp76"
      },
      "source": [
        "Temos 10 features nas entradas e 1 saida (pois queremos 0 ou 1 e não 0 e 1) \n",
        "então para camada de entrada temos 10 \n",
        "para camada de saida temos 1 \n",
        "e para camada intermediaria podemos fazer uma media 11 / 2 apx = 6 \n",
        "\n",
        "Usarmos o Adam para optimizador com learning rating de 0.001 e decay de 0.00001 e clipvalue de 0.5"
      ]
    },
    {
      "cell_type": "code",
      "metadata": {
        "id": "73g4e4Vdb-8v"
      },
      "source": [
        "def rede_neural_metrics(metrica, predicao=0):\n",
        "  classificador = Sequential()\n",
        "  classificador.add(Dense(units=12, activation='relu', kernel_initializer='random_uniform', input_dim=11))\n",
        "  classificador.add(Dense(units=1, activation='sigmoid'))\n",
        "\n",
        "  optimizador = keras.optimizers.Adam(lr=0.001, decay=0.0001, clipvalue=0.5)\n",
        "\n",
        "  classificador.compile(optimizer=optimizador, loss='binary_crossentropy', metrics=[metrica])\n",
        "\n",
        "  classificador.fit(X_train, y_train, batch_size=10, epochs=100)\n",
        "  return classificador.evaluate(X_test, y_test)\n",
        "  return classiicador.predict(predicao)"
      ],
      "execution_count": null,
      "outputs": []
    },
    {
      "cell_type": "code",
      "metadata": {
        "id": "0ObicKoluJOR",
        "colab": {
          "base_uri": "https://localhost:8080/"
        },
        "outputId": "c1f72362-9f34-4d04-c017-d06fbbd1083a"
      },
      "source": [
        "rede_neural_metrics('Recall')"
      ],
      "execution_count": null,
      "outputs": [
        {
          "output_type": "stream",
          "text": [
            "Epoch 1/100\n",
            "730/730 [==============================] - 1s 1ms/step - loss: 0.5857 - recall: 0.8622\n",
            "Epoch 2/100\n",
            "730/730 [==============================] - 1s 1ms/step - loss: 0.4548 - recall: 0.8810\n",
            "Epoch 3/100\n",
            "730/730 [==============================] - 1s 1ms/step - loss: 0.4474 - recall: 0.8663\n",
            "Epoch 4/100\n",
            "730/730 [==============================] - 1s 1ms/step - loss: 0.4337 - recall: 0.8734\n",
            "Epoch 5/100\n",
            "730/730 [==============================] - 1s 1ms/step - loss: 0.4167 - recall: 0.8873\n",
            "Epoch 6/100\n",
            "730/730 [==============================] - 1s 1ms/step - loss: 0.4233 - recall: 0.8707\n",
            "Epoch 7/100\n",
            "730/730 [==============================] - 1s 1ms/step - loss: 0.4208 - recall: 0.8718\n",
            "Epoch 8/100\n",
            "730/730 [==============================] - 1s 1ms/step - loss: 0.4236 - recall: 0.8734\n",
            "Epoch 9/100\n",
            "730/730 [==============================] - 1s 1ms/step - loss: 0.4228 - recall: 0.8656\n",
            "Epoch 10/100\n",
            "730/730 [==============================] - 1s 1ms/step - loss: 0.4188 - recall: 0.8846\n",
            "Epoch 11/100\n",
            "730/730 [==============================] - 1s 1ms/step - loss: 0.4195 - recall: 0.8775\n",
            "Epoch 12/100\n",
            "730/730 [==============================] - 1s 1ms/step - loss: 0.4142 - recall: 0.8855\n",
            "Epoch 13/100\n",
            "730/730 [==============================] - 1s 1ms/step - loss: 0.4082 - recall: 0.8812\n",
            "Epoch 14/100\n",
            "730/730 [==============================] - 1s 1ms/step - loss: 0.4061 - recall: 0.8801\n",
            "Epoch 15/100\n",
            "730/730 [==============================] - 1s 1ms/step - loss: 0.4156 - recall: 0.8900\n",
            "Epoch 16/100\n",
            "730/730 [==============================] - 1s 1ms/step - loss: 0.4052 - recall: 0.8865\n",
            "Epoch 17/100\n",
            "730/730 [==============================] - 1s 1ms/step - loss: 0.3996 - recall: 0.8835\n",
            "Epoch 18/100\n",
            "730/730 [==============================] - 1s 1ms/step - loss: 0.4007 - recall: 0.8917\n",
            "Epoch 19/100\n",
            "730/730 [==============================] - 1s 1ms/step - loss: 0.4035 - recall: 0.8806\n",
            "Epoch 20/100\n",
            "730/730 [==============================] - 1s 1ms/step - loss: 0.4068 - recall: 0.8852\n",
            "Epoch 21/100\n",
            "730/730 [==============================] - 1s 1ms/step - loss: 0.4070 - recall: 0.8792\n",
            "Epoch 22/100\n",
            "730/730 [==============================] - 1s 1ms/step - loss: 0.4142 - recall: 0.8824\n",
            "Epoch 23/100\n",
            "730/730 [==============================] - 1s 1ms/step - loss: 0.4026 - recall: 0.8802\n",
            "Epoch 24/100\n",
            "730/730 [==============================] - 1s 1ms/step - loss: 0.4127 - recall: 0.8699\n",
            "Epoch 25/100\n",
            "730/730 [==============================] - 1s 1ms/step - loss: 0.4034 - recall: 0.8839\n",
            "Epoch 26/100\n",
            "730/730 [==============================] - 1s 1ms/step - loss: 0.4028 - recall: 0.8792\n",
            "Epoch 27/100\n",
            "730/730 [==============================] - 1s 1ms/step - loss: 0.4124 - recall: 0.8741\n",
            "Epoch 28/100\n",
            "730/730 [==============================] - 1s 1ms/step - loss: 0.4079 - recall: 0.8771\n",
            "Epoch 29/100\n",
            "730/730 [==============================] - 1s 1ms/step - loss: 0.4084 - recall: 0.8838\n",
            "Epoch 30/100\n",
            "730/730 [==============================] - 1s 1ms/step - loss: 0.4059 - recall: 0.8861\n",
            "Epoch 31/100\n",
            "730/730 [==============================] - 1s 1ms/step - loss: 0.4158 - recall: 0.8738\n",
            "Epoch 32/100\n",
            "730/730 [==============================] - 1s 1ms/step - loss: 0.3999 - recall: 0.8851\n",
            "Epoch 33/100\n",
            "730/730 [==============================] - 1s 1ms/step - loss: 0.4023 - recall: 0.8919\n",
            "Epoch 34/100\n",
            "730/730 [==============================] - 1s 1ms/step - loss: 0.3973 - recall: 0.8864\n",
            "Epoch 35/100\n",
            "730/730 [==============================] - 1s 1ms/step - loss: 0.4106 - recall: 0.8835\n",
            "Epoch 36/100\n",
            "730/730 [==============================] - 1s 1ms/step - loss: 0.4038 - recall: 0.8942\n",
            "Epoch 37/100\n",
            "730/730 [==============================] - 1s 1ms/step - loss: 0.4083 - recall: 0.8903\n",
            "Epoch 38/100\n",
            "730/730 [==============================] - 1s 1ms/step - loss: 0.4066 - recall: 0.8899\n",
            "Epoch 39/100\n",
            "730/730 [==============================] - 1s 1ms/step - loss: 0.3964 - recall: 0.8864\n",
            "Epoch 40/100\n",
            "730/730 [==============================] - 1s 1ms/step - loss: 0.4034 - recall: 0.8821\n",
            "Epoch 41/100\n",
            "730/730 [==============================] - 1s 1ms/step - loss: 0.4016 - recall: 0.8824\n",
            "Epoch 42/100\n",
            "730/730 [==============================] - 1s 1ms/step - loss: 0.4009 - recall: 0.8888\n",
            "Epoch 43/100\n",
            "730/730 [==============================] - 1s 1ms/step - loss: 0.3953 - recall: 0.8782\n",
            "Epoch 44/100\n",
            "730/730 [==============================] - 1s 1ms/step - loss: 0.4019 - recall: 0.8833\n",
            "Epoch 45/100\n",
            "730/730 [==============================] - 1s 1ms/step - loss: 0.3997 - recall: 0.8819\n",
            "Epoch 46/100\n",
            "730/730 [==============================] - 1s 1ms/step - loss: 0.4094 - recall: 0.8776\n",
            "Epoch 47/100\n",
            "730/730 [==============================] - 1s 1ms/step - loss: 0.3931 - recall: 0.8922\n",
            "Epoch 48/100\n",
            "730/730 [==============================] - 1s 1ms/step - loss: 0.4029 - recall: 0.8863\n",
            "Epoch 49/100\n",
            "730/730 [==============================] - 1s 1ms/step - loss: 0.4055 - recall: 0.8858\n",
            "Epoch 50/100\n",
            "730/730 [==============================] - 1s 1ms/step - loss: 0.3992 - recall: 0.8776\n",
            "Epoch 51/100\n",
            "730/730 [==============================] - 1s 1ms/step - loss: 0.3923 - recall: 0.8836\n",
            "Epoch 52/100\n",
            "730/730 [==============================] - 1s 1ms/step - loss: 0.4063 - recall: 0.8844\n",
            "Epoch 53/100\n",
            "730/730 [==============================] - 1s 1ms/step - loss: 0.3983 - recall: 0.8851\n",
            "Epoch 54/100\n",
            "730/730 [==============================] - 1s 1ms/step - loss: 0.3971 - recall: 0.8853\n",
            "Epoch 55/100\n",
            "730/730 [==============================] - 1s 1ms/step - loss: 0.3989 - recall: 0.8790\n",
            "Epoch 56/100\n",
            "730/730 [==============================] - 1s 1ms/step - loss: 0.4008 - recall: 0.8856\n",
            "Epoch 57/100\n",
            "730/730 [==============================] - 1s 1ms/step - loss: 0.3970 - recall: 0.8769\n",
            "Epoch 58/100\n",
            "730/730 [==============================] - 1s 1ms/step - loss: 0.4031 - recall: 0.8869\n",
            "Epoch 59/100\n",
            "730/730 [==============================] - 1s 1ms/step - loss: 0.3886 - recall: 0.8875\n",
            "Epoch 60/100\n",
            "730/730 [==============================] - 1s 1ms/step - loss: 0.3901 - recall: 0.8925\n",
            "Epoch 61/100\n",
            "730/730 [==============================] - 1s 1ms/step - loss: 0.3882 - recall: 0.8832\n",
            "Epoch 62/100\n",
            "730/730 [==============================] - 1s 1ms/step - loss: 0.3936 - recall: 0.8848\n",
            "Epoch 63/100\n",
            "730/730 [==============================] - 1s 1ms/step - loss: 0.3892 - recall: 0.8869\n",
            "Epoch 64/100\n",
            "730/730 [==============================] - 1s 1ms/step - loss: 0.3972 - recall: 0.8800\n",
            "Epoch 65/100\n",
            "730/730 [==============================] - 1s 1ms/step - loss: 0.3986 - recall: 0.8751\n",
            "Epoch 66/100\n",
            "730/730 [==============================] - 1s 1ms/step - loss: 0.3990 - recall: 0.8811\n",
            "Epoch 67/100\n",
            "730/730 [==============================] - 1s 1ms/step - loss: 0.4045 - recall: 0.8868\n",
            "Epoch 68/100\n",
            "730/730 [==============================] - 1s 1ms/step - loss: 0.4013 - recall: 0.8833\n",
            "Epoch 69/100\n",
            "730/730 [==============================] - 1s 1ms/step - loss: 0.3945 - recall: 0.8903\n",
            "Epoch 70/100\n",
            "730/730 [==============================] - 1s 1ms/step - loss: 0.3845 - recall: 0.8893\n",
            "Epoch 71/100\n",
            "730/730 [==============================] - 1s 1ms/step - loss: 0.4006 - recall: 0.8708\n",
            "Epoch 72/100\n",
            "730/730 [==============================] - 1s 1ms/step - loss: 0.4010 - recall: 0.8834\n",
            "Epoch 73/100\n",
            "730/730 [==============================] - 1s 1ms/step - loss: 0.3882 - recall: 0.8903\n",
            "Epoch 74/100\n",
            "730/730 [==============================] - 1s 1ms/step - loss: 0.4016 - recall: 0.8808\n",
            "Epoch 75/100\n",
            "730/730 [==============================] - 1s 1ms/step - loss: 0.4027 - recall: 0.8823\n",
            "Epoch 76/100\n",
            "730/730 [==============================] - 1s 1ms/step - loss: 0.3818 - recall: 0.8902\n",
            "Epoch 77/100\n",
            "730/730 [==============================] - 1s 1ms/step - loss: 0.3893 - recall: 0.8878\n",
            "Epoch 78/100\n",
            "730/730 [==============================] - 1s 1ms/step - loss: 0.3982 - recall: 0.8824\n",
            "Epoch 79/100\n",
            "730/730 [==============================] - 1s 1ms/step - loss: 0.3964 - recall: 0.8754\n",
            "Epoch 80/100\n",
            "730/730 [==============================] - 1s 1ms/step - loss: 0.3932 - recall: 0.8882\n",
            "Epoch 81/100\n",
            "730/730 [==============================] - 1s 1ms/step - loss: 0.3951 - recall: 0.8830\n",
            "Epoch 82/100\n",
            "730/730 [==============================] - 1s 1ms/step - loss: 0.3966 - recall: 0.8910\n",
            "Epoch 83/100\n",
            "730/730 [==============================] - 1s 1ms/step - loss: 0.3988 - recall: 0.8894\n",
            "Epoch 84/100\n",
            "730/730 [==============================] - 1s 1ms/step - loss: 0.3981 - recall: 0.8843\n",
            "Epoch 85/100\n",
            "730/730 [==============================] - 1s 1ms/step - loss: 0.3925 - recall: 0.8864\n",
            "Epoch 86/100\n",
            "730/730 [==============================] - 1s 1ms/step - loss: 0.3981 - recall: 0.8772\n",
            "Epoch 87/100\n",
            "730/730 [==============================] - 1s 1ms/step - loss: 0.3943 - recall: 0.8822\n",
            "Epoch 88/100\n",
            "730/730 [==============================] - 1s 1ms/step - loss: 0.3897 - recall: 0.8912\n",
            "Epoch 89/100\n",
            "730/730 [==============================] - 1s 1ms/step - loss: 0.3871 - recall: 0.8857\n",
            "Epoch 90/100\n",
            "730/730 [==============================] - 1s 1ms/step - loss: 0.3936 - recall: 0.8798\n",
            "Epoch 91/100\n",
            "730/730 [==============================] - 1s 1ms/step - loss: 0.3903 - recall: 0.8829\n",
            "Epoch 92/100\n",
            "730/730 [==============================] - 1s 1ms/step - loss: 0.3872 - recall: 0.8939\n",
            "Epoch 93/100\n",
            "730/730 [==============================] - 1s 1ms/step - loss: 0.3853 - recall: 0.8859\n",
            "Epoch 94/100\n",
            "730/730 [==============================] - 1s 1ms/step - loss: 0.3927 - recall: 0.8875\n",
            "Epoch 95/100\n",
            "730/730 [==============================] - 1s 1ms/step - loss: 0.3941 - recall: 0.8707\n",
            "Epoch 96/100\n",
            "730/730 [==============================] - 1s 1ms/step - loss: 0.3886 - recall: 0.8768\n",
            "Epoch 97/100\n",
            "730/730 [==============================] - 1s 1ms/step - loss: 0.4001 - recall: 0.8742\n",
            "Epoch 98/100\n",
            "730/730 [==============================] - 1s 1ms/step - loss: 0.3922 - recall: 0.8862\n",
            "Epoch 99/100\n",
            "730/730 [==============================] - 1s 1ms/step - loss: 0.3968 - recall: 0.8732\n",
            "Epoch 100/100\n",
            "730/730 [==============================] - 1s 1ms/step - loss: 0.3978 - recall: 0.8750\n",
            "76/76 [==============================] - 0s 1ms/step - loss: 0.4082 - recall: 0.8563\n"
          ],
          "name": "stdout"
        },
        {
          "output_type": "execute_result",
          "data": {
            "text/plain": [
              "[0.4082373082637787, 0.8563171029090881]"
            ]
          },
          "metadata": {
            "tags": []
          },
          "execution_count": 58
        }
      ]
    },
    {
      "cell_type": "markdown",
      "metadata": {
        "id": "bYwqEIkg1MkQ"
      },
      "source": [
        "### 7 - Outro modelo vamos fazer o Xgboost com Cross Validation"
      ]
    },
    {
      "cell_type": "code",
      "metadata": {
        "id": "F96UApC6gkXq"
      },
      "source": [
        "gb = GradientBoostingClassifier()"
      ],
      "execution_count": null,
      "outputs": []
    },
    {
      "cell_type": "code",
      "metadata": {
        "id": "WoHAS-eij29J",
        "colab": {
          "base_uri": "https://localhost:8080/"
        },
        "outputId": "90484745-8522-4a3f-839d-052b2a213bbb"
      },
      "source": [
        "scoring = ['recall', 'accuracy']\n",
        "kfold = KFold(n_splits=20, shuffle=True)\n",
        "cross = cross_validate(gb, X, y, scoring=scoring, cv=kfold, return_estimator=True, return_train_score=True)\n",
        "resultado_cross = cross['test_accuracy'].mean()\n",
        "print (f'A Acuracia do Cross Validation foi de {resultado_cross}')"
      ],
      "execution_count": null,
      "outputs": [
        {
          "output_type": "stream",
          "text": [
            "A Acuracia do Cross Validation foi de 0.9499034926470589\n"
          ],
          "name": "stdout"
        }
      ]
    },
    {
      "cell_type": "code",
      "metadata": {
        "colab": {
          "base_uri": "https://localhost:8080/"
        },
        "id": "MYUg7D7FIDl-",
        "outputId": "a5cca1a9-cb25-4bc7-f868-11eda99f06fe"
      },
      "source": [
        "cross['train_recall'].mean()"
      ],
      "execution_count": null,
      "outputs": [
        {
          "output_type": "execute_result",
          "data": {
            "text/plain": [
              "0.11139731532388257"
            ]
          },
          "metadata": {
            "tags": []
          },
          "execution_count": 45
        }
      ]
    },
    {
      "cell_type": "markdown",
      "metadata": {
        "id": "4_qQU2dl_b8z"
      },
      "source": [
        "Matrix de Confusão"
      ]
    },
    {
      "cell_type": "code",
      "metadata": {
        "colab": {
          "base_uri": "https://localhost:8080/",
          "height": 404
        },
        "id": "16lK7Ev5vFL0",
        "outputId": "614ee728-9014-416a-ac8c-fdf46907d967"
      },
      "source": [
        "plt.figure(figsize=(8,6),facecolor=(1, 1, 1))\n",
        "cm = confusion_matrix(y_test, y_pred_tree)\n",
        "sns.heatmap(cm, annot=True, fmt='g', cmap='Reds')\n",
        "plt.xlabel('Predicted')\n",
        "plt.ylabel('True')\n",
        "plt.title('Confusion Matrix Decision Tree');"
      ],
      "execution_count": null,
      "outputs": [
        {
          "output_type": "display_data",
          "data": {
            "image/png": "[encoded data removed]",
            "text/plain": [
              "<Figure size 576x432 with 2 Axes>"
            ]
          },
          "metadata": {
            "tags": []
          }
        }
      ]
    },
    {
      "cell_type": "markdown",
      "metadata": {
        "id": "qCMTw-0L1OLe"
      },
      "source": [
        "### 8 - justificar a metrica "
      ]
    },
    {
      "cell_type": "markdown",
      "metadata": {
        "id": "Y__8tprKVaBa"
      },
      "source": [
        "O recall pode ser usada em uma situação em que os Falsos Negativos são considerados mais prejudiciais que os Falsos Positivos. Por exemplo, o modelo deve de qualquer maneira encontrar todos os pacientes doentes, mesmo que classifique alguns saudáveis como doentes (situação de Falso Positivo) no processo. Ou seja, o modelo deve ter alto recall, pois classificar pacientes doentes como saudáveis pode ser uma tragédia.\n",
        "\n",
        "Então nesse caso a metrica escollhida deve ser o RECALL"
      ]
    },
    {
      "cell_type": "markdown",
      "metadata": {
        "id": "97hnYWN0kYIa"
      },
      "source": [
        "### 9- Escolha um dos tres modelos acima. "
      ]
    },
    {
      "cell_type": "markdown",
      "metadata": {
        "id": "5OdAcbcU1Pi-"
      },
      "source": [
        "O modelo escolhido para esse caso foi a arvore de decisão simples, pois como o resultado ficou muito proximo das rede neurais o modelos de machine learning são mais faceis de ser implantandos, de manutenção e tambem tem um custo computacional muito menor comparando a rede neural\n",
        "\n",
        "O Falso Negativo é muito importante pois se uma pessoa fala que tem AVC e na verdade não tem isso não tem problema pois a pessoa tem saude plena agora no caso do Falso Negativo é muito serio pois se um paciente é diagnosticado como não tem AVC e na verdade ele tem\n",
        "\n",
        "No nosso case tivemos uma Acuracia de 91% e recall de 92% então o nosso limiar para esse caso é sem duvida o Recall e sua metrica foi de 92% e com isso podemos aceitar um erro no recall de até no maximo 10%"
      ]
    },
    {
      "cell_type": "markdown",
      "metadata": {
        "id": "jwoXMdde1qAK"
      },
      "source": [
        "### 10 - Realize uma análise de \"Equal Error Rate\" e uma análise \"SHAP\" para o modelo a cima e descreva\n",
        "###suas conclusões."
      ]
    },
    {
      "cell_type": "code",
      "metadata": {
        "id": "R64Bi9C0SfLz"
      },
      "source": [
        "X_shap = X1\n",
        "y_shap = df.stroke"
      ],
      "execution_count": null,
      "outputs": []
    },
    {
      "cell_type": "code",
      "metadata": {
        "id": "l9CcIaqaHxrL"
      },
      "source": [
        "pd.plotting.hist_series"
      ],
      "execution_count": null,
      "outputs": []
    },
    {
      "cell_type": "code",
      "metadata": {
        "id": "pJQZHZguRcli"
      },
      "source": [
        "X_train_, X_test_ , y_train_, y_test_ = train_test_split(X_shap, y_shap, test_size=0.25, random_state=42, stratify=y)"
      ],
      "execution_count": null,
      "outputs": []
    },
    {
      "cell_type": "code",
      "metadata": {
        "id": "NEmtauqtXag8"
      },
      "source": [
        "import shap\n",
        "from sklearn.ensemble import RandomForestClassifier"
      ],
      "execution_count": null,
      "outputs": []
    },
    {
      "cell_type": "code",
      "metadata": {
        "colab": {
          "base_uri": "https://localhost:8080/"
        },
        "id": "4l_IADmCX9Oc",
        "outputId": "fe833197-096c-49f8-83f8-3339fb5cb5c0"
      },
      "source": [
        "random_cls = RandomForestClassifier()\n",
        "random_cls.fit(X_train_,y_train_)"
      ],
      "execution_count": null,
      "outputs": [
        {
          "output_type": "execute_result",
          "data": {
            "text/plain": [
              "RandomForestClassifier(bootstrap=True, ccp_alpha=0.0, class_weight=None,\n",
              "                       criterion='gini', max_depth=None, max_features='auto',\n",
              "                       max_leaf_nodes=None, max_samples=None,\n",
              "                       min_impurity_decrease=0.0, min_impurity_split=None,\n",
              "                       min_samples_leaf=1, min_samples_split=2,\n",
              "                       min_weight_fraction_leaf=0.0, n_estimators=100,\n",
              "                       n_jobs=None, oob_score=False, random_state=None,\n",
              "                       verbose=0, warm_start=False)"
            ]
          },
          "metadata": {
            "tags": []
          },
          "execution_count": 42
        }
      ]
    },
    {
      "cell_type": "code",
      "metadata": {
        "colab": {
          "base_uri": "https://localhost:8080/",
          "height": 386
        },
        "id": "Qqjxhz73YHGT",
        "outputId": "5dd16ba7-3696-4ee7-bd25-168a81d9e127"
      },
      "source": [
        "explorer = shap.TreeExplainer(random_cls)\n",
        "X_importance = X_test_\n",
        "shap_values = explorer.shap_values(X_importance)\n",
        "shap.summary_plot(shap_values, X_importance)"
      ],
      "execution_count": null,
      "outputs": [
        {
          "output_type": "display_data",
          "data": {
            "image/png": "[encoded data removed]",
            "text/plain": [
              "<Figure size 576x424.8 with 1 Axes>"
            ]
          },
          "metadata": {
            "tags": [],
            "needs_background": "light"
          }
        }
      ]
    },
    {
      "cell_type": "markdown",
      "metadata": {
        "id": "cKHASb-igMDv"
      },
      "source": [
        "Dado a analise Shap podemos reparar com precisão quais features são de fato relevantes para nosso problema\n",
        "pois alem do grau de importancia podemos reparar tambem na contrinuição de cada classe (0,1) com cada feature \n",
        "Com o Shap podemos de fato saber quais variaveis são importantes para nosso caso e assim realizar uma modelagem mais apropriada."
      ]
    },
    {
      "cell_type": "markdown",
      "metadata": {
        "id": "ZpD0qWw69BrX"
      },
      "source": [
        "Com relação ao Equal Error Rate pude notar muita aplicabilidade em sistemas biometricos que está se falando tambem para o universo de machine learning que até ja possui uma library do python o pyerr porem como é um assunto novo para mim não pude disserta sobre essa metrica mas que já estou estudando sobre."
      ]
    },
    {
      "cell_type": "markdown",
      "metadata": {
        "id": "dbvLBA173VJ0"
      },
      "source": [
        "### 11 - Crie uma classe que carregue o modelo treinado do disco e tenha uma função de predição. A função de\n",
        "### predição deve receber como parâmetro uma única amostra de dados e retorne o resultado de predição\n",
        "### (0 ou 1) utilizando o limiar definido na questão 9. \n"
      ]
    },
    {
      "cell_type": "markdown",
      "metadata": {
        "id": "zqJiZ-x2VdO2"
      },
      "source": [
        "Para esse case o modelo que melhor se sair foi a arvore de decisão"
      ]
    },
    {
      "cell_type": "code",
      "metadata": {
        "id": "6AqIh7OEzz0L"
      },
      "source": [
        "with open('tree.pkl', 'wb') as file:\n",
        "  pickle.dump(tree, file)"
      ],
      "execution_count": null,
      "outputs": []
    },
    {
      "cell_type": "code",
      "metadata": {
        "id": "JcFhDZ-kcNQR"
      },
      "source": [
        "class model:\n",
        "  def previsao(x):\n",
        "    with open('tree.pkl', 'rb') as file:\n",
        "      model = pickle.load(file)\n",
        "      return model.predict(x)[0]"
      ],
      "execution_count": null,
      "outputs": []
    },
    {
      "cell_type": "code",
      "metadata": {
        "id": "UMHUTnhfd7_A"
      },
      "source": [
        "amostra1 = X_train[830:831]\n",
        "amostra2 = X_train[831:832]                  "
      ],
      "execution_count": null,
      "outputs": []
    },
    {
      "cell_type": "code",
      "metadata": {
        "id": "8_CS-mYt3zrp"
      },
      "source": [
        "resultado_amostra1 = model.previsao(amostra1)\n",
        "resultado_amostra2 = model.previsao(amostra2)"
      ],
      "execution_count": null,
      "outputs": []
    },
    {
      "cell_type": "code",
      "metadata": {
        "colab": {
          "base_uri": "https://localhost:8080/"
        },
        "id": "CszVk39X4sYn",
        "outputId": "1738b226-3cb0-4898-bd0f-810028ecfff1"
      },
      "source": [
        "print (f'A previsao da amostra 1 foi de {resultado_amostra1} e da amostra 2 foi de {resultado_amostra2}')"
      ],
      "execution_count": null,
      "outputs": [
        {
          "output_type": "stream",
          "text": [
            "A previsao da amostra 1 foi de 1 e da amostra 2 foi de 0\n"
          ],
          "name": "stdout"
        }
      ]
    },
    {
      "cell_type": "markdown",
      "metadata": {
        "id": "57242hwX3pzq"
      },
      "source": [
        "### 12 - Disserte sobre como seria o modelo ideal para que o modelo gerado seja colocado em produção, de\n",
        "### forma que possa ser utilizado para realizar predições em tempo real."
      ]
    },
    {
      "cell_type": "markdown",
      "metadata": {
        "id": "QDupZDQ4XmqZ"
      },
      "source": [
        "Nesse caso teriamos que testar mais alguns estimadores pois fizemos apenas 3 construção de modelos (1 arvore de decisão simples, 1 rede neural e 1 modelo de gradient buster em cross validation)\n",
        "Embora acreditasse que o Modelo de cross validation se sairia melhor que um arvore simples em hold out \n",
        "\n",
        "Então podemos concluir que não precisamos gastar poder computacinal para criar uma rede neural visto que o modelo de arvore atendeu ao problema e que tambem não é necessario fazer uma validação cruzada \n",
        "\n",
        "O que vale a pena é testar outros estimadores no hold out e definir alguns huper parametros.\n",
        "\n",
        "Esse modelo que foi salvo está atendendo bem ao problema agora seria interessante realizar um deploy para algum serviço SAAS mesmo como Heroku ou até mesmo algum cloud computer como AWS, GCP, etc\n",
        "\n",
        "Colocando o serviço em Nuvem você terá acesso ao modelo em tempo real.\n",
        "\n",
        "O que é interessante é realizar o Deploy diante de Ambiente Virtual e também utilizar o Docker para que possamos garantir a forma que o modelo se saiu nesse teste possa repetir a perfomace onde quer que ele esteja rodando."
      ]
    },
    {
      "cell_type": "markdown",
      "metadata": {
        "id": "_QUDxJ9R3cLB"
      },
      "source": [
        "### 13 - Escreva uma função que receba uma lista (array) de numeros inteiros e retorne um booleano (True ou\n",
        "### False) indicando se a lista é monotônica. Para essa não é permitido o uso de nenhuma biblioteca,\n",
        "### somente a linguagem Python com seus tipos nativos.\n",
        "### def isMonotonic(A: List[int]) -> bool:\n"
      ]
    },
    {
      "cell_type": "code",
      "metadata": {
        "id": "n0BxfzyX8u1C"
      },
      "source": [
        "def isMonotonic(*args):\n",
        "  lista = [*args]\n",
        "  [int(x) for x in lista]\n",
        "  crescente = sorted(lista)\n",
        "  decrescente = sorted(lista, reverse=True)\n",
        "  if lista == crescente or lista == decrescente:\n",
        "    return True\n",
        "  else:\n",
        "    return False"
      ],
      "execution_count": null,
      "outputs": []
    },
    {
      "cell_type": "code",
      "metadata": {
        "id": "DPBDrZXi_DNj"
      },
      "source": [
        "isMonotonic(1.0,2.0, 3), isMonotonic(3.0, 2.0, 1), isMonotonic(4,2,7)"
      ],
      "execution_count": null,
      "outputs": []
    },
    {
      "cell_type": "markdown",
      "metadata": {
        "id": "BUmVqfC-bpLA"
      },
      "source": [
        "# Conclusão"
      ]
    },
    {
      "cell_type": "markdown",
      "metadata": {
        "id": "bmIXnSEmnAcY"
      },
      "source": [
        "A interessante problematica desse caso em detectar AVC é algo extremamente importante\n",
        "Nesse desafio proposto fizemos a analise exploratoria e tratamos os dados nulos e tambem o desbalanceamento dos dados\n",
        "substiuição de dados nulos, e criação de modelo preditivo.\n",
        "Sabemos que nesse desafio existe muito onde melhorar como desde o tratamento dos dados faltantes, dos balanceamentos dos dados e até mesmo a criação do modelo preditivo (com escolha de outros estimadores, e hiper parametros) \n",
        "Mas o nosso resultado mostrou que o caminho iniciado nesse projeto é promissor."
      ]
    }
  ]
}