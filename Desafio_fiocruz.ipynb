{
  "nbformat": 4,
  "nbformat_minor": 0,
  "metadata": {
    "colab": {
      "name": "Desafio_fiocruz.ipynb",
      "provenance": [],
      "collapsed_sections": [],
      "authorship_tag": "ABX9TyPY1Up9oJynqeFj/vg+sbe0",
      "include_colab_link": true
    },
    "kernelspec": {
      "name": "python3",
      "display_name": "Python 3"
    }
  },
  "cells": [
    {
      "cell_type": "markdown",
      "metadata": {
        "id": "view-in-github",
        "colab_type": "text"
      },
      "source": [
        "<a href=\"https://colab.research.google.com/github/naokityokoyama/Projeto_extra/blob/main/Desafio_fiocruz.ipynb\" target=\"_parent\"><img src=\"https://colab.research.google.com/assets/colab-badge.svg\" alt=\"Open In Colab\"/></a>"
      ]
    },
    {
      "cell_type": "markdown",
      "metadata": {
        "id": "x3X_Z7D-T9zJ"
      },
      "source": [
        "# Desafio CIDACS:\r\n",
        "## Autor: Naoki Yokoyama"
      ]
    },
    {
      "cell_type": "code",
      "metadata": {
        "id": "fNnvoPGhpZvS"
      },
      "source": [
        "import pandas as pd"
      ],
      "execution_count": 402,
      "outputs": []
    },
    {
      "cell_type": "code",
      "metadata": {
        "colab": {
          "base_uri": "https://localhost:8080/",
          "height": 501
        },
        "id": "CvJIX4fGpdnT",
        "outputId": "50c29485-e2ab-41c7-c203-3a0f9bb8a4b3"
      },
      "source": [
        "usb = pd.read_csv('https://raw.githubusercontent.com/cidacslab/npd_introducing/master/candidates/ubs.csv')\r\n",
        "usb.head()"
      ],
      "execution_count": 218,
      "outputs": [
        {
          "output_type": "execute_result",
          "data": {
            "text/html": [
              "<div>\n",
              "<style scoped>\n",
              "    .dataframe tbody tr th:only-of-type {\n",
              "        vertical-align: middle;\n",
              "    }\n",
              "\n",
              "    .dataframe tbody tr th {\n",
              "        vertical-align: top;\n",
              "    }\n",
              "\n",
              "    .dataframe thead th {\n",
              "        text-align: right;\n",
              "    }\n",
              "</style>\n",
              "<table border=\"1\" class=\"dataframe\">\n",
              "  <thead>\n",
              "    <tr style=\"text-align: right;\">\n",
              "      <th></th>\n",
              "      <th>vlr_latitude</th>\n",
              "      <th>vlr_longitude</th>\n",
              "      <th>cod_munic</th>\n",
              "      <th>cod_cnes</th>\n",
              "      <th>nom_estab</th>\n",
              "      <th>dsc_endereco</th>\n",
              "      <th>dsc_bairro</th>\n",
              "      <th>dsc_cidade</th>\n",
              "      <th>dsc_telefone</th>\n",
              "      <th>dsc_estrut_fisic_ambiencia</th>\n",
              "      <th>dsc_adap_defic_fisic_idosos</th>\n",
              "      <th>dsc_equipamentos</th>\n",
              "      <th>dsc_medicamentos</th>\n",
              "      <th>data_eq</th>\n",
              "    </tr>\n",
              "  </thead>\n",
              "  <tbody>\n",
              "    <tr>\n",
              "      <th>0</th>\n",
              "      <td>-10.911237</td>\n",
              "      <td>-37.062078</td>\n",
              "      <td>280030</td>\n",
              "      <td>3492</td>\n",
              "      <td>US OSWALDO DE SOUZA</td>\n",
              "      <td>TV ADALTO BOTELHO</td>\n",
              "      <td>GETULIO VARGAS</td>\n",
              "      <td>Aracaju</td>\n",
              "      <td>7931791326</td>\n",
              "      <td>Desempenho acima da média</td>\n",
              "      <td>Desempenho muito acima da média</td>\n",
              "      <td>Desempenho mediano ou  um pouco abaixo da média</td>\n",
              "      <td>Desempenho acima da média</td>\n",
              "      <td>2017-06-15</td>\n",
              "    </tr>\n",
              "    <tr>\n",
              "      <th>1</th>\n",
              "      <td>-9.485943</td>\n",
              "      <td>-35.857573</td>\n",
              "      <td>270770</td>\n",
              "      <td>6685315</td>\n",
              "      <td>USF ENFERMEIRO PEDRO JACINTO AREA 09</td>\n",
              "      <td>R 15 DE AGOSTO</td>\n",
              "      <td>CENTRO</td>\n",
              "      <td>Rio Largo</td>\n",
              "      <td>Não se aplica</td>\n",
              "      <td>Desempenho mediano ou  um pouco abaixo da média</td>\n",
              "      <td>Desempenho mediano ou  um pouco abaixo da média</td>\n",
              "      <td>Desempenho mediano ou  um pouco abaixo da média</td>\n",
              "      <td>Desempenho mediano ou  um pouco abaixo da média</td>\n",
              "      <td>2016-07-18</td>\n",
              "    </tr>\n",
              "    <tr>\n",
              "      <th>2</th>\n",
              "      <td>-23.896000</td>\n",
              "      <td>-53.410000</td>\n",
              "      <td>411885</td>\n",
              "      <td>6811299</td>\n",
              "      <td>UNIDADE DE ATENCAO PRIMARIA SAUDE DA FAMILIA</td>\n",
              "      <td>RUA GUILHERME BRUXEL</td>\n",
              "      <td>CENTRO</td>\n",
              "      <td>Perobal</td>\n",
              "      <td>4436251462</td>\n",
              "      <td>Desempenho muito acima da média</td>\n",
              "      <td>Desempenho muito acima da média</td>\n",
              "      <td>Desempenho mediano ou  um pouco abaixo da média</td>\n",
              "      <td>Desempenho muito acima da média</td>\n",
              "      <td>2017-09-11</td>\n",
              "    </tr>\n",
              "    <tr>\n",
              "      <th>3</th>\n",
              "      <td>-16.447874</td>\n",
              "      <td>-41.009860</td>\n",
              "      <td>313580</td>\n",
              "      <td>6335616</td>\n",
              "      <td>POSTO DE SAUDE DE BOM JESUS DA ALDEIA</td>\n",
              "      <td>RUA TEOFILO OTONI</td>\n",
              "      <td>ALDEIA</td>\n",
              "      <td>Jequitinhonha</td>\n",
              "      <td>3337411423</td>\n",
              "      <td>Desempenho mediano ou  um pouco abaixo da média</td>\n",
              "      <td>Desempenho acima da média</td>\n",
              "      <td>Desempenho mediano ou  um pouco abaixo da média</td>\n",
              "      <td>Desempenho mediano ou  um pouco abaixo da média</td>\n",
              "      <td>2017-02-28</td>\n",
              "    </tr>\n",
              "    <tr>\n",
              "      <th>4</th>\n",
              "      <td>-6.573311</td>\n",
              "      <td>-35.107605</td>\n",
              "      <td>250930</td>\n",
              "      <td>6662226</td>\n",
              "      <td>POSTO ANCORA URUBA</td>\n",
              "      <td>RODOVIA PB N 065</td>\n",
              "      <td>SITIO</td>\n",
              "      <td>Mataraca</td>\n",
              "      <td>Não se aplica</td>\n",
              "      <td>Desempenho acima da média</td>\n",
              "      <td>Desempenho acima da média</td>\n",
              "      <td>Desempenho mediano ou  um pouco abaixo da média</td>\n",
              "      <td>Desempenho mediano ou  um pouco abaixo da média</td>\n",
              "      <td>2018-06-04</td>\n",
              "    </tr>\n",
              "  </tbody>\n",
              "</table>\n",
              "</div>"
            ],
            "text/plain": [
              "   vlr_latitude  ...     data_eq\n",
              "0    -10.911237  ...  2017-06-15\n",
              "1     -9.485943  ...  2016-07-18\n",
              "2    -23.896000  ...  2017-09-11\n",
              "3    -16.447874  ...  2017-02-28\n",
              "4     -6.573311  ...  2018-06-04\n",
              "\n",
              "[5 rows x 14 columns]"
            ]
          },
          "metadata": {
            "tags": []
          },
          "execution_count": 218
        }
      ]
    },
    {
      "cell_type": "code",
      "metadata": {
        "id": "IhVtq0Fwu0TJ"
      },
      "source": [
        "usb.drop(['vlr_latitude'\t,'vlr_longitude'], axis=1, inplace=True)\r\n"
      ],
      "execution_count": 208,
      "outputs": []
    },
    {
      "cell_type": "code",
      "metadata": {
        "colab": {
          "base_uri": "https://localhost:8080/",
          "height": 464
        },
        "id": "h6baXD9su-fQ",
        "outputId": "8d9868a8-2a33-4d32-a07a-612f4727608c"
      },
      "source": [
        "usb.head()"
      ],
      "execution_count": 134,
      "outputs": [
        {
          "output_type": "execute_result",
          "data": {
            "text/html": [
              "<div>\n",
              "<style scoped>\n",
              "    .dataframe tbody tr th:only-of-type {\n",
              "        vertical-align: middle;\n",
              "    }\n",
              "\n",
              "    .dataframe tbody tr th {\n",
              "        vertical-align: top;\n",
              "    }\n",
              "\n",
              "    .dataframe thead th {\n",
              "        text-align: right;\n",
              "    }\n",
              "</style>\n",
              "<table border=\"1\" class=\"dataframe\">\n",
              "  <thead>\n",
              "    <tr style=\"text-align: right;\">\n",
              "      <th></th>\n",
              "      <th>cod_munic</th>\n",
              "      <th>cod_cnes</th>\n",
              "      <th>nom_estab</th>\n",
              "      <th>dsc_endereco</th>\n",
              "      <th>dsc_bairro</th>\n",
              "      <th>dsc_cidade</th>\n",
              "      <th>dsc_estrut_fisic_ambiencia</th>\n",
              "      <th>dsc_adap_defic_fisic_idosos</th>\n",
              "      <th>dsc_equipamentos</th>\n",
              "      <th>dsc_medicamentos</th>\n",
              "      <th>data_eq</th>\n",
              "    </tr>\n",
              "  </thead>\n",
              "  <tbody>\n",
              "    <tr>\n",
              "      <th>0</th>\n",
              "      <td>280030</td>\n",
              "      <td>3492</td>\n",
              "      <td>US OSWALDO DE SOUZA</td>\n",
              "      <td>TV ADALTO BOTELHO</td>\n",
              "      <td>GETULIO VARGAS</td>\n",
              "      <td>Aracaju</td>\n",
              "      <td>Desempenho acima da média</td>\n",
              "      <td>Desempenho muito acima da média</td>\n",
              "      <td>Desempenho mediano ou  um pouco abaixo da média</td>\n",
              "      <td>Desempenho acima da média</td>\n",
              "      <td>2017-06-15</td>\n",
              "    </tr>\n",
              "    <tr>\n",
              "      <th>1</th>\n",
              "      <td>270770</td>\n",
              "      <td>6685315</td>\n",
              "      <td>USF ENFERMEIRO PEDRO JACINTO AREA 09</td>\n",
              "      <td>R 15 DE AGOSTO</td>\n",
              "      <td>CENTRO</td>\n",
              "      <td>Rio Largo</td>\n",
              "      <td>Desempenho mediano ou  um pouco abaixo da média</td>\n",
              "      <td>Desempenho mediano ou  um pouco abaixo da média</td>\n",
              "      <td>Desempenho mediano ou  um pouco abaixo da média</td>\n",
              "      <td>Desempenho mediano ou  um pouco abaixo da média</td>\n",
              "      <td>2016-07-18</td>\n",
              "    </tr>\n",
              "    <tr>\n",
              "      <th>2</th>\n",
              "      <td>411885</td>\n",
              "      <td>6811299</td>\n",
              "      <td>UNIDADE DE ATENCAO PRIMARIA SAUDE DA FAMILIA</td>\n",
              "      <td>RUA GUILHERME BRUXEL</td>\n",
              "      <td>CENTRO</td>\n",
              "      <td>Perobal</td>\n",
              "      <td>Desempenho muito acima da média</td>\n",
              "      <td>Desempenho muito acima da média</td>\n",
              "      <td>Desempenho mediano ou  um pouco abaixo da média</td>\n",
              "      <td>Desempenho muito acima da média</td>\n",
              "      <td>2017-09-11</td>\n",
              "    </tr>\n",
              "    <tr>\n",
              "      <th>3</th>\n",
              "      <td>313580</td>\n",
              "      <td>6335616</td>\n",
              "      <td>POSTO DE SAUDE DE BOM JESUS DA ALDEIA</td>\n",
              "      <td>RUA TEOFILO OTONI</td>\n",
              "      <td>ALDEIA</td>\n",
              "      <td>Jequitinhonha</td>\n",
              "      <td>Desempenho mediano ou  um pouco abaixo da média</td>\n",
              "      <td>Desempenho acima da média</td>\n",
              "      <td>Desempenho mediano ou  um pouco abaixo da média</td>\n",
              "      <td>Desempenho mediano ou  um pouco abaixo da média</td>\n",
              "      <td>2017-02-28</td>\n",
              "    </tr>\n",
              "    <tr>\n",
              "      <th>4</th>\n",
              "      <td>250930</td>\n",
              "      <td>6662226</td>\n",
              "      <td>POSTO ANCORA URUBA</td>\n",
              "      <td>RODOVIA PB N 065</td>\n",
              "      <td>SITIO</td>\n",
              "      <td>Mataraca</td>\n",
              "      <td>Desempenho acima da média</td>\n",
              "      <td>Desempenho acima da média</td>\n",
              "      <td>Desempenho mediano ou  um pouco abaixo da média</td>\n",
              "      <td>Desempenho mediano ou  um pouco abaixo da média</td>\n",
              "      <td>2018-06-04</td>\n",
              "    </tr>\n",
              "  </tbody>\n",
              "</table>\n",
              "</div>"
            ],
            "text/plain": [
              "   cod_munic  ...     data_eq\n",
              "0     280030  ...  2017-06-15\n",
              "1     270770  ...  2016-07-18\n",
              "2     411885  ...  2017-09-11\n",
              "3     313580  ...  2017-02-28\n",
              "4     250930  ...  2018-06-04\n",
              "\n",
              "[5 rows x 11 columns]"
            ]
          },
          "metadata": {
            "tags": []
          },
          "execution_count": 134
        }
      ]
    },
    {
      "cell_type": "code",
      "metadata": {
        "colab": {
          "base_uri": "https://localhost:8080/"
        },
        "id": "U3SjWEKNu1Mw",
        "outputId": "8a33f86b-5825-4690-e855-0f43dea53b04"
      },
      "source": [
        "usb.isnull().sum()"
      ],
      "execution_count": 75,
      "outputs": [
        {
          "output_type": "execute_result",
          "data": {
            "text/plain": [
              "cod_munic                        0\n",
              "cod_cnes                         0\n",
              "nom_estab                        0\n",
              "dsc_endereco                     0\n",
              "dsc_bairro                     666\n",
              "dsc_cidade                       0\n",
              "dsc_estrut_fisic_ambiencia       0\n",
              "dsc_adap_defic_fisic_idosos      0\n",
              "dsc_equipamentos                 0\n",
              "dsc_medicamentos                 0\n",
              "data_eq                          0\n",
              "dtype: int64"
            ]
          },
          "metadata": {
            "tags": []
          },
          "execution_count": 75
        }
      ]
    },
    {
      "cell_type": "code",
      "metadata": {
        "colab": {
          "base_uri": "https://localhost:8080/",
          "height": 501
        },
        "id": "BWaVJft6wKjV",
        "outputId": "41e0d905-cbef-4858-b7cf-97158853671e"
      },
      "source": [
        "usb.head()"
      ],
      "execution_count": 92,
      "outputs": [
        {
          "output_type": "execute_result",
          "data": {
            "text/html": [
              "<div>\n",
              "<style scoped>\n",
              "    .dataframe tbody tr th:only-of-type {\n",
              "        vertical-align: middle;\n",
              "    }\n",
              "\n",
              "    .dataframe tbody tr th {\n",
              "        vertical-align: top;\n",
              "    }\n",
              "\n",
              "    .dataframe thead th {\n",
              "        text-align: right;\n",
              "    }\n",
              "</style>\n",
              "<table border=\"1\" class=\"dataframe\">\n",
              "  <thead>\n",
              "    <tr style=\"text-align: right;\">\n",
              "      <th></th>\n",
              "      <th>cod_munic</th>\n",
              "      <th>cod_cnes</th>\n",
              "      <th>nom_estab</th>\n",
              "      <th>dsc_endereco</th>\n",
              "      <th>dsc_bairro</th>\n",
              "      <th>dsc_cidade</th>\n",
              "      <th>dsc_estrut_fisic_ambiencia</th>\n",
              "      <th>dsc_adap_defic_fisic_idosos</th>\n",
              "      <th>dsc_equipamentos</th>\n",
              "      <th>dsc_medicamentos</th>\n",
              "      <th>data_eq</th>\n",
              "      <th>cod_uf</th>\n",
              "    </tr>\n",
              "  </thead>\n",
              "  <tbody>\n",
              "    <tr>\n",
              "      <th>0</th>\n",
              "      <td>280030</td>\n",
              "      <td>3492</td>\n",
              "      <td>US OSWALDO DE SOUZA</td>\n",
              "      <td>TV ADALTO BOTELHO</td>\n",
              "      <td>GETULIO VARGAS</td>\n",
              "      <td>Aracaju</td>\n",
              "      <td>Desempenho acima da média</td>\n",
              "      <td>Desempenho muito acima da média</td>\n",
              "      <td>Desempenho mediano ou  um pouco abaixo da média</td>\n",
              "      <td>Desempenho acima da média</td>\n",
              "      <td>2017-06-15</td>\n",
              "      <td>28</td>\n",
              "    </tr>\n",
              "    <tr>\n",
              "      <th>1</th>\n",
              "      <td>270770</td>\n",
              "      <td>6685315</td>\n",
              "      <td>USF ENFERMEIRO PEDRO JACINTO AREA 09</td>\n",
              "      <td>R 15 DE AGOSTO</td>\n",
              "      <td>CENTRO</td>\n",
              "      <td>Rio Largo</td>\n",
              "      <td>Desempenho mediano ou  um pouco abaixo da média</td>\n",
              "      <td>Desempenho mediano ou  um pouco abaixo da média</td>\n",
              "      <td>Desempenho mediano ou  um pouco abaixo da média</td>\n",
              "      <td>Desempenho mediano ou  um pouco abaixo da média</td>\n",
              "      <td>2016-07-18</td>\n",
              "      <td>27</td>\n",
              "    </tr>\n",
              "    <tr>\n",
              "      <th>2</th>\n",
              "      <td>411885</td>\n",
              "      <td>6811299</td>\n",
              "      <td>UNIDADE DE ATENCAO PRIMARIA SAUDE DA FAMILIA</td>\n",
              "      <td>RUA GUILHERME BRUXEL</td>\n",
              "      <td>CENTRO</td>\n",
              "      <td>Perobal</td>\n",
              "      <td>Desempenho muito acima da média</td>\n",
              "      <td>Desempenho muito acima da média</td>\n",
              "      <td>Desempenho mediano ou  um pouco abaixo da média</td>\n",
              "      <td>Desempenho muito acima da média</td>\n",
              "      <td>2017-09-11</td>\n",
              "      <td>41</td>\n",
              "    </tr>\n",
              "    <tr>\n",
              "      <th>3</th>\n",
              "      <td>313580</td>\n",
              "      <td>6335616</td>\n",
              "      <td>POSTO DE SAUDE DE BOM JESUS DA ALDEIA</td>\n",
              "      <td>RUA TEOFILO OTONI</td>\n",
              "      <td>ALDEIA</td>\n",
              "      <td>Jequitinhonha</td>\n",
              "      <td>Desempenho mediano ou  um pouco abaixo da média</td>\n",
              "      <td>Desempenho acima da média</td>\n",
              "      <td>Desempenho mediano ou  um pouco abaixo da média</td>\n",
              "      <td>Desempenho mediano ou  um pouco abaixo da média</td>\n",
              "      <td>2017-02-28</td>\n",
              "      <td>31</td>\n",
              "    </tr>\n",
              "    <tr>\n",
              "      <th>4</th>\n",
              "      <td>250930</td>\n",
              "      <td>6662226</td>\n",
              "      <td>POSTO ANCORA URUBA</td>\n",
              "      <td>RODOVIA PB N 065</td>\n",
              "      <td>SITIO</td>\n",
              "      <td>Mataraca</td>\n",
              "      <td>Desempenho acima da média</td>\n",
              "      <td>Desempenho acima da média</td>\n",
              "      <td>Desempenho mediano ou  um pouco abaixo da média</td>\n",
              "      <td>Desempenho mediano ou  um pouco abaixo da média</td>\n",
              "      <td>2018-06-04</td>\n",
              "      <td>25</td>\n",
              "    </tr>\n",
              "  </tbody>\n",
              "</table>\n",
              "</div>"
            ],
            "text/plain": [
              "   cod_munic  cod_cnes  ...     data_eq cod_uf\n",
              "0     280030      3492  ...  2017-06-15     28\n",
              "1     270770   6685315  ...  2016-07-18     27\n",
              "2     411885   6811299  ...  2017-09-11     41\n",
              "3     313580   6335616  ...  2017-02-28     31\n",
              "4     250930   6662226  ...  2018-06-04     25\n",
              "\n",
              "[5 rows x 12 columns]"
            ]
          },
          "metadata": {
            "tags": []
          },
          "execution_count": 92
        }
      ]
    },
    {
      "cell_type": "markdown",
      "metadata": {
        "id": "c1t9OyCTqz-A"
      },
      "source": [
        "## 1 Crie uma variável com o código UF (Unidade Federativa) onde as UBS estão localizadas.\r\n",
        "\r\n",
        "A- Quais são os códigos UF presentes no banco de dados?\r\n",
        "\r\n",
        "B- Quais são os códigos UF mais frequentes (os 5 mais frequentes) e com que frequência ocorrem?\r\n",
        "\r\n",
        "C- Quantas cidades existem nessas 5 UFs mais frequentes?\r\n",
        "\r\n",
        "Nota: Os primeiros dois dígitos do código do município representam a UF."
      ]
    },
    {
      "cell_type": "code",
      "metadata": {
        "id": "M6Nrh6kwq9Fn"
      },
      "source": [
        "#cod_uf\r\n",
        "usb['cod_uf'] = usb['cod_munic'].astype(str).apply(lambda x:x[0:2])"
      ],
      "execution_count": 291,
      "outputs": []
    },
    {
      "cell_type": "code",
      "metadata": {
        "id": "t16WQOrQy3XM"
      },
      "source": [
        "usb['cod_uf'] = usb['cod_uf'].astype(int)"
      ],
      "execution_count": 292,
      "outputs": []
    },
    {
      "cell_type": "code",
      "metadata": {
        "colab": {
          "base_uri": "https://localhost:8080/"
        },
        "id": "C3-pyRLuwq5A",
        "outputId": "2e762196-c9fd-468a-aacc-bc0f0f7f58eb"
      },
      "source": [
        "#A\r\n",
        "print(f'As UFs presentes são {usb.cod_uf.unique()}')"
      ],
      "execution_count": 403,
      "outputs": [
        {
          "output_type": "stream",
          "text": [
            "As UFs presentes são [28 27 41 31 25 23 21 13 51 52 42 43 29 26 33 17 11 24 50 22 14 35 15 16\n",
            " 32 12 53]\n"
          ],
          "name": "stdout"
        }
      ]
    },
    {
      "cell_type": "code",
      "metadata": {
        "colab": {
          "base_uri": "https://localhost:8080/"
        },
        "id": "exrUGrjmw4OV",
        "outputId": "764c9f4e-0c38-4664-a8fe-992987686fb1"
      },
      "source": [
        "#B\r\n",
        "print (f'As 5 maiores UFs são {(usb.cod_uf.value_counts().head().values)}')"
      ],
      "execution_count": 410,
      "outputs": [
        {
          "output_type": "stream",
          "text": [
            "As 5 maiores UFs são [4859 4169 3571 2408 2225]\n"
          ],
          "name": "stdout"
        }
      ]
    },
    {
      "cell_type": "code",
      "metadata": {
        "colab": {
          "base_uri": "https://localhost:8080/"
        },
        "id": "f1Kusqugw_5W",
        "outputId": "b74a3f5d-050e-4b51-b22a-ee002df87585"
      },
      "source": [
        "#C\r\n",
        "cidades = usb.query(\"cod_uf==31 | cod_uf==35 | cod_uf==29 | cod_uf==41 | cod_uf==43\")\r\n",
        "lista_cidades = []\r\n",
        "for i in cidades['dsc_cidade'].unique():\r\n",
        "  lista_cidades.append(i)\r\n",
        "\r\n",
        "print (lista_cidades)  \r\n",
        "print (f'A quantidade de cidade é de {len(lista_cidades)}')\r\n",
        "\r\n"
      ],
      "execution_count": 414,
      "outputs": [
        {
          "output_type": "stream",
          "text": [
            "['Perobal', 'Jequitinhonha', 'Doutor Ulysses', 'Ivoti', 'Rio Preto', 'Pojuca', 'Bom Jesus da Lapa', 'Tuneiras do Oeste', 'Pindobaçu', 'Novo Hamburgo', 'São Sepé', 'Marau', 'Guaíba', 'Conselheiro Mairinck', 'Ribeirão das Neves', 'Capelinha', 'Sertão Santana', 'Jaguaripe', 'São José da Varginha', 'Vereda', 'São Manuel', 'Frei Lagonegro', 'Frei Gaspar', 'Arapuá', 'Candeal', 'Conceição da Aparecida', 'Tucano', 'Ibiracatu', 'Martinópolis', 'Arataca', 'Pérola', 'Oliveira', 'Ouro Branco', 'Barão de Cocais', 'São José do Norte', 'Reduto', 'Gavião Peixoto', 'Campo Largo', 'Catiguá', 'Pimenta', 'Piquete', 'Indaiabira', 'Monte Belo do Sul', 'Vitória da Conquista', 'Rio Pardo', 'Londrina', 'Álvares Machado', 'Barro Alto', 'União da Vitória', 'Estiva Gerbi', 'Piquerobi', 'Três Cachoeiras', 'Três de Maio', 'Curitiba', 'Guarulhos', 'Lagoinha', 'Cruzeiro do Iguaçu', 'Pontes Gestal', 'Jequié', 'Arapongas', 'Presidente Tancredo Neves', 'João Monlevade', 'Panambi', 'Caxias do Sul', 'Dom Basílio', 'Campinas do Sul', 'Itatiba', 'Osasco', 'Cruzeiro', 'Itupeva', 'Canápolis', 'Farroupilha', 'Bom Princípio', 'Tomazina', 'Artur Nogueira', 'São João del Rei', 'Novo Tiradentes', 'Barbacena', 'Areado', 'Tamboara', 'São Paulo', 'Ouro Preto', 'Tarumã', 'Marechal Cândido Rondon', 'Ijaci', 'Goioxim', 'Nova Olímpia', 'Lençóis', 'Toledo', 'Itabuna', 'Soledade', 'Espinosa', 'Madre de Deus', 'Marcelino Ramos', 'São Gonçalo dos Campos', 'Sabará', 'Quitandinha', 'Bagé', 'Juatuba', 'Simonésia', 'Colombo', 'Santo Antônio de Jesus', 'Itiúba', 'Pindamonhangaba', 'Feira de Santana', 'Amargosa', 'Jandaíra', 'Porto Seguro', 'Ribeirão Preto', 'Irecê', 'Jiquiriçá', 'Novo Itacolomi', 'Vargem Grande do Sul', 'Itabirito', 'Aratuípe', 'Loanda', 'Medianeira', 'Jarinu', 'Tremedal', 'Campinas', 'Porto Alegre', 'Milagres', 'Verê', 'Santiago', 'Canela', 'Brás Pires', 'Aimorés', 'São Miguel das Matas', 'Jacinto', 'Caravelas', 'Venâncio Aires', 'Varjão de Minas', 'Piracicaba', 'Passo Fundo', 'Conselheiro Lafaiete', 'Sapiranga', 'Boa Vista das Missões', 'Ortigueira', 'Contagem', 'Taubaté', 'Marmelópolis', 'Araucária', 'Vespasiano', 'Banzaê', 'Presidente Bernardes', 'Belo Horizonte', 'Uberlândia', 'São José dos Pinhais', 'Caiana', 'Caputira', 'Janaúba', 'Carambeí', 'Itanhomi', 'Delta', 'Santo Antônio do Rio Abaixo', 'Cedral', 'Prata', 'Boqueirão do Leão', 'Riachão das Neves', 'São Sebastião', 'Iacri', 'Joanópolis', 'Sumaré', 'Ituaçu', 'Montes Claros', 'São Tiago', 'Regente Feijó', 'Alcobaça', 'Caatiba', 'Aparecida', 'Diadema', 'Areiópolis', 'Altônia', 'Candeias', 'Inhambupe', 'Ribeirão Branco', 'Taiúva', 'Jacareí', 'Itapetininga', 'Brotas', 'Charqueadas', 'Porto Ferreira', 'Iguatu', 'Imbituva', 'Abre Campo', 'Pederneiras', 'Santa Rita de Cássia', 'Arvorezinha', 'Itapecerica da Serra', 'Ipanema', 'Santa Juliana', 'Salto da Divisa', 'Chopinzinho', 'Porto Lucena', 'Borrazópolis', 'Senador Cortes', 'Brasópolis', 'Betim', 'São Borja', 'Leme do Prado', 'Lins', 'Serro', 'Laranjeiras do Sul', 'Viçosa', 'Itapebi', 'Cotia', 'Araxá', 'Maragogipe', 'Lapão', 'Teixeira de Freitas', 'Indaiatuba', 'Lavras', 'Guarujá', 'Ibirapuã', 'Pé de Serra', 'Malhada de Pedras', 'Biritinga', 'Porecatu', 'Cachoeira do Sul', 'Cordeiros', 'Ouriçangas', 'Iperó', 'Lauro de Freitas', 'Caldas', 'Guajeru', 'Maracás', 'Santa Teresinha', 'Arinos', 'Ituverava', 'Carmópolis de Minas', 'Rio Grande', 'Alecrim', 'São Gonçalo do Pará', 'Ipaussu', 'Diamantina', 'Erechim', 'Cerqueira César', 'Inhapim', 'Três Corações', 'Pompéia', 'Esmeraldas', 'Ubatuba', 'Mairi', 'Santa Maria', 'Matina', 'Itatim', 'Balneário Pinhal', 'Jussiape', 'São Paulo das Missões', 'Riachão do Jacuípe', 'Nova Araçá', 'Cacequi', 'Nova Odessa', 'São Pedro da União', 'Taquari', 'Mangueirinha', 'Francisco Sá', 'Josenópolis', 'Divinópolis', 'Jacutinga', 'Paraisópolis', 'Serra Dourada', 'Cláudio', 'Pirapora', 'Lapa', 'Nova Resende', 'Valparaíso', 'General Câmara', 'Ronda Alta', 'Barra da Estiva', 'Bom Despacho', 'Jales', 'Sete Lagoas', 'Morro Redondo', 'Nova Pádua', 'Tuparendi', 'Ibipeba', 'Pelotas', 'Ponte Nova', 'Santo Antônio do Caiuá', 'Caratinga', 'Imbaú', 'Paula Freitas', 'Campos Borges', 'Cordisburgo', 'Salinas', 'Dirce Reis', 'Adolfo', 'Itaquaquecetuba', 'Barretos', 'Tumiritinga', 'Mococa', 'Conde', 'Glicério', 'Veranópolis', 'Campo Bom', 'Mogi Mirim', 'Jacupiranga', 'Araraquara', 'Matinhos', 'Teofilândia', 'General Salgado', 'Piranga', 'Santos', 'Santa Rosa da Serra', 'Santa Cruz Cabrália', 'São Domingos do Prata', 'Gongogi', 'Patis', 'Chalé', 'Rio Claro', 'Bom Jesus do Galho', 'Fazenda Rio Grande', 'Guarapuava', 'Lagoa Santa', 'Itarantim', 'Braúna', 'Buenópolis', 'Pitangui', 'Piumhi', 'Jaguarari', 'Uauá', 'Poços de Caldas', 'Januária', 'Ipirá', 'Barra do Choça', 'Itapicuru', 'Itamaraju', 'Astolfo Dutra', 'Jussara', 'Bragança Paulista', 'Ubaitaba', 'Guaíra', 'Ibiá', 'Jardinópolis', 'Mairinque', 'Camaçari', 'Califórnia', 'Santa Adélia', 'Buritis', 'Santo Augusto', 'Jundiaí', 'Bonito', 'Arambaré', 'David Canabarro', 'Sapucaia do Sul', 'Jordânia', 'Santa Helena de Minas', 'Ouro Fino', 'Vieiras', 'Santaluz', 'Barroso', 'Umuarama', 'Rosário do Sul', 'Guaraqueçaba', 'Rio Azul', 'Cruzília', 'Santo Antônio da Patrulha', 'Juquiá', 'Igrejinha', 'Leopoldina', 'Confins', 'Matias Cardoso', 'Miraí', 'Abaré', 'Bertioga', 'Embu-Guaçu', 'Floresta Azul', 'Santo Anastácio', 'Telêmaco Borba', 'Formosa do Oeste', 'Irapuru', 'Clevelândia', 'Valente', 'Itapetinga', 'Mogi das Cruzes', 'Nova Ponte', 'Camaquã', 'São Miguel das Missões', 'Engenheiro Caldas', 'Brasília de Minas', 'Assis Chateaubriand', 'São Bernardo do Campo', 'Presidente Epitácio', 'Carinhanha', 'Cascavel', 'Monjolos', 'Conceição do Jacuípe', 'Colorado', 'Paramirim', 'São Sebastião do Passé', 'Santo Ângelo', 'Claro dos Poções', 'Maiquinique', 'Flores da Cunha', 'Santa Margarida', 'Lima Duarte', 'Júlio Mesquita', 'Serra Negra', 'Diamante do Sul', 'Porteirinha', 'Piedade', 'Madre de Deus de Minas', 'Pitangueiras', 'Cunha', 'Simão Pereira', 'Ressaquinha', 'Presidente Dutra', 'Nordestina', 'Carmo do Paranaíba', 'São Gonçalo do Sapucaí', 'Cruz Alta', 'Cristópolis', 'Estância Velha', 'Cruz das Almas', 'Salvador', 'Cambará do Sul', 'São Mateus do Sul', 'Ubá', 'Pirapozinho', 'Foz do Iguaçu', \"Itapejara d'Oeste\", 'Tuiuti', 'Irati', 'América Dourada', 'Riachinho', 'Terra Nova', 'Santa Rosa', 'Bom Retiro do Sul', 'Licínio de Almeida', 'Alto Rio Doce', 'Guapé', 'Santos Dumont', 'Goianá', 'Machado', 'Marialva', 'Buritirama', 'Pontal', 'Guiricema', 'Oratórios', 'Governador Valadares', 'Tanabi', 'Caetanos', 'Realeza', 'Pedro Alexandre', 'Morada Nova de Minas', 'Boa Esperança do Iguaçu', 'Catuji', 'Jaci', 'Cubatão', 'Caieiras', 'Pinhais', 'Penápolis', 'Timóteo', 'Praia Grande', 'São João da Boa Vista', 'Ipuã', 'São João do Caiuá', 'Antônio Olinto', 'Santo Antônio das Missões', 'Arapoti', 'Itacarambi', 'Araçuaí', 'Bituruna', 'Leme', 'Bernardino de Campos', 'Barra do Ribeiro', 'Marília', 'Sentinela do Sul', 'Dois Lajeados', 'Cosmópolis', 'Pinhal Grande', 'Carangola', 'Itajuípe', 'São Félix do Coribe', 'Paverama', 'Cipó', 'Canoas', 'Cataguases', 'Serrinha', 'Mallet', 'Gameleiras', 'Baependi', 'Coqueiral', 'Itororó', 'Wenceslau Braz', 'Rodelas', 'Castro Alves', 'Tatuí', 'Guará', 'Apucarana', 'Limeira', 'Sacramento', 'Ibititá', 'Buri', 'Nova Canaã', 'São Gotardo', 'Patos de Minas', 'Retirolândia', 'Franca', 'Pirajuí', 'Restinga', 'São José do Herval', 'Pantano Grande', 'Carazinho', 'Elísio Medrado', 'Reginópolis', 'Pará de Minas', 'Flor da Serra do Sul', 'Antônio Dias', 'Bossoroca', 'Miradouro', 'Mirandópolis', 'Periquito', 'Belo Oriente', 'Santa Cruz do Sul', 'Fervedouro', 'Rebouças', 'Brumado', 'Heliodora', 'Altamira do Paraná', 'Dezesseis de Novembro', 'Juiz de Fora', 'Tremembé', 'Carapicuíba', 'Itaobim', 'São Luiz Gonzaga', 'Paiçandu', 'Balsa Nova', 'Jeceaba', 'Santa Isabel do Ivaí', 'Quinta do Sol', 'Primeiro de Maio', 'Santana da Ponte Pensa', 'Pinhalão', 'Nepomuceno', 'Paulo Afonso', 'Serrana', 'Rio Pardo de Minas', 'Barrocas', 'Reserva', 'Ourizona', 'Nova Esperança do Sudoeste', 'Palmeira das Missões', 'Alumínio', 'Fernão', 'Turvo', 'São Miguel Arcanjo', 'Ivaiporã', 'Nova Aurora', 'Pinhalzinho', 'Botelhos', 'Correntina', 'Giruá', 'Minas Novas', 'Arealva', 'Barra', 'Cruzeiro do Sul', 'Rio Pomba', 'Nova Itarana', 'Itanhém', 'Mirante', 'Tanque Novo', 'São Gabriel', 'Conceição do Almeida', 'Rolândia', 'Coração de Maria', 'Boa Vista do Sul', 'Santa Luzia', 'Santo Antônio do Jacinto', 'Orlândia', 'Caconde', 'Macatuba', 'Ladainha', 'Canguçu', 'Resplendor', 'Maquiné', 'Água Fria', 'Sinimbu', 'Ijuí', 'Guimarânia', 'Medina', 'Minduri', 'Lajeado', 'São Nicolau', 'Aporá', 'Vazante', 'Tambaú', 'Dom Pedrito', 'Boa Esperança', 'Manhumirim', 'Rio Real', 'Cipotânea', 'Ibicuí', 'Salto do Lontra', 'Miravânia', 'Candelária', 'São Sebastião do Paraíso', 'Monte Aprazível', 'Santo Amaro', 'Jaú', 'São Jerônimo', 'Mantena', 'Triunfo', 'Muzambinho', 'Tupanciretã', 'General Carneiro', 'Porto Rico', 'Torres', 'Biritiba-Mirim', 'Ponta Grossa', 'Imigrante', 'Ciríaco', 'Cambé', 'Cândido Mota', 'Tibagi', 'Ribeirão do Largo', 'Registro', 'Itabela', 'Botucatu', 'Barbosa', 'Pirangi', 'Juazeiro', 'Irará', 'Gravataí', 'Itaquara', 'Bebedouro', 'Japonvar', 'Mirassol', 'Itanagra', 'São Félix', 'Gabriel Monteiro', 'Óleo', 'Brumadinho', 'Itanhandu', 'Botuporã', 'Miguel Calmon', 'Santa Tereza do Oeste', 'Morro do Chapéu', 'Castro', 'Passos', 'Ourinhos', 'Adustina', 'Franciscópolis', 'Monte Santo de Minas', 'Itaberaba', 'Vacaria', 'Três Coroas', 'Itapevi', 'Ipatinga', 'Miracatu', 'São João do Paraíso', 'Grão Mogol', 'Nazaré', 'Tietê', 'Cornélio Procópio', 'Acaiaca', 'Jaboticaba', 'Palmas', 'Teófilo Otoni', 'Pareci Novo', 'São Pedro do Butiá', 'Barão de Monte Alto', 'Descoberto', 'Pouso Alegre', 'Taquaruçu do Sul', 'Rolante', 'Cruzeiro do Oeste', 'Maringá', 'Mortugaba', 'Dois Córregos', 'Alvorada', \"São Jorge d'Oeste\", 'Campina Grande do Sul', 'Capitão Enéas', 'Vargem Grande Paulista', 'Sarzedo', 'Pavão', 'Roncador', 'Igaratinga', 'Mucuri', 'Ipiranga', 'Iturama', 'São João do Manteninha', 'Guarani', 'Iraquara', 'Itajubá', 'Monsenhor Paulo', 'Bauru', 'Capão da Canoa', 'Ampére', 'Mauá', 'São João do Ivaí', 'Paranaguá', 'Lagoão', 'Funilândia', 'Cravinhos', 'São Vicente', 'Tupanci do Sul', 'Ubiratã', 'São Carlos do Ivaí', 'São João Batista do Glória', 'Itatiaiuçu', 'Ponto Chique', 'Senador Firmino', 'Ubaí', 'Promissão', 'Cássia', 'Ibiporã', 'Capela do Alto', 'Itaú de Minas', 'Garibaldi', 'Mucugê', 'Taiobeiras', 'Cuparaque', 'Pereira Barreto', 'São Gonçalo do Abaeté', 'Ipiaú', 'Alfenas', 'Manoel Vitorino', 'Aurelino Leal', 'Butiá', 'Muriaé', 'Coromandel', 'Carlos Chagas', 'Prudentópolis', 'Rio Novo', 'Pau Brasil', 'Teolândia', 'Macururé', 'Saúde', 'Pedra Bonita', 'Poá', 'Dois Vizinhos', 'Valinhos', 'Comendador Gomes', 'Belo Campo', 'Malhada', 'Alto Jequitibá', 'Caraguatatuba', 'São Bento do Sapucaí', 'Paripiranga', 'Ritápolis', 'Conceição das Alagoas', 'Piranguçu', 'Três Pontas', 'Guanambi', 'Unaí', 'Campina Verde', 'Centralina', 'São João Nepomuceno', 'Ibiaçá', 'Capitão Andrade', 'Alto Caparaó', 'Parobé', 'Maçambara', 'Tapira', 'Aricanduva', 'Juruaia', 'Marumbi', 'Taperoá', 'União da Serra', 'Cabaceiras do Paraguaçu', 'Cerquilho', 'Nilo Peçanha', 'Tapiratiba', 'Arceburgo', 'Serra do Salitre', 'Paulínia', 'Itaqui', 'Mateus Leme', 'Nova Hartz', 'Santa Lúcia', 'Presidente Jânio Quadros', 'Paranacity', 'Formoso', 'Pitanga', 'Charqueada', 'Uibaí', 'Cacique Doble', 'Votorantim', 'Palotina', 'Ruy Barbosa', 'Livramento de Nossa Senhora', 'Astorga', 'Urupês', 'Itaúna', 'Pontal do Paraná', 'Iaçu', 'Alfredo Marcondes', 'Kaloré', 'Medeiros Neto', 'Cruzália', 'Americana', 'Pariquera-Açu', 'Campestre da Serra', 'Olindina', 'Nova Soure', 'Getúlio Vargas', 'Casa Nova', 'São José da Boa Vista', 'Capivari', 'Três Marias', 'São Pedro do Suaçuí', 'Ibirité', 'Várzea da Roça', 'Quaraí', 'Rancharia', 'Ilha Comprida', 'Rio Bom', 'Rio de Contas', 'Planalto', 'Belmiro Braga', 'Paraguaçu Paulista', \"Dias d'Ávila\", 'Presidente Alves', 'Manoel Ribas', 'Ponto Novo', 'Araci', 'Morungaba', 'Bandeirantes', 'Malacacheta', 'Barbosa Ferraz', 'Paranapanema', 'Roque Gonzales', 'Osório', 'Tavares', 'Salto', 'Redentora', 'Nova Tebas', 'Curvelo', 'Inácio Martins', 'São Caetano do Sul', 'Bariri', 'Iguaí', 'Santana do Jacaré', 'Igaraçu do Tietê', 'Cardoso', 'Parisi', 'Itagimirim', 'Novo Horizonte', 'Cachoeira de Pajeú', 'Ibiraci', 'Buritizeiro', 'Monte Alegre dos Campos', 'Itápolis', 'Campina da Lagoa', 'Guanhães', 'Eunápolis', 'São Lourenço', 'Cachoeira', 'Pacaembu', 'Congonhas', 'Barueri', 'Rincão', 'Gurinhatã', 'Salto de Pirapora', 'Sorocaba', 'Argirita', 'Augusto de Lima', 'Nova Prata', 'Paraguaçu', 'Nova Lima', 'Batatais', 'Cafelândia', 'Paineiras', 'Tanhaçu', 'Araras', 'Iporã', 'Caturama', 'Nova Santa Bárbara', 'Restinga Seca', 'Agudo', 'Arroio dos Ratos', 'Coroaci', 'Jeremoabo', 'Serra dos Aimorés', 'Campo Mourão', 'São Geraldo da Piedade', 'Junqueirópolis', 'Jitaúna', 'Sananduva', 'Campo Belo', 'São José da Bela Vista', 'Contenda', 'Carmo da Cachoeira', 'Águas da Prata', 'Gandu', 'São Francisco de Assis', 'Portão', 'São José dos Ausentes', 'Elói Mendes', 'Caraíbas', 'Almenara', 'Araças', 'Manoel Viana', 'Sátiro Dias', 'Várzea do Poço', 'Central de Minas', 'Nova Palma', 'Espumoso', 'Cidade Gaúcha', 'Datas', 'João Ramalho', 'Serrania', 'Juranda', 'Rio Paranaíba', 'Mata de São João', 'Novo Barreiro', 'Itacaré', 'Santana do Livramento', 'Ibotirama', 'Mulungu do Morro', 'Pedreira', \"Palmeira d'Oeste\", 'Cerro Azul', 'Monte Carmelo', 'Mormaço', 'João Pinheiro', 'Potirendaba', 'Almirante Tamandaré do Sul', 'Casca', 'Cedro do Abaeté', 'Quixabeira', 'Socorro', 'Tupã', 'Guaratinga', 'Chácara', 'Itabira', 'Arroio Grande', 'Alambari', 'Senhor do Bonfim', 'Ferraz de Vasconcelos', 'Rubiácea', 'Antônio Prado', 'Santana de Parnaíba', 'Ubaíra', 'Viradouro', 'Conceição do Coité', 'Mercês', 'Caculé', 'Monte Santo', 'Estrela Dalva', 'São José do Divino', 'Barra Longa', 'Luís Eduardo Magalhães', 'Curiúva', 'Carandaí', 'Santo Antônio do Amparo', 'Alagoinhas', 'Coronel Bicaco', 'Virgínia', 'Itanhaém', 'Santo André', 'José Bonifácio', 'Carmo do Cajuru', 'Mandaguari', 'Palmas de Monte Alto', 'Pirassununga', 'Urandi', 'São José dos Campos', 'Jaguaquara', 'São Miguel do Anta', 'Apuarema', 'Ivorá', 'Bocaiúva', 'Curral de Dentro', 'Ventania', 'Palmeira', 'Prudente de Morais', 'São Sebastião da Vargem Alegre', 'Francisco Beltrão', 'Raul Soares', 'Nova Esperança', 'Martins Soares', 'Guaranésia', 'Capim Branco', 'São João do Triunfo', 'Itu', 'Monte Alegre de Minas', 'Santa Rita do Itueto', 'Vargem Bonita', 'Rafael Jambeiro', 'Salto do Jacuí', 'Lavrinhas', 'São José da Barra', 'Charrua', 'Chiapetta', 'Cachoeira de Minas', 'Teixeiras', 'Panorama', 'Fama', 'Itaara', 'Érico Cardoso', 'Guaratinguetá', 'Santo Estêvão', 'Arroio do Tigre', 'Morpará', 'Açucena', 'Amélia Rodrigues', 'Andrelândia', 'Barreiras', 'Bambuí', 'Miguelópolis', 'Varginha', 'Monte Belo', 'Santa Gertrudes', 'Rondon', 'São Leopoldo', 'Prado', 'Pedregulho', 'Bom Sucesso', 'Guaraciaba', 'Cândido Sales', 'Santo Antônio do Monte', 'Piracaia', 'Taboão da Serra', 'Mutum', 'Picada Café', 'Janiópolis', 'Frutal', 'Jacuí', 'Passa Quatro', 'Visconde do Rio Branco', 'Coronel Domingos Soares', 'São José da Lapa', 'Santa Maria do Oeste', 'Santo Antônio da Platina', 'Anagé', 'São Gonçalo do Rio Abaixo', 'Elisiário', 'Natividade da Serra', 'Elias Fausto', 'Catanduva', 'Cândido de Abreu', 'Buritama', 'Torre de Pedra', 'Fernandópolis', 'Cruzeiro da Fortaleza', 'Ribeirão Pires', 'Sebastião Laranjeiras', 'Mesópolis', 'Coaraci', 'Pinheiro Machado', 'Marliéria', 'Gouveia', 'Porto Vitória', 'Manhuaçu', 'Atibaia', 'Pocrane', 'Caetité', 'Nanuque', 'Jucuruçu', 'São Felipe', 'Pato Branco', 'Baixa Grande', 'São Carlos', \"Santa Bárbara d'Oeste\", 'Nova Viçosa', 'Dracena', 'Ribeira do Amparo', 'Lorena', 'Valentim Gentil', 'Coronel João Sá', 'Tunas', 'Central', 'São Vicente do Sul', 'Capanema', 'Paraibuna', 'Bastos', 'Almadina', 'Jandira', 'Itambé do Mato Dentro', 'Guamiranga', 'Alvorada do Sul', 'São Francisco', 'Ibitinga', 'Santana do Itararé', 'Bocaina', 'Teodoro Sampaio', 'Santa Vitória do Palmar', 'Severínia', 'Pedro Leopoldo', 'Nova Prata do Iguaçu', 'Tarumirim', 'Marques de Souza', 'Brejolândia', 'Jaguaraçu', 'Santa Izabel do Oeste', 'Quinze de Novembro', 'Montenegro', 'Sulina', 'Ubatã', 'Aracatu', 'Adamantina', 'Cachoeirinha', 'Várzea Nova', 'Arcos', 'Sarandi', 'Cruzmaltina', 'Tunas do Paraná', 'Novo Triunfo', 'Congonhas do Norte', 'Francisco Morato', 'Constantina', 'São João da Ponte', 'Júlio de Castilhos', 'Entre Rios do Sul', 'Rio Branco do Ivaí', 'Vinhedo', 'Benjamin Constant do Sul', 'Serafina Corrêa', 'Cerro Grande do Sul', 'Patrocínio', 'Colinas', 'Conceição dos Ouros', 'Tocos do Moji', 'Iguatama', 'Ibiúna', 'Galiléia', 'Maetinga', 'Tombos', 'Tijucas do Sul', 'Águas Formosas', 'São Lourenço do Sul', 'Mirangaba', 'Jeriquara', 'Pedra Bela', 'Birigui', 'Marabá Paulista', 'Jambeiro', 'Suzano', 'Garruchos', 'Mutuípe', 'Nova Laranjeiras', 'Jussari', 'Itamonte', 'São João das Missões', 'Mariana', 'Caçapava', 'Piraí do Norte', 'São José da Safira', 'Arujá', 'Descalvado', 'São Romão', 'Lagoa da Prata', 'Paratinga', 'Lafaiete Coutinho', 'Simões Filho', 'Guaraniaçu', 'Conceição do Mato Dentro', 'Jaguariúna', 'Guaimbê', 'Floresta', 'Nazareno', 'Sales', 'Santa Cecília do Sul', 'Iguape', 'Ribeira do Pombal', 'Cambuí', 'Linha Nova', 'Ponto dos Volantes', 'Brochier', 'Franco da Rocha', 'Ituiutaba', 'Nova Londrina', 'Itariri', 'Itaberá', 'Corbélia', 'Santa Cruz da Conceição', 'Japira', 'Vitorino', 'São Joaquim da Barra', 'São José do Hortêncio', 'Faria Lemos', 'Santana do Paraíso', 'Ferros', 'Mirante do Paranapanema', 'Candói', 'São José do Rio Preto', 'Verdelândia', 'Moreira Sales', 'Não-Me-Toque', 'Guidoval', 'Rio Espera', 'São Desidério', 'Santo Antônio do Paraíso', 'Coribe', 'Eldorado do Sul', 'Lajedinho', 'Encruzilhada', 'Boquira', 'São Pedro', 'Jaboticatubas', 'Porto Feliz', 'Macaúbas', \"Estrela d'Oeste\", 'Barra do Rocha', 'Santa Mariana', 'Divinolândia', 'Boa Vista da Aparecida', 'Pedras de Maria da Cruz', 'Segredo', 'Pranchita', 'Viamão', 'Dom Viçoso', 'Pains', 'Ibirapuitã', 'Sertaneja', 'Andradina', 'São Vendelino', 'Dona Eusébia', 'Trindade do Sul', 'Barracão', 'Sertanópolis', 'Rodeiro', 'Mairiporã', 'Taguaí', 'Hortolândia', 'Itararé', 'Monte Mor', 'Corumbataí do Sul', 'Lagoa dos Três Cantos', 'Céu Azul', 'Narandiba', 'Pirapetinga', 'Recreio', 'Piratini', 'Botumirim', 'Westfalia', 'Mariluz', 'Guaraçaí', 'Itapecerica', 'Lunardelli', 'Juramento', 'Bela Vista da Caroba', 'Martinho Campos', 'Engenheiro Beltrão', 'Serra Preta', 'Sengés', 'Urânia', 'Pedro de Toledo', 'Avaré', 'Cabrália Paulista', 'Ernestina', 'Pedro Teixeira', 'Presidente Venceslau', 'Piranguinho', 'Cristina', 'Itaju do Colônia', 'Chapada Gaúcha', 'Floreal', 'Medeiros', 'Paranavaí', 'Coqueiro Baixo', 'Coronel Xavier Chaves', 'Sobrália', 'Sete Barras', 'Araruna', 'Nova Petrópolis', 'Jacarezinho', 'Ibiassucê', 'Alagoa', 'Caranaíba', 'Ipê', 'Areias', 'Porto Barreiro', 'Porto Mauá', 'Itabirinha', 'Luís Antônio', 'Marcionílio Souza', 'Itapé', 'Glória', 'Guaporé', 'Setubinha', 'Conchas', 'Desterro de Entre Rios', 'Euclides da Cunha', 'Teutônia', 'Motuca', 'Cachoeira Dourada', 'Entre Rios', 'Dois Irmãos das Missões', 'Capinópolis', 'Severiano de Almeida', 'Acajutiba', 'Piedade dos Gerais', 'Marmeleiro', 'Cândido Godói', 'Cícero Dantas', 'Santa Cruz do Rio Pardo', 'Tapejara', 'Passabém', 'Poções', 'Coronel Fabriciano', 'Marilac', 'Canarana', 'Utinga', 'Curaçá', 'Carmo do Rio Claro', 'Maria da Fé', 'Várzea Paulista', 'Cairu', 'Terra Roxa', 'Assis', 'Presidente Prudente', 'Barrinha', 'Canavieiras', 'Santana da Boa Vista', 'Saltinho', 'Rubelita', 'Jesuânia', 'Palmeiras', 'Roca Sales', 'Moema', 'Piraí do Sul', 'Taquara', 'Heliópolis', 'Bonfinópolis de Minas', 'Santana do Manhuaçu', 'Santa Bárbara do Monte Verde', 'Campo Alegre de Lourdes', 'Jaguarão', 'Laranjal Paulista', 'Sertãozinho', 'Ilhabela', 'Coronel Vivida', 'Piritiba', 'Belmonte', 'Centenário do Sul', 'São Joaquim de Bicas', 'Luminárias', 'Cruz Machado', 'Lutécia', 'São Gonçalo do Rio Preto', 'Cabreúva', 'Goioerê', 'Varzelândia', 'Gramado', 'Abaeté', 'São Tomé', 'Pedra do Indaiá', 'Itamogi', 'Indiana', 'Saudade do Iguaçu', 'Ingaí', 'Honório Serpa', 'Quatro Barras', 'Carmo da Mata', 'Córrego Fundo', 'Santa Helena', 'Candiba', 'Pompéu', \"Diamante D'Oeste\", 'Araújos', 'Piraju', 'Delfim Moreira', 'Jenipapo de Minas', 'Vera Cruz', 'Xique-Xique', 'Santa Bárbara', 'Cansanção', 'São Jorge do Patrocínio', 'Ibema', 'Urucuia', 'Três Passos', 'Riacho dos Machados', 'Cambira', 'Joaíma', 'Araçatuba', 'Taquaritinga', 'Santo Cristo', 'Guarará', 'Alegrete', 'Uruguaiana', 'Mata Verde', 'Conchal', 'Monte Azul', 'Bento Gonçalves', 'Ivaí', 'Barra do Mendes', 'Estrela', 'Araguari', 'Lajedo do Tabocal', 'Flora Rica', 'Conquista', 'Rio Negro', 'Guaratuba', 'Rafard', 'Campina do Simão', 'Aguanil', 'Riacho de Santana', 'Altinópolis', 'Chorrochó', 'Santa Cruz das Palmeiras', 'Andirá', 'Ouro Verde do Oeste', 'Ouroeste', 'Boa Vista do Tupim', 'Campos Altos', 'Amparo', 'Pilar do Sul', 'Capitão Leônidas Marques', 'Brodowski', 'Perdões', 'Diogo de Vasconcelos', 'São Francisco do Conde', 'Mercedes', 'Remanso', 'Bom Jesus da Serra', 'Campo do Meio', 'Ibaté', 'Formosa do Rio Preto', 'Bicas', 'Ivaté', 'Jataizinho', 'Santa Margarida do Sul', 'Irajuba', 'Cianorte', 'Borebi', 'Neves Paulista', 'Mogi Guaçu', 'Piatã', 'São Valério do Sul', 'Campanha', 'Santana do Riacho', 'Olaria', 'Uberaba', 'Cesário Lange', 'Lontra', 'Brotas de Macaúbas', 'Rubim', 'Além Paraíba', 'Biquinhas', 'Santo Antônio do Aracanguá', 'Xambrê', 'Caeté', 'Alto Paraná', 'Itaverava', 'Aceguá', 'São Luís do Paraitinga', 'Três Barras do Paraná', 'Nova Serrana', 'Frei Inocêncio', 'Bom Jesus do Amparo', 'Espírito Santo do Pinhal', 'Votuporanga', 'Itaperuçu', 'Mostardas', 'Monte Castelo', 'Potim', 'Candiota', 'Serra do Ramalho', 'Perdizes', 'José Gonçalves de Minas', 'Guatapará', 'Uruçuca', 'Souto Soares', 'Rio Grande da Serra', 'Itagi', 'Gentio do Ouro', 'Nova América da Colina', 'Ibaiti', 'Santana do Deserto', 'Encantado', 'Capela do Alto Alegre', 'Novo Cabrais', 'Sobradinho', 'Nuporanga', 'São Roque de Minas', 'Boa Esperança do Sul', 'Santa Brígida', 'Seabra', 'Cristais', 'Lagoa Dourada', 'São José do Sul', 'Godoy Moreira', 'Mendonça', 'Piraquara', 'Iretama', 'Uchoa', 'Ibitiara', 'Esplanada', 'Fernando Prestes', 'São Sebastião da Grama', 'Onda Verde', 'Mendes Pimentel', 'Olímpia', 'Santo Antônio de Posse', 'Anguera', 'Guzolândia', 'Matipó', 'Arroio do Meio', 'Coração de Jesus', 'Brasilândia do Sul', 'Cachoeira Paulista', 'Delfinópolis', 'Fontoura Xavier', 'Aguaí', 'Mundo Novo', 'Jaboticabal', 'Vitória das Missões', 'São João do Polêsine', 'Rondinha', 'Santana', 'Rolador', 'Santa Bárbara do Tugúrio', 'Tabaí', 'Paraíso do Sul', 'Sales Oliveira', 'Ibicaraí', 'Berizal', 'Anhembi', 'Itaguara', 'Bela Vista de Minas', 'São Vicente de Minas', 'Nova Santa Rosa', 'Várzea da Palma', 'Tapiraí', 'Luz', 'Indiaporã', 'Lençóis Paulista', 'Entre Folhas', 'Vale Verde', 'Rio Acima', 'Itaí', 'Engenheiro Navarro', 'Nova Aliança do Ivaí', 'Rio Vermelho', 'Nova União', 'Lavínia', 'Goiabeira', 'Natércia', 'Pindaí', 'Coimbra', 'São José do Jacuípe', 'Ituberá', 'Jacobina', 'Jaguariaíva', 'Antônio Carlos', 'Cristália', 'Embu', 'Cristal', 'Carlos Barbosa', 'Barro Preto', 'Caçapava do Sul', 'Itumirim', 'Itaipé', 'Cananéia', 'Dores do Indaiá', 'Terra Rica', 'Catuti', 'Montalvânia', 'Conceição da Feira', 'Cotegipe', 'Casa Branca', 'Borda da Mata', 'Rancho Alegre', 'Mira Estrela', 'Senador Modestino Gonçalves', 'Palmital', 'Água Santa', 'Alto Alegre', 'Joaquim Távora', 'Florestópolis', 'Pinhal da Serra', 'Rinópolis', 'Itambacuri', 'São João Evangelista', 'Peçanha', 'Garça', 'Pirapora do Bom Jesus', 'Dário Meira', 'São José do Inhacorá', 'Camanducaia', 'Augusto Pestana', 'Ipuiúna', 'São Francisco do Glória', 'Ilhéus', 'Santa Cruz de Salinas', 'Queimadas', 'Itamarati de Minas', 'Pinhal', 'Santa Maria de Itabira', 'Lajinha', 'Vista Alegre do Prata', 'Machadinho', 'Quedas do Iguaçu', 'Olímpio Noronha', 'Buerarema', 'Santa Rita de Ibitipoca', 'Tiros', 'Jandaia do Sul', 'Água Boa', 'Santa Maria da Vitória', 'Alto Paraíso', 'Ninheira', 'Santa Isabel', 'Chapada', 'Lagoa dos Patos', 'Machacalis', 'Santa Terezinha de Itaipu', 'Brasilândia de Minas', 'Chavantes', 'Sítio do Mato', 'Ajuricaba', 'Capão Bonito', 'Caraí', 'Cotiporã', 'Pinhão', 'Ribeirão Vermelho', 'Campo Formoso', 'Lobato', 'Monte Azul Paulista', 'Rubinéia', 'Manfrinópolis', 'Apiaí', 'Mamborê', 'Ibiaí', 'Veríssimo', 'Herculândia', 'Icaraí de Minas', 'Divinésia', 'São João do Manhuaçu', 'Tabocas do Brejo Velho', 'São Tomás de Aquino', 'Itamarandiba', 'Monte Alto', 'Jacaraci', 'Platina', 'Alegria', 'Glaucilândia', 'Gramado Xavier', 'Nova Módica', 'Sagrada Família', 'São Pedro dos Ferros', 'Luislândia', 'Matozinhos', 'Casa Grande', 'Teixeira Soares', 'São Pedro do Iguaçu', 'Morrinhos do Sul', 'Fênix', 'Maximiliano de Almeida', 'Paulicéia', 'Guaxupé', 'Cafezal do Sul', 'Ataléia', 'Lidianópolis', 'Bananal', 'Cajamar', 'Contendas do Sincorá', 'Catu', 'Caseiros', 'Tamarana', 'Morro Agudo', 'Oliveira dos Brejinhos', 'Feliz', 'Cerro Largo', 'Palmitinho', 'Fortaleza dos Valos', 'Ibiraiaras', 'Virginópolis', 'Campos do Jordão', 'Lagoa Real', 'Itaporanga', 'Cristais Paulista', 'Conceição do Rio Verde', \"Rancho Alegre D'Oeste\", 'Sabinópolis', 'São Miguel do Iguaçu', 'Lajeado do Bugre', 'Pindorama', 'Caém', 'Queluzito', 'Pedra Azul', 'Guaraciama', 'Cônego Marinho', 'Campestre', 'Bady Bassitt', 'Rosana', 'Silveira Martins', 'Cambuquira', 'Francisco Alves', 'Almirante Tamandaré', 'Lajedão', 'Pontão', 'Ametista do Sul', 'Tapiramutá', 'Piau', 'Igarapé', 'Santa Vitória', 'Piripá', 'Farol', 'Salgado Filho', 'Santo Inácio', 'Barão de Antonina', 'Montauri', 'Brejões', 'Jequeri', 'Campo do Tenente', 'Gonçalves', 'Rio Piracicaba', 'Santa Cruz de Monte Castelo', 'São Sebastião do Rio Verde', 'Faxinal', 'Patrocínio Paulista', 'Entre Rios de Minas', 'Berilo', 'Oliveira Fortes', 'Sardoá', 'Campos Gerais', 'Terra de Areia', 'Lagoa Grande', 'Três Palmeiras', 'Paulistas', 'Santa Rita de Caldas', 'Santanópolis', 'Figueira', 'Vale Real', 'Ibirá', 'Rio do Pires', 'Altair', 'Filadélfia', 'Mirador', 'Jardim Alegre', 'Echaporã', 'Canaã', 'Abadia dos Dourados', 'Mirabela', 'São João da Lagoa', 'Matelândia', 'Tenente Portela', 'Guapirama', 'Cosmorama', 'Vista Gaúcha', 'Campo Limpo Paulista', 'Itamari', 'Muritiba', 'Santo Antônio do Planalto', 'Palma', 'Urucânia', 'Camamu', 'Guarani das Missões', 'Quatiguá', 'Mariápolis', 'Japaraíba', 'Conceição das Pedras', 'Novo Cruzeiro', 'Taciba', 'Alto Piquiri', 'Fernandes Pinheiro', 'Piên', 'Ribeirão Bonito', 'Andorinha', 'São Francisco de Paula', 'Virgolândia', 'São Roque', 'Colina', 'Reserva do Iguaçu', 'Angatuba', 'Itaeté', 'Veredinha', 'Cana Verde', 'Herval', 'Barra do Turvo', 'Formiga', 'Barra do Chapéu', 'Itatiba do Sul', 'Piracema', 'Sapopema', 'São Domingos das Dores', 'Corinto', 'Mongaguá', 'Presidente Olegário', 'Louveira', 'Monteiro Lobato', 'Três Fronteiras', 'Tramandaí', 'Cajati', 'Ourolândia', 'Ipaba', 'Horizontina', 'Campos Novos Paulista', 'Claraval', 'Condeúba', 'São José do Barreiro', 'Camacan', 'Itambé', 'Caibaté', 'Jaíba', 'Grandes Rios', 'Barra Bonita', 'Doutor Maurício Cardoso', 'Ervália', 'Felisburgo', 'Cidreira', 'São Sebastião do Caí', 'Querência do Norte', 'Uraí', 'Chapada do Norte', 'Lucianópolis', 'Florínia', 'Lassance', 'Frederico Westphalen', 'Ibertioga', 'Wanderley', 'Valença', 'Terra Boa', 'Itapira', 'Peruíbe', 'Fátima', 'Dom Bosco', 'Pedra Dourada', 'Mato Verde', 'Araporã', 'São Marcos', 'Unistalda', 'Santa Efigênia de Minas', 'Pedro Osório', 'Sério', 'Seritinga', 'Estrela do Sul', 'Araçoiaba da Serra', 'Dolcinópolis', 'Coronel Pacheco', 'Macaubal', 'Selbach', 'Conceição do Pará', 'Itaguaçu da Bahia', 'Porangaba', 'Tupãssi', 'Tupandi', 'Serrolândia', 'Ipupiara', 'Rosário do Ivaí', 'Francisco Badaró', 'Guaraci', 'Cocos', 'Paracatu', 'Iporanga', 'Duartina', 'Sem-Peixe', 'Arroio do Sal', 'Ilicínea', 'Sapeaçu', 'São Lourenço da Serra', 'Alpestre', 'Arantina', 'Dom Joaquim', 'Antonina', 'Amaporã', 'Guaiçara', 'Pradópolis', 'Alvinópolis', 'Córrego Novo', 'Santo Antônio do Aventureiro', 'Missal', 'Quatá', 'Paulo Frontin', 'Canudos', 'Poté', 'Bonfim', 'Nova Era', 'Dores do Turvo', 'Maraú', 'Morretes', 'Andradas', 'Iramaia', 'Jequitaí', 'Divisa Alegre', 'Pedra do Anta', 'Peabiru', 'Pouso Alto', 'Bonito de Minas', 'Pedrão', 'Santa Maria do Herval', 'São Pedro do Turvo', 'Monte Alegre do Sul', 'Parapuã', 'Osvaldo Cruz', 'Poço Fundo', 'São João', 'Santa Fé do Sul', 'Iepê', 'Morro do Pilar', 'Coluna', 'Santa Maria do Suaçuí', 'Espírito Santo do Dourado', 'Carmésia', 'Dom Pedro de Alcântara', 'Ponte Preta', 'Bom Repouso', 'Capela de Santana', 'Laranjal', 'Mato Queimado', 'Nova Porteirinha', 'Padre Paraíso', 'Cruzaltense', 'Carneirinho', 'Macarani', 'Fronteira', 'Caiçara', 'Nova Esperança do Sul', 'Formigueiro', 'Inconfidentes', 'Rio Bonito do Iguaçu', 'Nova Granada', 'Iracema do Oeste', 'Carlos Gomes', 'Matias Barbosa', 'Antônio Gonçalves', 'Ibirapitanga', 'Salvador das Missões', 'Bom Sucesso de Itararé', 'Novo Oriente de Minas', 'Seberi', 'Nova Ibiá', 'Itapuí', 'Santa Rita de Jacutinga', 'Cabo Verde', 'Salvador do Sul', 'Paranapuã', 'Paraopeba', 'Paraíso do Norte', 'Bandeira', 'Sericita', 'Itapagipe', 'Monte Sião', 'Rio do Antônio', 'Matão', 'Itaparica', 'Imbé', 'Itirapina', 'São José do Jacuri', 'Águas de Lindóia', 'Juvenília', 'Uruana de Minas', 'Varzedo', 'Esteio', 'Águas Vermelhas', 'Piedade de Ponte Nova', 'Belo Vale', 'Espera Feliz', 'Piraúba', 'Rio Branco do Sul', 'Engenheiro Coelho', 'Campina das Missões', 'Quintana', 'Itaóca', 'Chiador', 'Itirapuã', 'Cajuru', 'Independência', 'Aramari', 'São José das Palmeiras', 'Pouso Novo', 'Nova Aliança', 'Itapeva', 'Santo Antônio do Grama', 'Capetinga', 'Potiraguá', 'Jaborandi', 'Novo Machado', 'Iacanga', 'Pedralva', 'Arco-Íris', 'Boninal', 'Iapu', 'São José das Missões', 'Itapuca', 'Nova Campina', 'Tupaciguara', 'Felixlândia', 'Manga', 'Nova Bréscia', 'Santana da Vargem', 'Icaraíma', 'Iraí de Minas', 'Salesópolis', 'Limeira do Oeste', 'Muitos Capões', 'Marinópolis', 'Jaquirana', 'Catas Altas', 'Inhaúma', 'Santa Branca', 'Jaguapitã', 'Lucélia', 'Itiruçu', 'Firmino Alves', 'Governador Mangabeira', 'Passa Tempo', 'Mombuca', 'Serranos', 'Coxilha', 'Floraí', 'Aiuruoca', 'Guabiju', 'Prado Ferreira', 'Maratá', 'Guararema', 'Santa Rosa de Viterbo', 'Turuçu', 'Guariba', 'União Paulista', 'Ibirataia', 'Corumbataí', 'Capão do Cipó', 'Fagundes Varela', 'Agudos', 'Santa Cruz do Escalvado', 'Nova Castilho', 'Eldorado', 'Itaipulândia', 'Ilha Solteira', 'Ichu', 'Boa Vista do Cadeado', 'Alto Feliz', 'Santa Fé de Minas', 'Itati', 'Braganey', 'Dilermando de Aguiar', 'Palmares do Sul', 'São Pedro do Ivaí', 'São Sebastião da Bela Vista', 'Serra Azul de Minas', 'Planaltina do Paraná', 'Poloni', 'Morro da Garça', 'Bom Jesus da Penha', 'Córrego do Bom Jesus', 'Divino', 'Turiúba', 'João Dourado', 'Mandirituba', 'São Pedro do Sul', 'Holambra', 'Santana do Garambéu', 'Vicente Dutra', 'Paraí', 'Ribeirão Grande', 'Tejupá', 'Estiva', 'Indianópolis', 'Santo Antônio do Sudoeste', 'Antas', 'Icém', 'Pongaí', 'Álvares Florence', 'Enéas Marques', 'Pirapó', 'Cerrito', 'Xangri-lá', 'Jaboti', 'Nhandeara', 'Porto Xavier', 'São João do Pacuí', 'São Valentim do Sul', 'Umburatiba', 'Resende Costa', 'Nova Candelária', 'Mascote', 'Boa Vista do Buricá', 'Jaguari', 'Piedade do Rio Grande', \"Pingo-d'Água\", 'Ribeirão do Sul', 'Cantagalo', 'Sandovalina', 'Carlópolis', 'São Francisco de Sales', 'Boa Nova', 'Senhora dos Remédios', 'Luisburgo', 'Laje', 'Lamarão', 'Capão Bonito do Sul', 'Perdigão', 'Lagoa Vermelha', 'Guapiara', 'Lindoeste', 'Francisco Dumont', 'Dourado', 'Lupionópolis', 'Felício dos Santos', 'Cambará', 'Ipecaetá', 'Nantes', 'Doutor Ricardo', 'Faxinalzinho', 'Jóia', 'Arapeí', 'Mata', 'Lamim', 'Mandaguaçu', 'Salinas da Margarida', 'Iaras', 'Rio Manso', 'Planaltino', 'Feira da Mata', 'Bela Vista do Paraíso', 'Mathias Lobato', 'Itajobi', 'Silveirânia', 'Córrego Danta', 'Santa Fé', 'Santa Cruz de Minas', 'Boa Ventura de São Roque', 'Angical', 'Jardim Olinda', 'Carmo de Minas', 'Ibicoara', 'Guarantã', 'Campo Magro', 'Campanário', 'Senador Salgado Filho', 'Pinheirinho do Vale', 'São João de Iracema', 'Imbé de Minas', 'Conselheiro Pena', 'Virgem da Lapa', 'Matutina', 'Alterosa', 'Douradina', 'Encruzilhada do Sul', 'Salto do Itararé', 'Bom Jesus', 'Santa Inês', 'Lambari', 'Pejuçara', 'Agudos do Sul', 'Crisópolis', 'Baianópolis', 'Bertópolis', 'Ipiguá', 'Senhora do Porto', 'Carbonita', 'Itaguajé', 'Alvorada de Minas', 'Pescador', 'Vera Cruz do Oeste', 'Abaíra', 'Tucunduva', 'Cajuri', 'Mesquita', 'São Brás do Suaçuí', 'Paulo de Faria', 'Santo Antônio da Alegria', 'Braga', 'Turmalina', 'Andaraí', 'Palmares Paulista', 'Rodeio Bonito', 'São João do Oriente', 'Presidente Kubitschek', 'Bom Progresso', 'Ibirubá', 'Cerro Grande', 'Ewbank da Câmara', 'Lagamar', 'São Simão', 'Ibipitanga', 'Santo Antônio do Pinhal', 'Gaurama', 'Nacip Raydan', 'Toropi', 'Santa Rita do Passa Quatro', 'Águas de São Pedro', 'Capitão', 'Antônio Cardoso', 'Cordislândia', 'Passa-Vinte', 'Igrapiúna', 'Cafarnaum', 'Roseira', 'Dionísio', 'Serranópolis do Iguaçu', 'Pardinho', 'Cajobi', 'Dom Silvério', 'Pedrinópolis', 'Araponga', 'Paula Cândido', 'Meridiano', 'Santana dos Montes', 'Mamonas', 'Rifaina', 'Pratápolis', 'Campo Azul', 'Liberato Salzano', 'Pai Pedro', 'Analândia', \"Olhos-d'Água\", 'Fruta de Leite', 'Tabatinga', 'Wenceslau Guimarães', 'Arapuã', 'Caparaó', 'Timburi', 'Ilópolis', 'Alpercata', 'Itueta', 'Muquém de São Francisco', 'Jampruca', 'Quartel Geral', 'Poço das Antas', 'Dom Feliciano', 'Dois Irmãos', 'São Pedro do Paraná', 'Minas do Leão', 'Caiabu', 'Zacarias', 'Itobi', 'Ribeirão Claro', 'Ouro Verde de Minas', 'Itambaracá', 'Murutinga do Sul', 'Igaratá', 'Avanhandava', 'Fronteira dos Vales', 'Bocaina de Minas', 'Ribeira', 'Espírito Santo do Turvo', 'Itacambira', 'Dom Macedo Costa', 'Tupi Paulista', 'Munhoz', 'Coronel Macedo', 'Antônio Prado de Minas', 'Capim Grosso', 'São José do Mantimento', 'Porto Vera Cruz', 'Dores de Campos', 'Maripá', 'Wagner', 'Comercinho', 'Faxinal do Soturno', 'Juquitiba', 'Riolândia', 'Pirajuba', 'Senador Amaral', 'Porto Firme', 'Buritizal', 'Estrela Velha', 'Barra do Rio Azul', 'Coronel Barros', 'Caxambu', 'Floriano Peixoto', 'Anhumas', 'Maracaí', 'Taiaçu', 'Taquaraçu de Minas', 'Aracitaba', 'Cristal do Sul', 'Japurá', 'Santa Rita do Sapucaí', 'Ariranha', 'Alpinópolis', 'Oriente', 'Liberdade', 'Serranópolis de Minas', 'Cardeal da Silva', 'Marquinho', 'Materlândia', 'Campina do Monte Alegre', 'Orizânia', 'São Jerônimo da Serra', 'Tiradentes', 'Rio dos Índios', 'Guapiaçu', 'Capitólio', 'Itapura', 'Cristiano Otoni', 'Mariano Moro', 'Pilão Arcado', 'Balbinos', 'Consolação', 'Nova Santa Rita', 'Sarapuí', 'Conceição de Ipanema', 'Foz do Jordão', 'Palestina', 'São Pedro das Missões', 'Santa Bárbara do Sul', 'Rio Casca', 'Itapitanga', 'Caraá', 'Ubaporanga', 'Gonzaga', 'Guairaçá', 'São João da Mata', 'Mineiros do Tietê', 'Iracemápolis', 'Espigão Alto do Iguaçu', 'Adrianópolis', 'Catanduvas', 'Victor Graeff', 'Nonoai', 'Guarda-Mor', 'Tarabai', 'Queluz', 'Riozinho', 'Vitória Brasil', 'Mampituba', 'Assaí', 'Campo Novo', 'Flórida Paulista', 'Marapoama', 'Taquarituba', 'Populina', 'Nova Independência', 'Presidente Juscelino', 'Una', 'Nova Ramada', 'Tabapuã', 'Caldeirão Grande', 'Planura', 'Chuí', 'Bozano', 'Divisa Nova', 'Quevedos', 'Paranapoema', 'Euclides da Cunha Paulista', 'Jundiaí do Sul', 'Caiuá', 'Romaria', 'Borborema', 'Lindóia', 'Padre Carvalho', 'Extrema', 'Baldim', 'Ubiretama', 'Macedônia', 'Quijingue', 'Putinga', 'Inimutaba', 'Saldanha Marinho', 'Canitar', 'Moeda', 'Erval Seco', 'Pedrinhas Paulista', 'Relvado', 'Forquetinha', 'Congonhinhas', 'Fernandes Tourinho', 'Ibirarema', 'Campo Florido', 'Santa Clara do Sul', 'Patrocínio do Muriaé', 'Igarapava', 'Nova Fátima', 'Coqueiros do Sul', 'Jesuítas', 'Nova Bassano', 'Nova Canaã Paulista', 'Pedranópolis', 'Progresso', 'Harmonia', 'Tanquinho', 'Guaporema', 'Uru', 'Piacatu', 'Lupércio', 'Santa Mercedes', 'Flórida', 'Santa Salete', 'Mirassolândia', 'São Domingos', 'Entre-Ijuís', 'Barão do Triunfo', 'Estrela do Indaiá', 'Divino das Laranjeiras', 'Protásio Alves', 'Muliterno', 'Borá', 'Dona Francisca', 'Ubarana', 'São José do Goiabal', 'Carrancas', 'Carvalhos', 'Pratinha', 'Tabuleiro', 'Senador José Bento', 'Mariópolis', 'Iuiú', 'Sede Nova', 'Raposos', 'Barra do Quaraí', 'Mariana Pimentel', \"Aparecida d'Oeste\", 'Araçariguama', 'Vila Maria', 'Congonhal', 'Vargem Grande do Rio Pardo', 'Nova Cantu', 'Gália', 'Fortuna de Minas', 'Amaral Ferrador', 'Umburanas', 'Tio Hugo', 'Tiradentes do Sul', 'Piratininga', 'Maravilhas', 'Santa Rita de Minas', 'Angelândia', 'Pereiras', 'São Martinho', 'Água Comprida', 'Cordeirópolis', 'Capão do Leão', 'Canudos do Vale', 'Nova Luzitânia', 'Bugre', 'Alvarenga', 'Prados', 'Maripá de Minas', 'Santa Bárbara do Leste', 'Nova Redenção', 'Palmópolis', 'Ângulo', 'Arandu', 'Durandé', 'São Geraldo', 'Senhora de Oliveira', 'Grupiara', 'União de Minas', 'Manduri', 'Centenário', 'Esperança do Sul', 'Igaporã', 'Boituva', 'Itagibá', 'Mato Rico', 'Serra Azul', 'Ivatuba', 'Mar de Espanha', 'Rosário da Limeira', 'Boa Vista do Incra', 'Iraí', 'Ouro Verde', 'Santa Albertina', 'Vargem', 'Embaúba', 'Nazaré Paulista', 'Salto Grande', 'Aramina', 'Pequeri', 'Lourdes', 'Dom Cavati', 'Sarutaiá', 'Santo Antônio do Palma', 'Taparuba', 'Munhoz de Melo', 'Bom Jesus do Sul', 'Pintadas', 'Rio das Pedras', 'São Thomé das Letras', 'Ribeirão do Pinhal', 'Bom Sucesso do Sul', 'Jumirim', 'Braúnas', 'Catolândia', 'Nicolau Vergueiro', 'Getulina', 'Volta Grande', 'Mansidão', 'Sabáudia', 'Três Forquilhas', 'Santa Cruz da Esperança', 'Araçaí', 'Florestal', 'Lindolfo Collor', 'Morro Reuter', 'Uniflor', 'Rio do Prado', 'Cravolândia', 'Montezuma', 'Camacho', 'Luiziana', 'Bueno Brandão', 'Muçum', \"Pérola d'Oeste\", 'Condor', 'Nova Alvorada', 'Barra Funda', 'Santana de Pirapama', 'Pratânia', 'Itutinga', 'São José do Rio Pardo', 'Trabiju', 'Chuvisca', 'Tapes', 'Redenção da Serra', 'Ipiaçu', 'Saubara', 'Sento Sé', 'Viadutos', 'Guararapes', 'Bilac', 'Serra da Saudade', 'Siqueira Campos', 'Bofete', 'Maria Helena', 'Iguaraçu', 'Itaúna do Sul', 'Presidente Lucena', 'Passo do Sobrado', 'Vila Flores', 'Travesseiro', 'Itapirapuã Paulista', 'Novais', 'Crucilândia', 'Muniz Ferreira', 'Divinolândia de Minas', 'Clementina', 'Cerro Branco', 'Paulistânia', 'Engenho Velho', 'Abatiá', 'Bento de Abreu', 'Papagaios', 'Santa Mônica', 'Entre Rios do Oeste', 'São Jorge', 'Fartura', 'Silvianópolis', 'Taquarivaí', 'Bocaiúva do Sul', 'Barão', 'Pedras Altas', 'Jari', 'Itaju', 'Américo de Campos', 'Humaitá', 'Estação', 'Tapera', 'Nova Guataporanga', 'Renascença', 'Eugenópolis', 'Monte Formoso', 'São Domingos do Sul', 'Quarto Centenário', 'Nova Europa', 'Doresópolis', 'Lagoa Formosa', 'Jequitibá', 'São Bento Abade', 'Inhacorá', 'Macajuba', 'Erval Grande', 'Lavras do Sul', 'Nossa Senhora das Graças', 'Queiroz', 'Crisólita', 'Barra do Guarita', 'Santa Maria da Serra', 'Magda', 'Piedade de Caratinga', 'São Sebastião do Oeste', 'José Raydan', 'São José do Ouro', 'Ribeirão Corrente', 'Castilho', 'Vargem Alegre', 'São João das Duas Pontes', 'Itatinga', 'Novorizonte', 'Nova Boa Vista', 'Ribeirão dos Índios', 'Colômbia', 'São Valentim', 'Álvaro de Carvalho', 'Conceição da Barra de Minas', 'Nova Roma do Sul', 'Santa Tereza', 'Monções', 'Gastão Vidigal', 'Quatro Irmãos', 'Silveiras', 'Araricá', 'Leópolis', 'Sítio do Quinto', 'Coroados', 'Barra do Jacaré', 'Estrela do Norte', 'Dores de Guanhães', 'Miraguaí', 'Cândido Rodrigues', 'Boracéia', 'Eugênio de Castro', 'São Sebastião do Maranhão', 'Anahy', 'Turvolândia', 'Vista Alegre do Alto', 'Presidente Castelo Branco', 'Pintópolis', 'Vila Nova do Sul', 'André da Rocha', 'Atalaia', 'São Jorge do Ivaí', 'Itinga', 'Nipoã', 'Cabeceira Grande', 'São Geraldo do Baixio', 'Campo Bonito', 'Gavião', 'Marilena', 'Carvalhópolis', 'Sertão', 'Aspásia', 'Mato Leitão', \"Guarani d'Oeste\", 'Barros Cassal', 'Ocauçu', 'Tocantins', 'São José da Vitória', 'Ipiranga do Sul', 'Catas Altas da Noruega', 'São Sebastião da Amoreira', 'Aiquara', 'Alvinlândia', 'Naque', 'Careaçu', 'Santa Cecília do Pavão', 'Dumont', 'Santópolis do Aguapeí', 'Passa Sete', 'Quadra', 'Joaquim Felício', 'São João da Urtiga', 'Bias Fortes', 'Doutor Camargo', 'Santa Maria do Salto', 'Águas de Santa Bárbara', 'Douradoquara', 'Pinhal de São Bento', 'Mauá da Serra', 'Guareí', 'Vale do Sol', 'Rio Doce', 'Itacurubi', 'Mário Campos', 'Coronel Murta', 'Sete de Setembro', 'Inajá', 'Mato Castelhano', 'Fazenda Vilanova', 'Rochedo de Minas', 'Três Arroios', 'Sud Mennucci', 'Couto de Magalhães de Minas', 'Ibiquera', 'Erebango', 'Esmeralda', 'Capela Nova', 'Jacuizinho', 'Albertina', 'Pequi', 'Camargo', 'Orindiúva', 'Vista Alegre', 'Lagoa Bonita do Sul', 'Torrinha', 'Santa Cruz da Vitória', 'Bálsamo', 'Taquaral', 'Santana de Cataguases', 'Marilândia do Sul', 'Santo Antônio do Retiro', 'Crissiumal', 'Vermelho Novo', 'São Sebastião do Rio Preto', 'Américo Brasiliense', 'Suzanápolis', 'Oscar Bressane', 'Pracinha', 'Inúbia Paulista', 'Canas', 'Amparo do Serra', 'Ibarama', 'Nova Belém', 'Anta Gorda', 'Santo Hipólito', 'Sabino', 'Arroio do Padre', \"Santa Clara d'Oeste\", 'Gramado dos Loureiros', \"São João do Pau d'Alho\", 'Glorinha', 'Quatro Pontes', 'Barão de Cotegipe', 'Novo Xingu', 'Salmourão', 'Desterro do Melo', 'Riversul', 'Pato Bragado', 'Santo Expedito do Sul', 'Natalândia', 'Bom Jardim de Minas', 'Porto Amazonas', 'Pontalinda', 'Ramilândia', 'Joanésia', 'Esperança Nova', 'Hulha Negra', 'São Manoel do Paraná', 'Dobrada', 'Cafeara', 'Virmond', 'Vila Lângaro', 'Cachoeira da Prata', 'Herveiras', 'São Sebastião do Anta', 'Auriflama', 'Ibitiúra de Minas', 'Ariranha do Ivaí', 'Paraíso', 'Santo Expedito', 'Divisópolis', 'Santa Amélia', 'Irapuã', 'Santo Antônio do Jardim', 'Paulo Bento', 'Santa Ernestina', 'Capivari do Sul', 'Sapucaí-Mirim', 'Paim Filho', 'Santo Antônio do Itambé', 'Caetanópolis', 'Emilianópolis', 'Vanini', 'Sagres', 'Avaí', 'Ubirajara', 'Cássia dos Coqueiros', 'Fortaleza de Minas', 'Derrubadas', 'Onça de Pitangui', 'Vespasiano Correa', \"Santa Rita d'Oeste\", 'Sebastianópolis do Sul', 'Brejo Alegre', 'Leandro Ferreira', 'Cascalho Rico', 'Aratiba', 'Coronel Pilar', 'Ibituruna', 'Soledade de Minas', 'Ipeúna', 'São Pedro da Serra', 'Diamante do Norte', 'São Félix de Minas', 'São Martinho da Serra']\n",
            "A quantidade de cidade é de 2754\n"
          ],
          "name": "stdout"
        }
      ]
    },
    {
      "cell_type": "markdown",
      "metadata": {
        "id": "0sMr7Ud7rJ-I"
      },
      "source": [
        "## 2- Existe uma variável de data fictícia (data_eq) no banco de dados criado apenas para este processo de seleção. Crie uma variável com o ano extraído dessa variável.\r\n",
        "\r\n",
        "A- Mostra a distribuição dos registros por ano."
      ]
    },
    {
      "cell_type": "code",
      "metadata": {
        "id": "-cU5ra7xrXY4"
      },
      "source": [
        "usb['ano'] = usb['data_eq'].apply(lambda x: x[0:4])"
      ],
      "execution_count": 169,
      "outputs": []
    },
    {
      "cell_type": "code",
      "metadata": {
        "colab": {
          "base_uri": "https://localhost:8080/",
          "height": 501
        },
        "id": "86HUWU-75Fi-",
        "outputId": "59221173-316b-4dd7-9ec8-656cc9e4abe9"
      },
      "source": [
        "usb.head()"
      ],
      "execution_count": 173,
      "outputs": [
        {
          "output_type": "execute_result",
          "data": {
            "text/html": [
              "<div>\n",
              "<style scoped>\n",
              "    .dataframe tbody tr th:only-of-type {\n",
              "        vertical-align: middle;\n",
              "    }\n",
              "\n",
              "    .dataframe tbody tr th {\n",
              "        vertical-align: top;\n",
              "    }\n",
              "\n",
              "    .dataframe thead th {\n",
              "        text-align: right;\n",
              "    }\n",
              "</style>\n",
              "<table border=\"1\" class=\"dataframe\">\n",
              "  <thead>\n",
              "    <tr style=\"text-align: right;\">\n",
              "      <th></th>\n",
              "      <th>cod_munic</th>\n",
              "      <th>cod_cnes</th>\n",
              "      <th>nom_estab</th>\n",
              "      <th>dsc_endereco</th>\n",
              "      <th>dsc_bairro</th>\n",
              "      <th>dsc_cidade</th>\n",
              "      <th>dsc_telefone</th>\n",
              "      <th>dsc_estrut_fisic_ambiencia</th>\n",
              "      <th>dsc_adap_defic_fisic_idosos</th>\n",
              "      <th>dsc_equipamentos</th>\n",
              "      <th>dsc_medicamentos</th>\n",
              "      <th>data_eq</th>\n",
              "    </tr>\n",
              "  </thead>\n",
              "  <tbody>\n",
              "    <tr>\n",
              "      <th>0</th>\n",
              "      <td>280030</td>\n",
              "      <td>3492</td>\n",
              "      <td>US OSWALDO DE SOUZA</td>\n",
              "      <td>TV ADALTO BOTELHO</td>\n",
              "      <td>GETULIO VARGAS</td>\n",
              "      <td>Aracaju</td>\n",
              "      <td>7931791326</td>\n",
              "      <td>Desempenho acima da média</td>\n",
              "      <td>Desempenho muito acima da média</td>\n",
              "      <td>Desempenho mediano ou  um pouco abaixo da média</td>\n",
              "      <td>Desempenho acima da média</td>\n",
              "      <td>2017-06-15</td>\n",
              "    </tr>\n",
              "    <tr>\n",
              "      <th>1</th>\n",
              "      <td>270770</td>\n",
              "      <td>6685315</td>\n",
              "      <td>USF ENFERMEIRO PEDRO JACINTO AREA 09</td>\n",
              "      <td>R 15 DE AGOSTO</td>\n",
              "      <td>CENTRO</td>\n",
              "      <td>Rio Largo</td>\n",
              "      <td>Não se aplica</td>\n",
              "      <td>Desempenho mediano ou  um pouco abaixo da média</td>\n",
              "      <td>Desempenho mediano ou  um pouco abaixo da média</td>\n",
              "      <td>Desempenho mediano ou  um pouco abaixo da média</td>\n",
              "      <td>Desempenho mediano ou  um pouco abaixo da média</td>\n",
              "      <td>2016-07-18</td>\n",
              "    </tr>\n",
              "    <tr>\n",
              "      <th>2</th>\n",
              "      <td>411885</td>\n",
              "      <td>6811299</td>\n",
              "      <td>UNIDADE DE ATENCAO PRIMARIA SAUDE DA FAMILIA</td>\n",
              "      <td>RUA GUILHERME BRUXEL</td>\n",
              "      <td>CENTRO</td>\n",
              "      <td>Perobal</td>\n",
              "      <td>4436251462</td>\n",
              "      <td>Desempenho muito acima da média</td>\n",
              "      <td>Desempenho muito acima da média</td>\n",
              "      <td>Desempenho mediano ou  um pouco abaixo da média</td>\n",
              "      <td>Desempenho muito acima da média</td>\n",
              "      <td>2017-09-11</td>\n",
              "    </tr>\n",
              "    <tr>\n",
              "      <th>3</th>\n",
              "      <td>313580</td>\n",
              "      <td>6335616</td>\n",
              "      <td>POSTO DE SAUDE DE BOM JESUS DA ALDEIA</td>\n",
              "      <td>RUA TEOFILO OTONI</td>\n",
              "      <td>ALDEIA</td>\n",
              "      <td>Jequitinhonha</td>\n",
              "      <td>3337411423</td>\n",
              "      <td>Desempenho mediano ou  um pouco abaixo da média</td>\n",
              "      <td>Desempenho acima da média</td>\n",
              "      <td>Desempenho mediano ou  um pouco abaixo da média</td>\n",
              "      <td>Desempenho mediano ou  um pouco abaixo da média</td>\n",
              "      <td>2017-02-28</td>\n",
              "    </tr>\n",
              "    <tr>\n",
              "      <th>4</th>\n",
              "      <td>250930</td>\n",
              "      <td>6662226</td>\n",
              "      <td>POSTO ANCORA URUBA</td>\n",
              "      <td>RODOVIA PB N 065</td>\n",
              "      <td>SITIO</td>\n",
              "      <td>Mataraca</td>\n",
              "      <td>Não se aplica</td>\n",
              "      <td>Desempenho acima da média</td>\n",
              "      <td>Desempenho acima da média</td>\n",
              "      <td>Desempenho mediano ou  um pouco abaixo da média</td>\n",
              "      <td>Desempenho mediano ou  um pouco abaixo da média</td>\n",
              "      <td>2018-06-04</td>\n",
              "    </tr>\n",
              "  </tbody>\n",
              "</table>\n",
              "</div>"
            ],
            "text/plain": [
              "   cod_munic  ...     data_eq\n",
              "0     280030  ...  2017-06-15\n",
              "1     270770  ...  2016-07-18\n",
              "2     411885  ...  2017-09-11\n",
              "3     313580  ...  2017-02-28\n",
              "4     250930  ...  2018-06-04\n",
              "\n",
              "[5 rows x 12 columns]"
            ]
          },
          "metadata": {
            "tags": []
          },
          "execution_count": 173
        }
      ]
    },
    {
      "cell_type": "markdown",
      "metadata": {
        "id": "OS-8nHpJrXke"
      },
      "source": [
        "## 3- Crie uma variável com o comprimento do campo do telefone\r\n",
        "\r\n",
        "A - Quais são os comprimentos menos frequentes (os 5 menos frequentes) dos números de telefone?\r\n",
        "\r\n",
        "B- Quantos registros têm um comprimento de telefone diferente de 10? Qual é a porcentagem desse valor considerando o tamanho do banco de dados?\r\n",
        "\r\n",
        "Pergunta bônus: Há informações na variável de telefone que não correspondem a um número de telefone? Em caso afirmativo, remova essas informações."
      ]
    },
    {
      "cell_type": "code",
      "metadata": {
        "id": "oroeYUg0rvff"
      },
      "source": [
        "usb['dsc_telefone_novo'] = usb['dsc_telefone'].str.replace('(', '')"
      ],
      "execution_count": 220,
      "outputs": []
    },
    {
      "cell_type": "code",
      "metadata": {
        "id": "yal9Yjcx7G3K"
      },
      "source": [
        "usb['dsc_telefone_novo'] = usb['dsc_telefone_novo'].str.replace(')', '')"
      ],
      "execution_count": 221,
      "outputs": []
    },
    {
      "cell_type": "code",
      "metadata": {
        "id": "UnA9lwRi7PVW"
      },
      "source": [
        "usb['dsc_telefone_novo']  = usb['dsc_telefone_novo'].str.replace(' ', '')"
      ],
      "execution_count": 222,
      "outputs": []
    },
    {
      "cell_type": "code",
      "metadata": {
        "id": "QMy66F3K8KsH"
      },
      "source": [
        "usb['dsc_telefone_novo']  = usb['dsc_telefone_novo'].str.replace('.', '')"
      ],
      "execution_count": 223,
      "outputs": []
    },
    {
      "cell_type": "code",
      "metadata": {
        "colab": {
          "base_uri": "https://localhost:8080/",
          "height": 501
        },
        "id": "bB1gsVri7ZBa",
        "outputId": "b9c17bd8-76c4-4f41-9f30-71051deb8738"
      },
      "source": [
        "usb.head()"
      ],
      "execution_count": 224,
      "outputs": [
        {
          "output_type": "execute_result",
          "data": {
            "text/html": [
              "<div>\n",
              "<style scoped>\n",
              "    .dataframe tbody tr th:only-of-type {\n",
              "        vertical-align: middle;\n",
              "    }\n",
              "\n",
              "    .dataframe tbody tr th {\n",
              "        vertical-align: top;\n",
              "    }\n",
              "\n",
              "    .dataframe thead th {\n",
              "        text-align: right;\n",
              "    }\n",
              "</style>\n",
              "<table border=\"1\" class=\"dataframe\">\n",
              "  <thead>\n",
              "    <tr style=\"text-align: right;\">\n",
              "      <th></th>\n",
              "      <th>vlr_latitude</th>\n",
              "      <th>vlr_longitude</th>\n",
              "      <th>cod_munic</th>\n",
              "      <th>cod_cnes</th>\n",
              "      <th>nom_estab</th>\n",
              "      <th>dsc_endereco</th>\n",
              "      <th>dsc_bairro</th>\n",
              "      <th>dsc_cidade</th>\n",
              "      <th>dsc_telefone</th>\n",
              "      <th>dsc_estrut_fisic_ambiencia</th>\n",
              "      <th>dsc_adap_defic_fisic_idosos</th>\n",
              "      <th>dsc_equipamentos</th>\n",
              "      <th>dsc_medicamentos</th>\n",
              "      <th>data_eq</th>\n",
              "      <th>dsc_telefone_novo</th>\n",
              "    </tr>\n",
              "  </thead>\n",
              "  <tbody>\n",
              "    <tr>\n",
              "      <th>0</th>\n",
              "      <td>-10.911237</td>\n",
              "      <td>-37.062078</td>\n",
              "      <td>280030</td>\n",
              "      <td>3492</td>\n",
              "      <td>US OSWALDO DE SOUZA</td>\n",
              "      <td>TV ADALTO BOTELHO</td>\n",
              "      <td>GETULIO VARGAS</td>\n",
              "      <td>Aracaju</td>\n",
              "      <td>7931791326</td>\n",
              "      <td>Desempenho acima da média</td>\n",
              "      <td>Desempenho muito acima da média</td>\n",
              "      <td>Desempenho mediano ou  um pouco abaixo da média</td>\n",
              "      <td>Desempenho acima da média</td>\n",
              "      <td>2017-06-15</td>\n",
              "      <td>7931791326</td>\n",
              "    </tr>\n",
              "    <tr>\n",
              "      <th>1</th>\n",
              "      <td>-9.485943</td>\n",
              "      <td>-35.857573</td>\n",
              "      <td>270770</td>\n",
              "      <td>6685315</td>\n",
              "      <td>USF ENFERMEIRO PEDRO JACINTO AREA 09</td>\n",
              "      <td>R 15 DE AGOSTO</td>\n",
              "      <td>CENTRO</td>\n",
              "      <td>Rio Largo</td>\n",
              "      <td>Não se aplica</td>\n",
              "      <td>Desempenho mediano ou  um pouco abaixo da média</td>\n",
              "      <td>Desempenho mediano ou  um pouco abaixo da média</td>\n",
              "      <td>Desempenho mediano ou  um pouco abaixo da média</td>\n",
              "      <td>Desempenho mediano ou  um pouco abaixo da média</td>\n",
              "      <td>2016-07-18</td>\n",
              "      <td>Nãoseaplica</td>\n",
              "    </tr>\n",
              "    <tr>\n",
              "      <th>2</th>\n",
              "      <td>-23.896000</td>\n",
              "      <td>-53.410000</td>\n",
              "      <td>411885</td>\n",
              "      <td>6811299</td>\n",
              "      <td>UNIDADE DE ATENCAO PRIMARIA SAUDE DA FAMILIA</td>\n",
              "      <td>RUA GUILHERME BRUXEL</td>\n",
              "      <td>CENTRO</td>\n",
              "      <td>Perobal</td>\n",
              "      <td>4436251462</td>\n",
              "      <td>Desempenho muito acima da média</td>\n",
              "      <td>Desempenho muito acima da média</td>\n",
              "      <td>Desempenho mediano ou  um pouco abaixo da média</td>\n",
              "      <td>Desempenho muito acima da média</td>\n",
              "      <td>2017-09-11</td>\n",
              "      <td>4436251462</td>\n",
              "    </tr>\n",
              "    <tr>\n",
              "      <th>3</th>\n",
              "      <td>-16.447874</td>\n",
              "      <td>-41.009860</td>\n",
              "      <td>313580</td>\n",
              "      <td>6335616</td>\n",
              "      <td>POSTO DE SAUDE DE BOM JESUS DA ALDEIA</td>\n",
              "      <td>RUA TEOFILO OTONI</td>\n",
              "      <td>ALDEIA</td>\n",
              "      <td>Jequitinhonha</td>\n",
              "      <td>3337411423</td>\n",
              "      <td>Desempenho mediano ou  um pouco abaixo da média</td>\n",
              "      <td>Desempenho acima da média</td>\n",
              "      <td>Desempenho mediano ou  um pouco abaixo da média</td>\n",
              "      <td>Desempenho mediano ou  um pouco abaixo da média</td>\n",
              "      <td>2017-02-28</td>\n",
              "      <td>3337411423</td>\n",
              "    </tr>\n",
              "    <tr>\n",
              "      <th>4</th>\n",
              "      <td>-6.573311</td>\n",
              "      <td>-35.107605</td>\n",
              "      <td>250930</td>\n",
              "      <td>6662226</td>\n",
              "      <td>POSTO ANCORA URUBA</td>\n",
              "      <td>RODOVIA PB N 065</td>\n",
              "      <td>SITIO</td>\n",
              "      <td>Mataraca</td>\n",
              "      <td>Não se aplica</td>\n",
              "      <td>Desempenho acima da média</td>\n",
              "      <td>Desempenho acima da média</td>\n",
              "      <td>Desempenho mediano ou  um pouco abaixo da média</td>\n",
              "      <td>Desempenho mediano ou  um pouco abaixo da média</td>\n",
              "      <td>2018-06-04</td>\n",
              "      <td>Nãoseaplica</td>\n",
              "    </tr>\n",
              "  </tbody>\n",
              "</table>\n",
              "</div>"
            ],
            "text/plain": [
              "   vlr_latitude  vlr_longitude  ...     data_eq  dsc_telefone_novo\n",
              "0    -10.911237     -37.062078  ...  2017-06-15         7931791326\n",
              "1     -9.485943     -35.857573  ...  2016-07-18        Nãoseaplica\n",
              "2    -23.896000     -53.410000  ...  2017-09-11         4436251462\n",
              "3    -16.447874     -41.009860  ...  2017-02-28         3337411423\n",
              "4     -6.573311     -35.107605  ...  2018-06-04        Nãoseaplica\n",
              "\n",
              "[5 rows x 15 columns]"
            ]
          },
          "metadata": {
            "tags": []
          },
          "execution_count": 224
        }
      ]
    },
    {
      "cell_type": "code",
      "metadata": {
        "colab": {
          "base_uri": "https://localhost:8080/"
        },
        "id": "Vrk54l-r7ys8",
        "outputId": "cc3e34ff-7a3f-451b-b546-97f1a4e6244c"
      },
      "source": [
        "#A\r\n",
        "usb['dsc_telefone_novo'].value_counts().tail(10)"
      ],
      "execution_count": 226,
      "outputs": [
        {
          "output_type": "execute_result",
          "data": {
            "text/plain": [
              "1734425396    1\n",
              "5137492000    1\n",
              "3337647088    1\n",
              "4733199146    1\n",
              "845021499     1\n",
              "1633891103    1\n",
              "4936240510    1\n",
              "3233613068    1\n",
              "4532511379    1\n",
              "3888085759    1\n",
              "Name: dsc_telefone_novo, dtype: int64"
            ]
          },
          "metadata": {
            "tags": []
          },
          "execution_count": 226
        }
      ]
    },
    {
      "cell_type": "code",
      "metadata": {
        "id": "hUe7ta7f8vpq"
      },
      "source": [
        "#B\r\n",
        "lista_fone = []\r\n",
        "for i in usb['dsc_telefone_novo']:\r\n",
        "  if len(i) <10:\r\n",
        "    lista_fone.append(i)"
      ],
      "execution_count": 265,
      "outputs": []
    },
    {
      "cell_type": "code",
      "metadata": {
        "colab": {
          "base_uri": "https://localhost:8080/"
        },
        "id": "xbVePYsX-NIw",
        "outputId": "bf6b635d-8d36-442d-f4f8-ffc6ec06b201"
      },
      "source": [
        "#B\r\n",
        "porcentagem = len(lista_fone) / usb.shape[0]\r\n",
        "print (f'A porcentagem foi de {porcentagem*100:.2f} %')\r\n",
        "print (f'A Quantidade de registro foi de {(len(lista_fone))}')"
      ],
      "execution_count": 401,
      "outputs": [
        {
          "output_type": "stream",
          "text": [
            "A porcentagem foi de 16.53 %\n",
            "A Quantidade de registro foi de 6229\n"
          ],
          "name": "stdout"
        }
      ]
    },
    {
      "cell_type": "code",
      "metadata": {
        "id": "tPAi3f-E-jra"
      },
      "source": [
        "#bonus 'não se aplica' removido\r\n",
        "usb['dsc_telefone_novo'] = usb['dsc_telefone_novo'].str.replace('Nãoseaplica', '')\r\n",
        "usb['dsc_telefone_novo']\r\n"
      ],
      "execution_count": null,
      "outputs": []
    },
    {
      "cell_type": "markdown",
      "metadata": {
        "id": "ky0dMgfLr3Gu"
      },
      "source": [
        "## 4- Quantos registros obtiveram desempenho acima ou muito acima da média em relação ao status dos medicamentos? Qual é a porcentagem desse valor considerando o tamanho do banco de dados?"
      ]
    },
    {
      "cell_type": "code",
      "metadata": {
        "colab": {
          "base_uri": "https://localhost:8080/"
        },
        "id": "S2hV6WDxsIX2",
        "outputId": "a7fc25ec-b145-4ea8-c3f6-8f29de9e4508"
      },
      "source": [
        "usb['dsc_medicamentos'].unique()\r\n",
        "\r\n",
        "medicamentos = usb.query(\"dsc_medicamentos=='Desempenho acima da média' | dsc_medicamentos=='Desempenho muito acima da média'\")\r\n",
        "\r\n",
        "medicamentos.shape[0]\r\n",
        "\r\n",
        "porc_medicamentos = medicamentos.shape[0] / usb.shape[0]\r\n",
        "\r\n",
        "print(f'A quantidade de registro foi de {medicamentos.shape[0]} e a porcentagem foi de {porc_medicamentos*100:.2f} %')"
      ],
      "execution_count": 399,
      "outputs": [
        {
          "output_type": "stream",
          "text": [
            "A quantidade de registro foi de 16949 e a porcentagem foi de 44.97 %\n"
          ],
          "name": "stdout"
        }
      ]
    },
    {
      "cell_type": "markdown",
      "metadata": {
        "id": "TwBLDU64sI6_"
      },
      "source": [
        "## 5- Quantos registros na Bahia (código 29) obtiveram desempenho médio em relação à situação dos medicamentos e desempenho acima ou muito acima da média em relação à situação dos equipamentos? Qual é a porcentagem desse valor considerando o tamanho do banco de dados?"
      ]
    },
    {
      "cell_type": "code",
      "metadata": {
        "id": "Exnk_Og5sVn3"
      },
      "source": [
        "bahia = usb[usb['cod_uf']==29]\r\n",
        "bahia['dsc_medicamentos']=='Desempenho mediano ou  um pouco abaixo da média'\r\n",
        "\r\n",
        "\r\n",
        "bahia_filtro =bahia.query(\"dsc_medicamentos=='Desempenho mediano ou  um pouco abaixo da média'\")"
      ],
      "execution_count": 386,
      "outputs": []
    },
    {
      "cell_type": "code",
      "metadata": {
        "colab": {
          "base_uri": "https://localhost:8080/"
        },
        "id": "G_FuA0mwRobF",
        "outputId": "08284b71-983e-41f8-cba9-d958b3330945"
      },
      "source": [
        "bahia['dsc_equipamentos'].unique()"
      ],
      "execution_count": 383,
      "outputs": [
        {
          "output_type": "execute_result",
          "data": {
            "text/plain": [
              "array(['Desempenho mediano ou  um pouco abaixo da média',\n",
              "       'Desempenho acima da média', 'Desempenho muito acima da média'],\n",
              "      dtype=object)"
            ]
          },
          "metadata": {
            "tags": []
          },
          "execution_count": 383
        }
      ]
    },
    {
      "cell_type": "code",
      "metadata": {
        "id": "gN9mCbFwBtpA"
      },
      "source": [
        "bahia_filtro2 = bahia_filtro.query(\"dsc_equipamentos =='Desempenho acima da média'| dsc_equipamentos=='Desempenho muito acima da média'\")"
      ],
      "execution_count": 387,
      "outputs": []
    },
    {
      "cell_type": "code",
      "metadata": {
        "colab": {
          "base_uri": "https://localhost:8080/"
        },
        "id": "4UQ5UASYENt7",
        "outputId": "6f2d5dba-a0ba-4c31-9ce1-4c1d81c2ab3d"
      },
      "source": [
        "numero_bahia = bahia_filtro2.shape[0]\r\n",
        "\r\n",
        "porcentagem_bh = numero_bahia/usb.shape[0]\r\n",
        "print (f'A quantidade de registros do estado da bahia com medicamentos medio para baixo e quantidade de equipamentos acima ou muito acima da media foi de {numero_bahia}')\r\n",
        "print (f'A Porcentagem foi de {porcentagem_bh*100:.2f} % ')"
      ],
      "execution_count": 397,
      "outputs": [
        {
          "output_type": "stream",
          "text": [
            "A quantidade de registros do estado da bahia com medicamentos medio para baixo e quantidade de equipamentos acima ou muito acima da media foi de 207\n",
            "A Porcentagem foi de 0.55 % \n"
          ],
          "name": "stdout"
        }
      ]
    },
    {
      "cell_type": "code",
      "metadata": {
        "id": "-dXx5wccH6eS"
      },
      "source": [
        "print ('')"
      ],
      "execution_count": null,
      "outputs": []
    },
    {
      "cell_type": "markdown",
      "metadata": {
        "id": "2YQCLCK4sVxf"
      },
      "source": [
        "## 6- Quantos registros tiveram o pior desempenho em todas as variáveis ​​que medem as situações de desempenho? Qual é a porcentagem desse valor considerando o tamanho do banco de dados?"
      ]
    },
    {
      "cell_type": "code",
      "metadata": {
        "id": "ZOsYQ9OxuqyF"
      },
      "source": [
        "# dsc_estrut_fisic_ambiencia\tdsc_adap_defic_fisic_idosos\tdsc_equipamentos\tdsc_medicamentos\r\n",
        "baixo_desempenho = usb.query(\"dsc_estrut_fisic_ambiencia=='Desempenho mediano ou  um pouco abaixo da média' and dsc_adap_defic_fisic_idosos=='Desempenho mediano ou  um pouco abaixo da média' and dsc_equipamentos=='Desempenho mediano ou  um pouco abaixo da média' and dsc_medicamentos=='Desempenho mediano ou  um pouco abaixo da média'\")"
      ],
      "execution_count": 353,
      "outputs": []
    },
    {
      "cell_type": "code",
      "metadata": {
        "id": "UP6_8tVkHXhe"
      },
      "source": [
        "porcentagem_desempenho = baixo_desempenho.shape[0] / usb.shape[0]"
      ],
      "execution_count": 372,
      "outputs": []
    },
    {
      "cell_type": "code",
      "metadata": {
        "colab": {
          "base_uri": "https://localhost:8080/"
        },
        "id": "Rljx1GlAFwns",
        "outputId": "f6e13925-e068-4f84-a4d7-9a012463622d"
      },
      "source": [
        "print (f'A quantidade de registros de desempenho em todas as variáveis é de {baixo_desempenho.shape[0]:.2f}')\r\n",
        "print (f'A porcentagem foi de {porcentagem_desempenho*100:.2f} %')"
      ],
      "execution_count": 381,
      "outputs": [
        {
          "output_type": "stream",
          "text": [
            "A quantidade de registros de desempenho em todas as variáveis é de 10317.00\n",
            "A porcentagem foi de 27.37 %\n"
          ],
          "name": "stdout"
        }
      ]
    }
  ]
}